{
 "cells": [
  {
   "cell_type": "code",
   "execution_count": 44,
   "metadata": {},
   "outputs": [
    {
     "data": {
      "text/plain": [
       "'/home/ezetap-eze10194/Android/Sdk/tools/bin/avdmanager'"
      ]
     },
     "execution_count": 44,
     "metadata": {},
     "output_type": "execute_result"
    }
   ],
   "source": [
    "em.avd_manager_path "
   ]
  },
  {
   "cell_type": "code",
   "execution_count": 5,
   "metadata": {},
   "outputs": [
    {
     "data": {
      "text/plain": [
       "['Emulator_2_Nexus_6_API_31', 'myAVD01', 'newavd', 'Nexus_6_API_31', 'testAVD']"
      ]
     },
     "execution_count": 5,
     "metadata": {},
     "output_type": "execute_result"
    }
   ],
   "source": [
    "[av['Name'] for av in em.list_avds()]"
   ]
  },
  {
   "cell_type": "code",
   "execution_count": 3,
   "metadata": {},
   "outputs": [
    {
     "data": {
      "text/plain": [
       "\"Parsing /home/ezetap-eze10194/Android/Sdk/build-tools/30.0.3/package.xmlParsing /home/ezetap-eze10194/Android/Sdk/build-tools/32.0.0/package.xmlParsing /home/ezetap-eze10194/Android/Sdk/build-tools/32.1.0-rc1/package.xmlParsing /home/ezetap-eze10194/Android/Sdk/emulator/package.xmlParsing /home/ezetap-eze10194/Android/Sdk/ndk/25.1.8937393/package.xmlParsing /home/ezetap-eze10194/Android/Sdk/patcher/v4/package.xmlParsing /home/ezetap-eze10194/Android/Sdk/platform-tools/package.xmlParsing /home/ezetap-eze10194/Android/Sdk/platforms/android-32/package.xmlParsing /home/ezetap-eze10194/Android/Sdk/sources/android-32/package.xmlParsing /home/ezetap-eze10194/Android/Sdk/system-images/android-29/google_apis/x86/package.xmlParsing /home/ezetap-eze10194/Android/Sdk/system-images/android-31/google_apis/x86_64/package.xmlParsing /home/ezetap-eze10194/Android/Sdk/tools/package.xmlDeleting file /home/ezetap-eze10194/.android/avd/testAVD.ini\\nDeleting folder /home/ezetap-eze10194/.android/avd/testAVD.avd\\n\\nAVD 'testAVD' deleted.\""
      ]
     },
     "execution_count": 3,
     "metadata": {},
     "output_type": "execute_result"
    },
    {
     "name": "stderr",
     "output_type": "stream",
     "text": [
      "WARNING | State saving failed, cleaning out the snapshot.\n"
     ]
    },
    {
     "name": "stdout",
     "output_type": "stream",
     "text": [
      "INFO    | Deleting snapshot default_boot\n",
      "INFO    | Critical: Failed to load https://maps.googleapis.com/maps/api/mapsjs/gen_204?csp_test=true: The 'Access-Control-Allow-Origin' header has a value 'qrc://' that is not equal to the supplied origin. Origin 'qrc://' is therefore not allowed access. (qrc:/html/js/common.js:0, (null))\n",
      "\n",
      "INFO    | Critical: Failed to load https://maps.googleapis.com/maps/api/mapsjs/gen_204?csp_test=true: The 'Access-Control-Allow-Origin' header has a value 'qrc://' that is not equal to the supplied origin. Origin 'qrc://' is therefore not allowed access. (qrc:/html/js/common.js:0, (null))\n",
      "\n",
      "INFO    | Deleting snapshot default_boot\n"
     ]
    },
    {
     "name": "stderr",
     "output_type": "stream",
     "text": [
      "WARNING | Failed to open .ini file /home/ezetap-eze10194/.android/avd/testAVD.avd/quickbootChoice.ini for writing.\n"
     ]
    },
    {
     "name": "stdout",
     "output_type": "stream",
     "text": [
      "INFO    | Shutting down gRPC endpoint\n",
      "INFO    | Shutting down gRPC endpoint\n",
      "INFO    | Closing down rootcanal.\n"
     ]
    },
    {
     "name": "stderr",
     "output_type": "stream",
     "text": [
      "WARNING | Failed to open .ini file /home/ezetap-eze10194/.android/avd/testAVD.avd/emulator-user.ini for writing.\n",
      "ERROR   | Unable to write to file /home/ezetap-eze10194/.android/avd/testAVD.avd/modem_simulator/modem_nvram.json\n"
     ]
    }
   ],
   "source": [
    "em.kill()  # stoppping emulator\n",
    "em.delete()  # deleting emulator"
   ]
  },
  {
   "cell_type": "code",
   "execution_count": 1,
   "metadata": {},
   "outputs": [
    {
     "name": "stderr",
     "output_type": "stream",
     "text": [
      "Warning: Mapping new ns http://schemas.android.com/repository/android/common/02 to old ns http://schemas.android.com/repository/android/common/01\n",
      "Warning: Mapping new ns http://schemas.android.com/repository/android/generic/02 to old ns http://schemas.android.com/repository/android/generic/01\n",
      "Warning: Mapping new ns http://schemas.android.com/sdk/android/repo/addon2/02 to old ns http://schemas.android.com/sdk/android/repo/addon2/01\n",
      "Warning: Mapping new ns http://schemas.android.com/sdk/android/repo/addon2/03 to old ns http://schemas.android.com/sdk/android/repo/addon2/01\n",
      "Warning: Mapping new ns http://schemas.android.com/sdk/android/repo/repository2/02 to old ns http://schemas.android.com/sdk/android/repo/repository2/01\n",
      "Warning: Mapping new ns http://schemas.android.com/sdk/android/repo/repository2/03 to old ns http://schemas.android.com/sdk/android/repo/repository2/01\n",
      "Warning: Mapping new ns http://schemas.android.com/sdk/android/repo/sys-img2/03 to old ns http://schemas.android.com/sdk/android/repo/sys-img2/01\n",
      "Warning: Mapping new ns http://schemas.android.com/sdk/android/repo/sys-img2/02 to old ns http://schemas.android.com/sdk/android/repo/sys-img2/01\n",
      "Warning: Mapping new ns http://schemas.android.com/repository/android/common/02 to old ns http://schemas.android.com/repository/android/common/01\n",
      "Warning: Mapping new ns http://schemas.android.com/repository/android/generic/02 to old ns http://schemas.android.com/repository/android/generic/01\n",
      "Warning: Mapping new ns http://schemas.android.com/sdk/android/repo/addon2/02 to old ns http://schemas.android.com/sdk/android/repo/addon2/01\n",
      "Warning: Mapping new ns http://schemas.android.com/sdk/android/repo/addon2/03 to old ns http://schemas.android.com/sdk/android/repo/addon2/01\n",
      "Warning: Mapping new ns http://schemas.android.com/sdk/android/repo/repository2/02 to old ns http://schemas.android.com/sdk/android/repo/repository2/01\n",
      "Warning: Mapping new ns http://schemas.android.com/sdk/android/repo/repository2/03 to old ns http://schemas.android.com/sdk/android/repo/repository2/01\n",
      "Warning: Mapping new ns http://schemas.android.com/sdk/android/repo/sys-img2/03 to old ns http://schemas.android.com/sdk/android/repo/sys-img2/01\n",
      "Warning: Mapping new ns http://schemas.android.com/sdk/android/repo/sys-img2/02 to old ns http://schemas.android.com/sdk/android/repo/sys-img2/01\n",
      "Warning: Mapping new ns http://schemas.android.com/repository/android/common/02 to old ns http://schemas.android.com/repository/android/common/01\n",
      "Warning: Mapping new ns http://schemas.android.com/repository/android/generic/02 to old ns http://schemas.android.com/repository/android/generic/01\n",
      "Warning: Mapping new ns http://schemas.android.com/sdk/android/repo/addon2/02 to old ns http://schemas.android.com/sdk/android/repo/addon2/01\n",
      "Warning: Mapping new ns http://schemas.android.com/sdk/android/repo/addon2/03 to old ns http://schemas.android.com/sdk/android/repo/addon2/01\n",
      "Warning: Mapping new ns http://schemas.android.com/sdk/android/repo/repository2/02 to old ns http://schemas.android.com/sdk/android/repo/repository2/01\n",
      "Warning: Mapping new ns http://schemas.android.com/sdk/android/repo/repository2/03 to old ns http://schemas.android.com/sdk/android/repo/repository2/01\n",
      "Warning: Mapping new ns http://schemas.android.com/sdk/android/repo/sys-img2/03 to old ns http://schemas.android.com/sdk/android/repo/sys-img2/01\n",
      "Warning: Mapping new ns http://schemas.android.com/sdk/android/repo/sys-img2/02 to old ns http://schemas.android.com/sdk/android/repo/sys-img2/01\n",
      "Warning: Mapping new ns http://schemas.android.com/repository/android/common/02 to old ns http://schemas.android.com/repository/android/common/01\n",
      "Warning: Mapping new ns http://schemas.android.com/repository/android/generic/02 to old ns http://schemas.android.com/repository/android/generic/01\n",
      "Warning: Mapping new ns http://schemas.android.com/sdk/android/repo/addon2/02 to old ns http://schemas.android.com/sdk/android/repo/addon2/01\n",
      "Warning: Mapping new ns http://schemas.android.com/sdk/android/repo/addon2/03 to old ns http://schemas.android.com/sdk/android/repo/addon2/01\n",
      "Warning: Mapping new ns http://schemas.android.com/sdk/android/repo/repository2/02 to old ns http://schemas.android.com/sdk/android/repo/repository2/01\n",
      "Warning: Mapping new ns http://schemas.android.com/sdk/android/repo/repository2/03 to old ns http://schemas.android.com/sdk/android/repo/repository2/01\n",
      "Warning: Mapping new ns http://schemas.android.com/sdk/android/repo/sys-img2/03 to old ns http://schemas.android.com/sdk/android/repo/sys-img2/01\n",
      "Warning: Mapping new ns http://schemas.android.com/sdk/android/repo/sys-img2/02 to old ns http://schemas.android.com/sdk/android/repo/sys-img2/01\n",
      "Warning: Mapping new ns http://schemas.android.com/repository/android/common/02 to old ns http://schemas.android.com/repository/android/common/01\n",
      "Warning: Mapping new ns http://schemas.android.com/repository/android/generic/02 to old ns http://schemas.android.com/repository/android/generic/01\n",
      "Warning: Mapping new ns http://schemas.android.com/sdk/android/repo/addon2/02 to old ns http://schemas.android.com/sdk/android/repo/addon2/01\n",
      "Warning: Mapping new ns http://schemas.android.com/sdk/android/repo/addon2/03 to old ns http://schemas.android.com/sdk/android/repo/addon2/01\n",
      "Warning: Mapping new ns http://schemas.android.com/sdk/android/repo/repository2/02 to old ns http://schemas.android.com/sdk/android/repo/repository2/01\n",
      "Warning: Mapping new ns http://schemas.android.com/sdk/android/repo/repository2/03 to old ns http://schemas.android.com/sdk/android/repo/repository2/01\n",
      "Warning: Mapping new ns http://schemas.android.com/sdk/android/repo/sys-img2/03 to old ns http://schemas.android.com/sdk/android/repo/sys-img2/01\n",
      "Warning: Mapping new ns http://schemas.android.com/sdk/android/repo/sys-img2/02 to old ns http://schemas.android.com/sdk/android/repo/sys-img2/01\n",
      "Warning: Mapping new ns http://schemas.android.com/repository/android/common/02 to old ns http://schemas.android.com/repository/android/common/01\n",
      "Warning: Mapping new ns http://schemas.android.com/repository/android/generic/02 to old ns http://schemas.android.com/repository/android/generic/01\n",
      "Warning: Mapping new ns http://schemas.android.com/sdk/android/repo/addon2/02 to old ns http://schemas.android.com/sdk/android/repo/addon2/01\n",
      "Warning: Mapping new ns http://schemas.android.com/sdk/android/repo/addon2/03 to old ns http://schemas.android.com/sdk/android/repo/addon2/01\n",
      "Warning: Mapping new ns http://schemas.android.com/sdk/android/repo/repository2/02 to old ns http://schemas.android.com/sdk/android/repo/repository2/01\n",
      "Warning: Mapping new ns http://schemas.android.com/sdk/android/repo/repository2/03 to old ns http://schemas.android.com/sdk/android/repo/repository2/01\n",
      "Warning: Mapping new ns http://schemas.android.com/sdk/android/repo/sys-img2/03 to old ns http://schemas.android.com/sdk/android/repo/sys-img2/01\n",
      "Warning: Mapping new ns http://schemas.android.com/sdk/android/repo/sys-img2/02 to old ns http://schemas.android.com/sdk/android/repo/sys-img2/01\n",
      "Warning: Mapping new ns http://schemas.android.com/repository/android/common/02 to old ns http://schemas.android.com/repository/android/common/01\n",
      "Warning: Mapping new ns http://schemas.android.com/repository/android/generic/02 to old ns http://schemas.android.com/repository/android/generic/01\n",
      "Warning: Mapping new ns http://schemas.android.com/sdk/android/repo/addon2/02 to old ns http://schemas.android.com/sdk/android/repo/addon2/01\n",
      "Warning: Mapping new ns http://schemas.android.com/sdk/android/repo/addon2/03 to old ns http://schemas.android.com/sdk/android/repo/addon2/01\n",
      "Warning: Mapping new ns http://schemas.android.com/sdk/android/repo/repository2/02 to old ns http://schemas.android.com/sdk/android/repo/repository2/01\n",
      "Warning: Mapping new ns http://schemas.android.com/sdk/android/repo/repository2/03 to old ns http://schemas.android.com/sdk/android/repo/repository2/01\n",
      "Warning: Mapping new ns http://schemas.android.com/sdk/android/repo/sys-img2/03 to old ns http://schemas.android.com/sdk/android/repo/sys-img2/01\n",
      "Warning: Mapping new ns http://schemas.android.com/sdk/android/repo/sys-img2/02 to old ns http://schemas.android.com/sdk/android/repo/sys-img2/01\n",
      "Warning: Mapping new ns http://schemas.android.com/repository/android/common/02 to old ns http://schemas.android.com/repository/android/common/01\n",
      "Warning: Mapping new ns http://schemas.android.com/repository/android/generic/02 to old ns http://schemas.android.com/repository/android/generic/01\n",
      "Warning: Mapping new ns http://schemas.android.com/sdk/android/repo/addon2/02 to old ns http://schemas.android.com/sdk/android/repo/addon2/01\n",
      "Warning: Mapping new ns http://schemas.android.com/sdk/android/repo/addon2/03 to old ns http://schemas.android.com/sdk/android/repo/addon2/01\n",
      "Warning: Mapping new ns http://schemas.android.com/sdk/android/repo/repository2/02 to old ns http://schemas.android.com/sdk/android/repo/repository2/01\n",
      "Warning: Mapping new ns http://schemas.android.com/sdk/android/repo/repository2/03 to old ns http://schemas.android.com/sdk/android/repo/repository2/01\n",
      "Warning: Mapping new ns http://schemas.android.com/sdk/android/repo/sys-img2/03 to old ns http://schemas.android.com/sdk/android/repo/sys-img2/01\n",
      "Warning: Mapping new ns http://schemas.android.com/sdk/android/repo/sys-img2/02 to old ns http://schemas.android.com/sdk/android/repo/sys-img2/01\n",
      "Warning: cvc-complex-type.2.4.a: Invalid content was found starting with element 'base-extension'. One of '{layoutlib}' is expected.\n",
      "org.xml.sax.SAXParseException; lineNumber: 141; columnNumber: 252; cvc-complex-type.2.4.a: Invalid content was found starting with element 'base-extension'. One of '{layoutlib}' is expected.\n",
      "\tat com.sun.org.apache.xerces.internal.util.ErrorHandlerWrapper.createSAXParseException(ErrorHandlerWrapper.java:204)\n",
      "\tat com.sun.org.apache.xerces.internal.util.ErrorHandlerWrapper.error(ErrorHandlerWrapper.java:135)\n",
      "\tat com.sun.org.apache.xerces.internal.impl.XMLErrorReporter.reportError(XMLErrorReporter.java:395)\n",
      "\tat com.sun.org.apache.xerces.internal.impl.XMLErrorReporter.reportError(XMLErrorReporter.java:326)\n",
      "\tat com.sun.org.apache.xerces.internal.impl.XMLErrorReporter.reportError(XMLErrorReporter.java:283)\n",
      "\tat com.sun.org.apache.xerces.internal.impl.xs.XMLSchemaValidator$XSIErrorReporter.reportError(XMLSchemaValidator.java:453)\n",
      "\tat com.sun.org.apache.xerces.internal.impl.xs.XMLSchemaValidator.reportSchemaError(XMLSchemaValidator.java:3231)\n",
      "\tat com.sun.org.apache.xerces.internal.impl.xs.XMLSchemaValidator.handleStartElement(XMLSchemaValidator.java:1791)\n",
      "\tat com.sun.org.apache.xerces.internal.impl.xs.XMLSchemaValidator.startElement(XMLSchemaValidator.java:741)\n",
      "\tat com.sun.org.apache.xerces.internal.jaxp.validation.ValidatorHandlerImpl.startElement(ValidatorHandlerImpl.java:567)\n",
      "\tat com.sun.xml.internal.bind.v2.runtime.unmarshaller.ValidatingUnmarshaller.startElement(ValidatingUnmarshaller.java:86)\n",
      "\tat com.sun.xml.internal.bind.v2.runtime.unmarshaller.SAXConnector.startElement(SAXConnector.java:153)\n",
      "\tat org.xml.sax.helpers.XMLFilterImpl.startElement(XMLFilterImpl.java:551)\n",
      "\tat com.android.repository.impl.meta.SchemaModuleUtil$NamespaceFallbackFilter.startElement(SchemaModuleUtil.java:403)\n",
      "\tat com.sun.org.apache.xerces.internal.parsers.AbstractSAXParser.startElement(AbstractSAXParser.java:509)\n",
      "\tat com.sun.org.apache.xerces.internal.impl.XMLNSDocumentScannerImpl.scanStartElement(XMLNSDocumentScannerImpl.java:374)\n",
      "\tat com.sun.org.apache.xerces.internal.impl.XMLDocumentFragmentScannerImpl$FragmentContentDriver.next(XMLDocumentFragmentScannerImpl.java:2783)\n",
      "\tat com.sun.org.apache.xerces.internal.impl.XMLDocumentScannerImpl.next(XMLDocumentScannerImpl.java:601)\n",
      "\tat com.sun.org.apache.xerces.internal.impl.XMLNSDocumentScannerImpl.next(XMLNSDocumentScannerImpl.java:112)\n",
      "\tat com.sun.org.apache.xerces.internal.impl.XMLDocumentFragmentScannerImpl.scanDocument(XMLDocumentFragmentScannerImpl.java:504)\n",
      "\tat com.sun.org.apache.xerces.internal.parsers.XML11Configuration.parse(XML11Configuration.java:841)\n",
      "\tat com.sun.org.apache.xerces.internal.parsers.XML11Configuration.parse(XML11Configuration.java:770)\n",
      "\tat com.sun.org.apache.xerces.internal.parsers.XMLParser.parse(XMLParser.java:141)\n",
      "\tat com.sun.org.apache.xerces.internal.parsers.AbstractSAXParser.parse(AbstractSAXParser.java:1213)\n",
      "\tat com.sun.org.apache.xerces.internal.jaxp.SAXParserImpl$JAXPSAXParser.parse(SAXParserImpl.java:642)\n",
      "\tat org.xml.sax.helpers.XMLFilterImpl.parse(XMLFilterImpl.java:357)\n",
      "\tat com.sun.xml.internal.bind.v2.runtime.unmarshaller.UnmarshallerImpl.unmarshal0(UnmarshallerImpl.java:243)\n",
      "\tat com.sun.xml.internal.bind.v2.runtime.unmarshaller.UnmarshallerImpl.unmarshal(UnmarshallerImpl.java:214)\n",
      "\tat javax.xml.bind.helpers.AbstractUnmarshallerImpl.unmarshal(AbstractUnmarshallerImpl.java:140)\n",
      "\tat javax.xml.bind.helpers.AbstractUnmarshallerImpl.unmarshal(AbstractUnmarshallerImpl.java:123)\n",
      "\tat com.android.repository.impl.meta.SchemaModuleUtil.unmarshal(SchemaModuleUtil.java:196)\n",
      "\tat com.android.repository.impl.manager.LocalRepoLoaderImpl.parsePackage(LocalRepoLoaderImpl.java:301)\n",
      "\tat com.android.repository.impl.manager.LocalRepoLoaderImpl.parsePackages(LocalRepoLoaderImpl.java:159)\n",
      "\tat com.android.repository.impl.manager.LocalRepoLoaderImpl.getPackages(LocalRepoLoaderImpl.java:124)\n",
      "\tat com.android.repository.impl.manager.RepoManagerImpl$LoadTask.run(RepoManagerImpl.java:518)\n",
      "\tat com.android.repository.api.RepoManager$DummyProgressRunner.runSyncWithProgress(RepoManager.java:397)\n",
      "\tat com.android.repository.impl.manager.RepoManagerImpl.load(RepoManagerImpl.java:365)\n",
      "\tat com.android.repository.api.RepoManager.loadSynchronously(RepoManager.java:290)\n",
      "\tat com.android.sdklib.repository.AndroidSdkHandler$RepoConfig.createRepoManager(AndroidSdkHandler.java:725)\n",
      "\tat com.android.sdklib.repository.AndroidSdkHandler.getSdkManager(AndroidSdkHandler.java:296)\n",
      "\tat com.android.sdklib.repository.AndroidSdkHandler.getLocalPackage(AndroidSdkHandler.java:355)\n",
      "\tat com.android.sdklib.tool.AvdManagerCli.createAvd(AvdManagerCli.java:675)\n",
      "\tat com.android.sdklib.tool.AvdManagerCli.doAction(AvdManagerCli.java:386)\n",
      "\tat com.android.sdklib.tool.AvdManagerCli.run(AvdManagerCli.java:215)\n",
      "\tat com.android.sdklib.tool.AvdManagerCli.main(AvdManagerCli.java:200)\n",
      "Warning: unexpected element (uri:\"\", local:\"base-extension\"). Expected elements are <{}codename>,<{}layoutlib>,<{}api-level>\n",
      "Warning: Mapping new ns http://schemas.android.com/repository/android/common/02 to old ns http://schemas.android.com/repository/android/common/01\n",
      "Warning: Mapping new ns http://schemas.android.com/repository/android/generic/02 to old ns http://schemas.android.com/repository/android/generic/01\n",
      "Warning: Mapping new ns http://schemas.android.com/sdk/android/repo/addon2/02 to old ns http://schemas.android.com/sdk/android/repo/addon2/01\n",
      "Warning: Mapping new ns http://schemas.android.com/sdk/android/repo/addon2/03 to old ns http://schemas.android.com/sdk/android/repo/addon2/01\n",
      "Warning: Mapping new ns http://schemas.android.com/sdk/android/repo/repository2/02 to old ns http://schemas.android.com/sdk/android/repo/repository2/01\n",
      "Warning: Mapping new ns http://schemas.android.com/sdk/android/repo/repository2/03 to old ns http://schemas.android.com/sdk/android/repo/repository2/01\n",
      "Warning: Mapping new ns http://schemas.android.com/sdk/android/repo/sys-img2/03 to old ns http://schemas.android.com/sdk/android/repo/sys-img2/01\n",
      "Warning: Mapping new ns http://schemas.android.com/sdk/android/repo/sys-img2/02 to old ns http://schemas.android.com/sdk/android/repo/sys-img2/01\n",
      "Warning: cvc-complex-type.2.4.d: Invalid content was found starting with element 'base-extension'. No child element is expected at this point.\n",
      "org.xml.sax.SAXParseException; lineNumber: 141; columnNumber: 248; cvc-complex-type.2.4.d: Invalid content was found starting with element 'base-extension'. No child element is expected at this point.\n",
      "\tat com.sun.org.apache.xerces.internal.util.ErrorHandlerWrapper.createSAXParseException(ErrorHandlerWrapper.java:204)\n",
      "\tat com.sun.org.apache.xerces.internal.util.ErrorHandlerWrapper.error(ErrorHandlerWrapper.java:135)\n",
      "\tat com.sun.org.apache.xerces.internal.impl.XMLErrorReporter.reportError(XMLErrorReporter.java:395)\n",
      "\tat com.sun.org.apache.xerces.internal.impl.XMLErrorReporter.reportError(XMLErrorReporter.java:326)\n",
      "\tat com.sun.org.apache.xerces.internal.impl.XMLErrorReporter.reportError(XMLErrorReporter.java:283)\n",
      "\tat com.sun.org.apache.xerces.internal.impl.xs.XMLSchemaValidator$XSIErrorReporter.reportError(XMLSchemaValidator.java:453)\n",
      "\tat com.sun.org.apache.xerces.internal.impl.xs.XMLSchemaValidator.reportSchemaError(XMLSchemaValidator.java:3231)\n",
      "\tat com.sun.org.apache.xerces.internal.impl.xs.XMLSchemaValidator.handleStartElement(XMLSchemaValidator.java:1795)\n",
      "\tat com.sun.org.apache.xerces.internal.impl.xs.XMLSchemaValidator.startElement(XMLSchemaValidator.java:741)\n",
      "\tat com.sun.org.apache.xerces.internal.jaxp.validation.ValidatorHandlerImpl.startElement(ValidatorHandlerImpl.java:567)\n",
      "\tat com.sun.xml.internal.bind.v2.runtime.unmarshaller.ValidatingUnmarshaller.startElement(ValidatingUnmarshaller.java:86)\n",
      "\tat com.sun.xml.internal.bind.v2.runtime.unmarshaller.SAXConnector.startElement(SAXConnector.java:153)\n",
      "\tat org.xml.sax.helpers.XMLFilterImpl.startElement(XMLFilterImpl.java:551)\n",
      "\tat com.android.repository.impl.meta.SchemaModuleUtil$NamespaceFallbackFilter.startElement(SchemaModuleUtil.java:403)\n",
      "\tat com.sun.org.apache.xerces.internal.parsers.AbstractSAXParser.startElement(AbstractSAXParser.java:509)\n",
      "\tat com.sun.org.apache.xerces.internal.impl.XMLNSDocumentScannerImpl.scanStartElement(XMLNSDocumentScannerImpl.java:374)\n",
      "\tat com.sun.org.apache.xerces.internal.impl.XMLDocumentFragmentScannerImpl$FragmentContentDriver.next(XMLDocumentFragmentScannerImpl.java:2783)\n",
      "\tat com.sun.org.apache.xerces.internal.impl.XMLDocumentScannerImpl.next(XMLDocumentScannerImpl.java:601)\n",
      "\tat com.sun.org.apache.xerces.internal.impl.XMLNSDocumentScannerImpl.next(XMLNSDocumentScannerImpl.java:112)\n",
      "\tat com.sun.org.apache.xerces.internal.impl.XMLDocumentFragmentScannerImpl.scanDocument(XMLDocumentFragmentScannerImpl.java:504)\n",
      "\tat com.sun.org.apache.xerces.internal.parsers.XML11Configuration.parse(XML11Configuration.java:841)\n",
      "\tat com.sun.org.apache.xerces.internal.parsers.XML11Configuration.parse(XML11Configuration.java:770)\n",
      "\tat com.sun.org.apache.xerces.internal.parsers.XMLParser.parse(XMLParser.java:141)\n",
      "\tat com.sun.org.apache.xerces.internal.parsers.AbstractSAXParser.parse(AbstractSAXParser.java:1213)\n",
      "\tat com.sun.org.apache.xerces.internal.jaxp.SAXParserImpl$JAXPSAXParser.parse(SAXParserImpl.java:642)\n",
      "\tat org.xml.sax.helpers.XMLFilterImpl.parse(XMLFilterImpl.java:357)\n",
      "\tat com.sun.xml.internal.bind.v2.runtime.unmarshaller.UnmarshallerImpl.unmarshal0(UnmarshallerImpl.java:243)\n",
      "\tat com.sun.xml.internal.bind.v2.runtime.unmarshaller.UnmarshallerImpl.unmarshal(UnmarshallerImpl.java:214)\n",
      "\tat javax.xml.bind.helpers.AbstractUnmarshallerImpl.unmarshal(AbstractUnmarshallerImpl.java:140)\n",
      "\tat javax.xml.bind.helpers.AbstractUnmarshallerImpl.unmarshal(AbstractUnmarshallerImpl.java:123)\n",
      "\tat com.android.repository.impl.meta.SchemaModuleUtil.unmarshal(SchemaModuleUtil.java:196)\n",
      "\tat com.android.repository.impl.manager.LocalRepoLoaderImpl.parsePackage(LocalRepoLoaderImpl.java:301)\n",
      "\tat com.android.repository.impl.manager.LocalRepoLoaderImpl.parsePackages(LocalRepoLoaderImpl.java:159)\n",
      "\tat com.android.repository.impl.manager.LocalRepoLoaderImpl.getPackages(LocalRepoLoaderImpl.java:124)\n",
      "\tat com.android.repository.impl.manager.RepoManagerImpl$LoadTask.run(RepoManagerImpl.java:518)\n",
      "\tat com.android.repository.api.RepoManager$DummyProgressRunner.runSyncWithProgress(RepoManager.java:397)\n",
      "\tat com.android.repository.impl.manager.RepoManagerImpl.load(RepoManagerImpl.java:365)\n",
      "\tat com.android.repository.api.RepoManager.loadSynchronously(RepoManager.java:290)\n",
      "\tat com.android.sdklib.repository.AndroidSdkHandler$RepoConfig.createRepoManager(AndroidSdkHandler.java:725)\n",
      "\tat com.android.sdklib.repository.AndroidSdkHandler.getSdkManager(AndroidSdkHandler.java:296)\n",
      "\tat com.android.sdklib.repository.AndroidSdkHandler.getLocalPackage(AndroidSdkHandler.java:355)\n",
      "\tat com.android.sdklib.tool.AvdManagerCli.createAvd(AvdManagerCli.java:675)\n",
      "\tat com.android.sdklib.tool.AvdManagerCli.doAction(AvdManagerCli.java:386)\n",
      "\tat com.android.sdklib.tool.AvdManagerCli.run(AvdManagerCli.java:215)\n",
      "\tat com.android.sdklib.tool.AvdManagerCli.main(AvdManagerCli.java:200)\n",
      "Warning: unexpected element (uri:\"\", local:\"base-extension\"). Expected elements are <{}codename>,<{}api-level>\n",
      "Warning: Mapping new ns http://schemas.android.com/repository/android/common/02 to old ns http://schemas.android.com/repository/android/common/01\n",
      "Warning: Mapping new ns http://schemas.android.com/repository/android/generic/02 to old ns http://schemas.android.com/repository/android/generic/01\n",
      "Warning: Mapping new ns http://schemas.android.com/sdk/android/repo/addon2/02 to old ns http://schemas.android.com/sdk/android/repo/addon2/01\n",
      "Warning: Mapping new ns http://schemas.android.com/sdk/android/repo/addon2/03 to old ns http://schemas.android.com/sdk/android/repo/addon2/01\n",
      "Warning: Mapping new ns http://schemas.android.com/sdk/android/repo/repository2/02 to old ns http://schemas.android.com/sdk/android/repo/repository2/01\n",
      "Warning: Mapping new ns http://schemas.android.com/sdk/android/repo/repository2/03 to old ns http://schemas.android.com/sdk/android/repo/repository2/01\n",
      "Warning: Mapping new ns http://schemas.android.com/sdk/android/repo/sys-img2/03 to old ns http://schemas.android.com/sdk/android/repo/sys-img2/01\n",
      "Warning: Mapping new ns http://schemas.android.com/sdk/android/repo/sys-img2/02 to old ns http://schemas.android.com/sdk/android/repo/sys-img2/01\n",
      "Warning: cvc-complex-type.2.4.a: Invalid content was found starting with element 'base-extension'. One of '{codename, tag}' is expected.\n",
      "org.xml.sax.SAXParseException; lineNumber: 141; columnNumber: 249; cvc-complex-type.2.4.a: Invalid content was found starting with element 'base-extension'. One of '{codename, tag}' is expected.\n",
      "\tat com.sun.org.apache.xerces.internal.util.ErrorHandlerWrapper.createSAXParseException(ErrorHandlerWrapper.java:204)\n",
      "\tat com.sun.org.apache.xerces.internal.util.ErrorHandlerWrapper.error(ErrorHandlerWrapper.java:135)\n",
      "\tat com.sun.org.apache.xerces.internal.impl.XMLErrorReporter.reportError(XMLErrorReporter.java:395)\n",
      "\tat com.sun.org.apache.xerces.internal.impl.XMLErrorReporter.reportError(XMLErrorReporter.java:326)\n",
      "\tat com.sun.org.apache.xerces.internal.impl.XMLErrorReporter.reportError(XMLErrorReporter.java:283)\n",
      "\tat com.sun.org.apache.xerces.internal.impl.xs.XMLSchemaValidator$XSIErrorReporter.reportError(XMLSchemaValidator.java:453)\n",
      "\tat com.sun.org.apache.xerces.internal.impl.xs.XMLSchemaValidator.reportSchemaError(XMLSchemaValidator.java:3231)\n",
      "\tat com.sun.org.apache.xerces.internal.impl.xs.XMLSchemaValidator.handleStartElement(XMLSchemaValidator.java:1791)\n",
      "\tat com.sun.org.apache.xerces.internal.impl.xs.XMLSchemaValidator.startElement(XMLSchemaValidator.java:741)\n",
      "\tat com.sun.org.apache.xerces.internal.jaxp.validation.ValidatorHandlerImpl.startElement(ValidatorHandlerImpl.java:567)\n",
      "\tat com.sun.xml.internal.bind.v2.runtime.unmarshaller.ValidatingUnmarshaller.startElement(ValidatingUnmarshaller.java:86)\n",
      "\tat com.sun.xml.internal.bind.v2.runtime.unmarshaller.SAXConnector.startElement(SAXConnector.java:153)\n",
      "\tat org.xml.sax.helpers.XMLFilterImpl.startElement(XMLFilterImpl.java:551)\n",
      "\tat com.android.repository.impl.meta.SchemaModuleUtil$NamespaceFallbackFilter.startElement(SchemaModuleUtil.java:403)\n",
      "\tat com.sun.org.apache.xerces.internal.parsers.AbstractSAXParser.startElement(AbstractSAXParser.java:509)\n",
      "\tat com.sun.org.apache.xerces.internal.impl.XMLNSDocumentScannerImpl.scanStartElement(XMLNSDocumentScannerImpl.java:374)\n",
      "\tat com.sun.org.apache.xerces.internal.impl.XMLDocumentFragmentScannerImpl$FragmentContentDriver.next(XMLDocumentFragmentScannerImpl.java:2783)\n",
      "\tat com.sun.org.apache.xerces.internal.impl.XMLDocumentScannerImpl.next(XMLDocumentScannerImpl.java:601)\n",
      "\tat com.sun.org.apache.xerces.internal.impl.XMLNSDocumentScannerImpl.next(XMLNSDocumentScannerImpl.java:112)\n",
      "\tat com.sun.org.apache.xerces.internal.impl.XMLDocumentFragmentScannerImpl.scanDocument(XMLDocumentFragmentScannerImpl.java:504)\n",
      "\tat com.sun.org.apache.xerces.internal.parsers.XML11Configuration.parse(XML11Configuration.java:841)\n",
      "\tat com.sun.org.apache.xerces.internal.parsers.XML11Configuration.parse(XML11Configuration.java:770)\n",
      "\tat com.sun.org.apache.xerces.internal.parsers.XMLParser.parse(XMLParser.java:141)\n",
      "\tat com.sun.org.apache.xerces.internal.parsers.AbstractSAXParser.parse(AbstractSAXParser.java:1213)\n",
      "\tat com.sun.org.apache.xerces.internal.jaxp.SAXParserImpl$JAXPSAXParser.parse(SAXParserImpl.java:642)\n",
      "\tat org.xml.sax.helpers.XMLFilterImpl.parse(XMLFilterImpl.java:357)\n",
      "\tat com.sun.xml.internal.bind.v2.runtime.unmarshaller.UnmarshallerImpl.unmarshal0(UnmarshallerImpl.java:243)\n",
      "\tat com.sun.xml.internal.bind.v2.runtime.unmarshaller.UnmarshallerImpl.unmarshal(UnmarshallerImpl.java:214)\n",
      "\tat javax.xml.bind.helpers.AbstractUnmarshallerImpl.unmarshal(AbstractUnmarshallerImpl.java:140)\n",
      "\tat javax.xml.bind.helpers.AbstractUnmarshallerImpl.unmarshal(AbstractUnmarshallerImpl.java:123)\n",
      "\tat com.android.repository.impl.meta.SchemaModuleUtil.unmarshal(SchemaModuleUtil.java:196)\n",
      "\tat com.android.repository.impl.manager.LocalRepoLoaderImpl.parsePackage(LocalRepoLoaderImpl.java:301)\n",
      "\tat com.android.repository.impl.manager.LocalRepoLoaderImpl.parsePackages(LocalRepoLoaderImpl.java:159)\n",
      "\tat com.android.repository.impl.manager.LocalRepoLoaderImpl.getPackages(LocalRepoLoaderImpl.java:124)\n",
      "\tat com.android.repository.impl.manager.RepoManagerImpl$LoadTask.run(RepoManagerImpl.java:518)\n",
      "\tat com.android.repository.api.RepoManager$DummyProgressRunner.runSyncWithProgress(RepoManager.java:397)\n",
      "\tat com.android.repository.impl.manager.RepoManagerImpl.load(RepoManagerImpl.java:365)\n",
      "\tat com.android.repository.api.RepoManager.loadSynchronously(RepoManager.java:290)\n",
      "\tat com.android.sdklib.repository.AndroidSdkHandler$RepoConfig.createRepoManager(AndroidSdkHandler.java:725)\n",
      "\tat com.android.sdklib.repository.AndroidSdkHandler.getSdkManager(AndroidSdkHandler.java:296)\n",
      "\tat com.android.sdklib.repository.AndroidSdkHandler.getLocalPackage(AndroidSdkHandler.java:355)\n",
      "\tat com.android.sdklib.tool.AvdManagerCli.createAvd(AvdManagerCli.java:675)\n",
      "\tat com.android.sdklib.tool.AvdManagerCli.doAction(AvdManagerCli.java:386)\n",
      "\tat com.android.sdklib.tool.AvdManagerCli.run(AvdManagerCli.java:215)\n",
      "\tat com.android.sdklib.tool.AvdManagerCli.main(AvdManagerCli.java:200)\n",
      "Warning: unexpected element (uri:\"\", local:\"base-extension\"). Expected elements are <{}vendor>,<{}codename>,<{}abi>,<{}api-level>,<{}tag>\n",
      "Warning: Mapping new ns http://schemas.android.com/repository/android/common/02 to old ns http://schemas.android.com/repository/android/common/01\n",
      "Warning: Mapping new ns http://schemas.android.com/repository/android/generic/02 to old ns http://schemas.android.com/repository/android/generic/01\n",
      "Warning: Mapping new ns http://schemas.android.com/sdk/android/repo/addon2/02 to old ns http://schemas.android.com/sdk/android/repo/addon2/01\n",
      "Warning: Mapping new ns http://schemas.android.com/sdk/android/repo/addon2/03 to old ns http://schemas.android.com/sdk/android/repo/addon2/01\n",
      "Warning: Mapping new ns http://schemas.android.com/sdk/android/repo/repository2/02 to old ns http://schemas.android.com/sdk/android/repo/repository2/01\n",
      "Warning: Mapping new ns http://schemas.android.com/sdk/android/repo/repository2/03 to old ns http://schemas.android.com/sdk/android/repo/repository2/01\n",
      "Warning: Mapping new ns http://schemas.android.com/sdk/android/repo/sys-img2/03 to old ns http://schemas.android.com/sdk/android/repo/sys-img2/01\n",
      "Warning: Mapping new ns http://schemas.android.com/sdk/android/repo/sys-img2/02 to old ns http://schemas.android.com/sdk/android/repo/sys-img2/01\n",
      "Warning: cvc-complex-type.2.4.a: Invalid content was found starting with element 'base-extension'. One of '{codename, tag}' is expected.\n",
      "org.xml.sax.SAXParseException; lineNumber: 131; columnNumber: 246; cvc-complex-type.2.4.a: Invalid content was found starting with element 'base-extension'. One of '{codename, tag}' is expected.\n",
      "\tat com.sun.org.apache.xerces.internal.util.ErrorHandlerWrapper.createSAXParseException(ErrorHandlerWrapper.java:204)\n",
      "\tat com.sun.org.apache.xerces.internal.util.ErrorHandlerWrapper.error(ErrorHandlerWrapper.java:135)\n",
      "\tat com.sun.org.apache.xerces.internal.impl.XMLErrorReporter.reportError(XMLErrorReporter.java:395)\n",
      "\tat com.sun.org.apache.xerces.internal.impl.XMLErrorReporter.reportError(XMLErrorReporter.java:326)\n",
      "\tat com.sun.org.apache.xerces.internal.impl.XMLErrorReporter.reportError(XMLErrorReporter.java:283)\n",
      "\tat com.sun.org.apache.xerces.internal.impl.xs.XMLSchemaValidator$XSIErrorReporter.reportError(XMLSchemaValidator.java:453)\n",
      "\tat com.sun.org.apache.xerces.internal.impl.xs.XMLSchemaValidator.reportSchemaError(XMLSchemaValidator.java:3231)\n",
      "\tat com.sun.org.apache.xerces.internal.impl.xs.XMLSchemaValidator.handleStartElement(XMLSchemaValidator.java:1791)\n",
      "\tat com.sun.org.apache.xerces.internal.impl.xs.XMLSchemaValidator.startElement(XMLSchemaValidator.java:741)\n",
      "\tat com.sun.org.apache.xerces.internal.jaxp.validation.ValidatorHandlerImpl.startElement(ValidatorHandlerImpl.java:567)\n",
      "\tat com.sun.xml.internal.bind.v2.runtime.unmarshaller.ValidatingUnmarshaller.startElement(ValidatingUnmarshaller.java:86)\n",
      "\tat com.sun.xml.internal.bind.v2.runtime.unmarshaller.SAXConnector.startElement(SAXConnector.java:153)\n",
      "\tat org.xml.sax.helpers.XMLFilterImpl.startElement(XMLFilterImpl.java:551)\n",
      "\tat com.android.repository.impl.meta.SchemaModuleUtil$NamespaceFallbackFilter.startElement(SchemaModuleUtil.java:403)\n",
      "\tat com.sun.org.apache.xerces.internal.parsers.AbstractSAXParser.startElement(AbstractSAXParser.java:509)\n",
      "\tat com.sun.org.apache.xerces.internal.impl.XMLNSDocumentScannerImpl.scanStartElement(XMLNSDocumentScannerImpl.java:374)\n",
      "\tat com.sun.org.apache.xerces.internal.impl.XMLDocumentFragmentScannerImpl$FragmentContentDriver.next(XMLDocumentFragmentScannerImpl.java:2783)\n",
      "\tat com.sun.org.apache.xerces.internal.impl.XMLDocumentScannerImpl.next(XMLDocumentScannerImpl.java:601)\n",
      "\tat com.sun.org.apache.xerces.internal.impl.XMLNSDocumentScannerImpl.next(XMLNSDocumentScannerImpl.java:112)\n",
      "\tat com.sun.org.apache.xerces.internal.impl.XMLDocumentFragmentScannerImpl.scanDocument(XMLDocumentFragmentScannerImpl.java:504)\n",
      "\tat com.sun.org.apache.xerces.internal.parsers.XML11Configuration.parse(XML11Configuration.java:841)\n",
      "\tat com.sun.org.apache.xerces.internal.parsers.XML11Configuration.parse(XML11Configuration.java:770)\n",
      "\tat com.sun.org.apache.xerces.internal.parsers.XMLParser.parse(XMLParser.java:141)\n",
      "\tat com.sun.org.apache.xerces.internal.parsers.AbstractSAXParser.parse(AbstractSAXParser.java:1213)\n",
      "\tat com.sun.org.apache.xerces.internal.jaxp.SAXParserImpl$JAXPSAXParser.parse(SAXParserImpl.java:642)\n",
      "\tat org.xml.sax.helpers.XMLFilterImpl.parse(XMLFilterImpl.java:357)\n",
      "\tat com.sun.xml.internal.bind.v2.runtime.unmarshaller.UnmarshallerImpl.unmarshal0(UnmarshallerImpl.java:243)\n",
      "\tat com.sun.xml.internal.bind.v2.runtime.unmarshaller.UnmarshallerImpl.unmarshal(UnmarshallerImpl.java:214)\n",
      "\tat javax.xml.bind.helpers.AbstractUnmarshallerImpl.unmarshal(AbstractUnmarshallerImpl.java:140)\n",
      "\tat javax.xml.bind.helpers.AbstractUnmarshallerImpl.unmarshal(AbstractUnmarshallerImpl.java:123)\n",
      "\tat com.android.repository.impl.meta.SchemaModuleUtil.unmarshal(SchemaModuleUtil.java:196)\n",
      "\tat com.android.repository.impl.manager.LocalRepoLoaderImpl.parsePackage(LocalRepoLoaderImpl.java:301)\n",
      "\tat com.android.repository.impl.manager.LocalRepoLoaderImpl.parsePackages(LocalRepoLoaderImpl.java:159)\n",
      "\tat com.android.repository.impl.manager.LocalRepoLoaderImpl.getPackages(LocalRepoLoaderImpl.java:124)\n",
      "\tat com.android.repository.impl.manager.RepoManagerImpl$LoadTask.run(RepoManagerImpl.java:518)\n",
      "\tat com.android.repository.api.RepoManager$DummyProgressRunner.runSyncWithProgress(RepoManager.java:397)\n",
      "\tat com.android.repository.impl.manager.RepoManagerImpl.load(RepoManagerImpl.java:365)\n",
      "\tat com.android.repository.api.RepoManager.loadSynchronously(RepoManager.java:290)\n",
      "\tat com.android.sdklib.repository.AndroidSdkHandler$RepoConfig.createRepoManager(AndroidSdkHandler.java:725)\n",
      "\tat com.android.sdklib.repository.AndroidSdkHandler.getSdkManager(AndroidSdkHandler.java:296)\n",
      "\tat com.android.sdklib.repository.AndroidSdkHandler.getLocalPackage(AndroidSdkHandler.java:355)\n",
      "\tat com.android.sdklib.tool.AvdManagerCli.createAvd(AvdManagerCli.java:675)\n",
      "\tat com.android.sdklib.tool.AvdManagerCli.doAction(AvdManagerCli.java:386)\n",
      "\tat com.android.sdklib.tool.AvdManagerCli.run(AvdManagerCli.java:215)\n",
      "\tat com.android.sdklib.tool.AvdManagerCli.main(AvdManagerCli.java:200)\n",
      "Warning: unexpected element (uri:\"\", local:\"base-extension\"). Expected elements are <{}vendor>,<{}codename>,<{}abi>,<{}api-level>,<{}tag>\n",
      "Warning: Mapping new ns http://schemas.android.com/repository/android/common/02 to old ns http://schemas.android.com/repository/android/common/01\n",
      "Warning: Mapping new ns http://schemas.android.com/repository/android/generic/02 to old ns http://schemas.android.com/repository/android/generic/01\n",
      "Warning: Mapping new ns http://schemas.android.com/sdk/android/repo/addon2/02 to old ns http://schemas.android.com/sdk/android/repo/addon2/01\n",
      "Warning: Mapping new ns http://schemas.android.com/sdk/android/repo/addon2/03 to old ns http://schemas.android.com/sdk/android/repo/addon2/01\n",
      "Warning: Mapping new ns http://schemas.android.com/sdk/android/repo/repository2/02 to old ns http://schemas.android.com/sdk/android/repo/repository2/01\n",
      "Warning: Mapping new ns http://schemas.android.com/sdk/android/repo/repository2/03 to old ns http://schemas.android.com/sdk/android/repo/repository2/01\n",
      "Warning: Mapping new ns http://schemas.android.com/sdk/android/repo/sys-img2/03 to old ns http://schemas.android.com/sdk/android/repo/sys-img2/01\n",
      "Warning: Mapping new ns http://schemas.android.com/sdk/android/repo/sys-img2/02 to old ns http://schemas.android.com/sdk/android/repo/sys-img2/01\n"
     ]
    },
    {
     "name": "stdout",
     "output_type": "stream",
     "text": [
      "/home/ezetap-eze10194/Android/Sdk/emulator/emulator -avd testAVD\n",
      "Waiting for pre-defined sleep time of 20 seconds to enlist current emulator in adb devices list...\n"
     ]
    },
    {
     "name": "stderr",
     "output_type": "stream",
     "text": [
      "WARNING | unexpected system image feature string, emulator might not function correctly, please try updating the emulator.\n",
      "WARNING | cannot add library /home/ezetap-eze10194/Android/Sdk/emulator/qemu/linux-x86_64/lib64/vulkan/libvulkan.so: failed\n",
      "MESA-INTEL: warning: Performance support disabled, consider sysctl dev.i915.perf_stream_paranoid=0\n",
      "\n"
     ]
    },
    {
     "name": "stdout",
     "output_type": "stream",
     "text": [
      "Waiting to complete the bootup process for emulator with adb id 'emulator-5556' and with AVD name 'testAVD'\n",
      "Waiting................................................................\n",
      "THE DEVICE is fully booted!\n"
     ]
    },
    {
     "data": {
      "text/plain": [
       "'Multiprocess started! PID in background = 264962'"
      ]
     },
     "execution_count": 1,
     "metadata": {},
     "output_type": "execute_result"
    }
   ],
   "source": [
    "from main import Emulator\n",
    "\n",
    "avd_name = 'testAVD'\n",
    "em = Emulator(avd_name)\n",
    "em.create()  # creating emulator\n",
    "em.start()   # starting emulator\n",
    "\n",
    "# em.wait(15)  # is needed\n",
    "\n",
    "# em.kill()  # stoppping emulator\n",
    "# em.delete()  # deleting emulator"
   ]
  },
  {
   "cell_type": "code",
   "execution_count": 2,
   "metadata": {},
   "outputs": [
    {
     "data": {
      "text/plain": [
       "'emulator-5556'"
      ]
     },
     "execution_count": 2,
     "metadata": {},
     "output_type": "execute_result"
    },
    {
     "name": "stdout",
     "output_type": "stream",
     "text": [
      "INFO    | added library /home/ezetap-eze10194/Android/Sdk/emulator/lib64/vulkan/libvulkan.so\n",
      "INFO    | configAndStartRenderer: setting vsync to 60 hz\n",
      "INFO    | Sending adb public key [QAAAAEuK8emdkLwOK1YvNM4hdPpQ+RBD+1SdSkENRUEMxnU0KB1ARONZEt5bdTUiJ883iDuap98XVTNsUQ00N8OrclMN1xkpRuUN53hKhqiLJJpBEGXACIM713+Y1+M1unaRQzLCfESjqJ5MSsX4n7+Ylf7qmapBfmWn0rTomUi42T7QXDrZytDejVwXeQfDkn10sS/USk/l4HkEZdbg2dD7WTaDFszcyNafLkcg6BAXROJKrzL7goZWM/jTh9o/Od38RcJb4WyfnSZV5Sf8gG7qMv1RhsvsZMa6mbBbS2y9p7DstfxsB583rUr2rFm+WZZPPUO95061UFfetSr6nrBbsZVMuv2y3AovNg9Ad0AhUNk+WvAWLGniGrjP4J+UWk2di6s6pCw959sy4+A2UR057oFJCZPGKPoj5eS91pchef08it64Hn8gcaYQfYP3NYGPgsfUAuwJmYsbpg/X011yKL8OtAwXok5pF+c6KKWJdcMxAA2mATpBNcNCUcK8C6fM8x/s9ONBvAVgXmSP7mQ+qcr72h0iRA6uGYIAH7c7pMU2p3UcyGUJFXsvvYlFyW8OlMMxUFJg071SeC/iCatpf3zYOoEYzDCXE0rYFKTEWwbxgOUvbZaTLEWIE8IYkL3e84YUE99CfMNsHFTSv+n9yjJ+haV265+NdwFZwurCQdbdS00NhwEAAQA= ezetap-eze10194@unknown]\n",
      "INFO    | Rootcanal has  been activated.\n",
      "INFO    | Started GRPC server at 127.0.0.1:8556, security: Local\n",
      "INFO    | Advertising in: /run/user/1000/avd/running/pid_264964.ini\n",
      "INFO    | boot completed\n",
      "INFO    | boot time 94069 ms\n",
      "INFO    | Increasing screen off timeout, logcat buffer size to 2M.\n",
      "INFO    | Revoking microphone permissions for Google App.\n"
     ]
    }
   ],
   "source": [
    "em.get_adb_device_id()"
   ]
  },
  {
   "cell_type": "code",
   "execution_count": 7,
   "metadata": {},
   "outputs": [
    {
     "data": {
      "text/plain": [
       "'emulator-5556'"
      ]
     },
     "execution_count": 7,
     "metadata": {},
     "output_type": "execute_result"
    }
   ],
   "source": [
    "em.adb_id"
   ]
  },
  {
   "cell_type": "code",
   "execution_count": 6,
   "metadata": {},
   "outputs": [
    {
     "data": {
      "text/plain": [
       "'Activity manager (activity) commands:\\n  help\\n      Print this help text.\\n  start-activity [-D] [-N] [-W] [-P <FILE>] [--start-profiler <FILE>]\\n          [--sampling INTERVAL] [--streaming] [-R COUNT] [-S]\\n          [--track-allocation] [--user <USER_ID> | current] <INTENT>\\n      Start an Activity.  Options are:\\n      -D: enable debugging\\n      -N: enable native debugging\\n      -W: wait for launch to complete\\n      --start-profiler <FILE>: start profiler and send results to <FILE>\\n      --sampling INTERVAL: use sample profiling with INTERVAL microseconds\\n          between samples (use with --start-profiler)\\n      --streaming: stream the profiling output to the specified file\\n          (use with --start-profiler)\\n      -P <FILE>: like above, but profiling stops when app goes idle\\n      --attach-agent <agent>: attach the given agent before binding\\n      --attach-agent-bind <agent>: attach the given agent during binding\\n      -R: repeat the activity launch <COUNT> times.  Prior to each repeat,\\n          the top activity will be finished.\\n      -S: force stop the target app before starting the activity\\n      --track-allocation: enable tracking of object allocations\\n      --user <USER_ID> | current: Specify which user to run as; if not\\n          specified then run as the current user.\\n      --windowingMode <WINDOWING_MODE>: The windowing mode to launch the activity into.\\n      --activityType <ACTIVITY_TYPE>: The activity type to launch the activity as.\\n      --display <DISPLAY_ID>: The display to launch the activity into.\\n  start-service [--user <USER_ID> | current] <INTENT>\\n      Start a Service.  Options are:\\n      --user <USER_ID> | current: Specify which user to run as; if not\\n          specified then run as the current user.\\n  start-foreground-service [--user <USER_ID> | current] <INTENT>\\n      Start a foreground Service.  Options are:\\n      --user <USER_ID> | current: Specify which user to run as; if not\\n          specified then run as the current user.\\n  stop-service [--user <USER_ID> | current] <INTENT>\\n      Stop a Service.  Options are:\\n      --user <USER_ID> | current: Specify which user to run as; if not\\n          specified then run as the current user.\\n  broadcast [--user <USER_ID> | all | current]\\n          [--receiver-permission <PERMISSION>]\\n          [--allow-background-activity-starts]\\n          [--async] <INTENT>\\n      Send a broadcast Intent.  Options are:\\n      --user <USER_ID> | all | current: Specify which user to send to; if not\\n          specified then send to all users.\\n      --receiver-permission <PERMISSION>: Require receiver to hold permission.\\n      --allow-background-activity-starts: The receiver may start activities\\n          even if in the background.\\n      --async: Send without waiting for the completion of the receiver.\\n  instrument [-r] [-e <NAME> <VALUE>] [-p <FILE>] [-w]\\n          [--user <USER_ID> | current]\\n          [--no-hidden-api-checks [--no-test-api-access]]\\n          [--no-isolated-storage]\\n          [--no-window-animation] [--abi <ABI>] <COMPONENT>\\n      Start an Instrumentation.  Typically this target <COMPONENT> is in the\\n      form <TEST_PACKAGE>/<RUNNER_CLASS> or only <TEST_PACKAGE> if there\\n      is only one instrumentation.  Options are:\\n      -r: print raw results (otherwise decode REPORT_KEY_STREAMRESULT).  Use with\\n          [-e perf true] to generate raw output for performance measurements.\\n      -e <NAME> <VALUE>: set argument <NAME> to <VALUE>.  For test runners a\\n          common form is [-e <testrunner_flag> <value>[,<value>...]].\\n      -p <FILE>: write profiling data to <FILE>\\n      -m: Write output as protobuf to stdout (machine readable)\\n      -f <Optional PATH/TO/FILE>: Write output as protobuf to a file (machine\\n          readable). If path is not specified, default directory and file name will\\n          be used: /sdcard/instrument-logs/log-yyyyMMdd-hhmmss-SSS.instrumentation_data_proto\\n      -w: wait for instrumentation to finish before returning.  Required for\\n          test runners.\\n      --user <USER_ID> | current: Specify user instrumentation runs in;\\n          current user if not specified.\\n      --no-hidden-api-checks: disable restrictions on use of hidden API.\\n      --no-test-api-access: do not allow access to test APIs, if hidden\\n          API checks are enabled.\\n      --no-isolated-storage: don\\'t use isolated storage sandbox and \\n          mount full external storage\\n      --no-window-animation: turn off window animations while running.\\n      --abi <ABI>: Launch the instrumented process with the selected ABI.\\n          This assumes that the process supports the selected ABI.\\n  trace-ipc [start|stop] [--dump-file <FILE>]\\n      Trace IPC transactions.\\n      start: start tracing IPC transactions.\\n      stop: stop tracing IPC transactions and dump the results to file.\\n      --dump-file <FILE>: Specify the file the trace should be dumped to.\\n  profile start [--user <USER_ID> current]\\n          [--sampling INTERVAL | --streaming] <PROCESS> <FILE>\\n      Start profiler on a process.  The given <PROCESS> argument\\n        may be either a process name or pid.  Options are:\\n      --user <USER_ID> | current: When supplying a process name,\\n          specify user of process to profile; uses current user if not\\n          specified.\\n      --sampling INTERVAL: use sample profiling with INTERVAL microseconds\\n          between samples.\\n      --streaming: stream the profiling output to the specified file.\\n  profile stop [--user <USER_ID> current] <PROCESS>\\n      Stop profiler on a process.  The given <PROCESS> argument\\n        may be either a process name or pid.  Options are:\\n      --user <USER_ID> | current: When supplying a process name,\\n          specify user of process to profile; uses current user if not\\n          specified.\\n  dumpheap [--user <USER_ID> current] [-n] [-g] <PROCESS> <FILE>\\n      Dump the heap of a process.  The given <PROCESS> argument may\\n        be either a process name or pid.  Options are:\\n      -n: dump native heap instead of managed heap\\n      -g: force GC before dumping the heap\\n      --user <USER_ID> | current: When supplying a process name,\\n          specify user of process to dump; uses current user if not specified.\\n  set-debug-app [-w] [--persistent] <PACKAGE>\\n      Set application <PACKAGE> to debug.  Options are:\\n      -w: wait for debugger when application starts\\n      --persistent: retain this value\\n  clear-debug-app\\n      Clear the previously set-debug-app.\\n  set-watch-heap <PROCESS> <MEM-LIMIT>\\n      Start monitoring pss size of <PROCESS>, if it is at or\\n      above <HEAP-LIMIT> then a heap dump is collected for the user to report.\\n  clear-watch-heap\\n      Clear the previously set-watch-heap.\\n  clear-exit-info [--user <USER_ID> | all | current] [package]\\n      Clear the process exit-info for given package\\n  bug-report [--progress | --telephony]\\n      Request bug report generation; will launch a notification\\n        when done to select where it should be delivered. Options are:\\n     --progress: will launch a notification right away to show its progress.\\n     --telephony: will dump only telephony sections.\\n  fgs-notification-rate-limit {enable | disable}\\n     Enable/disable rate limit on FGS notification deferral policy.\\n  force-stop [--user <USER_ID> | all | current] <PACKAGE>\\n      Completely stop the given application package.\\n  crash [--user <USER_ID>] <PACKAGE|PID>\\n      Induce a VM crash in the specified package or process\\n  kill [--user <USER_ID> | all | current] <PACKAGE>\\n      Kill all background processes associated with the given application.\\n  kill-all\\n      Kill all processes that are safe to kill (cached, etc).\\n  make-uid-idle [--user <USER_ID> | all | current] <PACKAGE>\\n      If the given application\\'s uid is in the background and waiting to\\n      become idle (not allowing background services), do that now.\\n  monitor [--gdb <port>]\\n      Start monitoring for crashes or ANRs.\\n      --gdb: start gdbserv on the given port at crash/ANR\\n  watch-uids [--oom <uid>]\\n      Start watching for and reporting uid state changes.\\n      --oom: specify a uid for which to report detailed change messages.\\n  hang [--allow-restart]\\n      Hang the system.\\n      --allow-restart: allow watchdog to perform normal system restart\\n  restart\\n      Restart the user-space system.\\n  idle-maintenance\\n      Perform idle maintenance now.\\n  screen-compat [on|off] <PACKAGE>\\n      Control screen compatibility mode of <PACKAGE>.\\n  package-importance <PACKAGE>\\n      Print current importance of <PACKAGE>.\\n  to-uri [INTENT]\\n      Print the given Intent specification as a URI.\\n  to-intent-uri [INTENT]\\n      Print the given Intent specification as an intent: URI.\\n  to-app-uri [INTENT]\\n      Print the given Intent specification as an android-app: URI.\\n  switch-user <USER_ID>\\n      Switch to put USER_ID in the foreground, starting\\n      execution of that user if it is currently stopped.\\n  get-current-user\\n      Returns id of the current foreground user.\\n  start-user [-w] <USER_ID>\\n      Start USER_ID in background if it is currently stopped;\\n      use switch-user if you want to start the user in foreground.\\n      -w: wait for start-user to complete and the user to be unlocked.\\n  unlock-user <USER_ID> [TOKEN_HEX]\\n      Attempt to unlock the given user using the given authorization token.\\n  stop-user [-w] [-f] <USER_ID>\\n      Stop execution of USER_ID, not allowing it to run any\\n      code until a later explicit start or switch to it.\\n      -w: wait for stop-user to complete.\\n      -f: force stop even if there are related users that cannot be stopped.\\n  is-user-stopped <USER_ID>\\n      Returns whether <USER_ID> has been stopped or not.\\n  get-started-user-state <USER_ID>\\n      Gets the current state of the given started user.\\n  track-associations\\n      Enable association tracking.\\n  untrack-associations\\n      Disable and clear association tracking.\\n  get-uid-state <UID>\\n      Gets the process state of an app given its <UID>.\\n  attach-agent <PROCESS> <FILE>\\n    Attach an agent to the specified <PROCESS>, which may be either a process name or a PID.\\n  get-config [--days N] [--device] [--proto] [--display <DISPLAY_ID>]\\n      Retrieve the configuration and any recent configurations of the device.\\n      --days: also return last N days of configurations that have been seen.\\n      --device: also output global device configuration info.\\n      --proto: return result as a proto; does not include --days info.\\n      --display: Specify for which display to run the command; if not \\n          specified then run for the default display.\\n  supports-multiwindow\\n      Returns true if the device supports multiwindow.\\n  supports-split-screen-multi-window\\n      Returns true if the device supports split screen multiwindow.\\n  suppress-resize-config-changes <true|false>\\n      Suppresses configuration changes due to user resizing an activity/task.\\n  set-inactive [--user <USER_ID>] <PACKAGE> true|false\\n      Sets the inactive state of an app.\\n  get-inactive [--user <USER_ID>] <PACKAGE>\\n      Returns the inactive state of an app.\\n  set-standby-bucket [--user <USER_ID>] <PACKAGE> active|working_set|frequent|rare|restricted\\n      Puts an app in the standby bucket.\\n  get-standby-bucket [--user <USER_ID>] <PACKAGE>\\n      Returns the standby bucket of an app.\\n  send-trim-memory [--user <USER_ID>] <PROCESS>\\n          [HIDDEN|RUNNING_MODERATE|BACKGROUND|RUNNING_LOW|MODERATE|RUNNING_CRITICAL|COMPLETE]\\n      Send a memory trim event to a <PROCESS>.  May also supply a raw trim int level.\\n  display [COMMAND] [...]: sub-commands for operating on displays.\\n       move-stack <STACK_ID> <DISPLAY_ID>\\n           Move <STACK_ID> from its current display to <DISPLAY_ID>.\\n  stack [COMMAND] [...]: sub-commands for operating on activity stacks.\\n       move-task <TASK_ID> <STACK_ID> [true|false]\\n           Move <TASK_ID> from its current stack to the top (true) or\\n           bottom (false) of <STACK_ID>.\\n       list\\n           List all of the activity stacks and their sizes.\\n       info <WINDOWING_MODE> <ACTIVITY_TYPE>\\n           Display the information about activity stack in <WINDOWING_MODE> and <ACTIVITY_TYPE>.\\n       remove <STACK_ID>\\n           Remove stack <STACK_ID>.\\n  task [COMMAND] [...]: sub-commands for operating on activity tasks.\\n       lock <TASK_ID>\\n           Bring <TASK_ID> to the front and don\\'t allow other tasks to run.\\n       lock stop\\n           End the current task lock.\\n       resizeable <TASK_ID> [0|1|2|3]\\n           Change resizeable mode of <TASK_ID> to one of the following:\\n           0: unresizeable\\n           1: crop_windows\\n           2: resizeable\\n           3: resizeable_and_pipable\\n       resize <TASK_ID> <LEFT,TOP,RIGHT,BOTTOM>\\n           Makes sure <TASK_ID> is in a stack with the specified bounds.\\n           Forces the task to be resizeable and creates a stack if no existing stack\\n           has the specified bounds.\\n  update-appinfo <USER_ID> <PACKAGE_NAME> [<PACKAGE_NAME>...]\\n      Update the ApplicationInfo objects of the listed packages for <USER_ID>\\n      without restarting any processes.\\n  write\\n      Write all pending state to storage.\\n  compat [COMMAND] [...]: sub-commands for toggling app-compat changes.\\n         enable|disable [--no-kill] <CHANGE_ID|CHANGE_NAME> <PACKAGE_NAME>\\n            Toggles a change either by id or by name for <PACKAGE_NAME>.\\n            It kills <PACKAGE_NAME> (to allow the toggle to take effect) unless --no-kill is provided.\\n         reset <CHANGE_ID|CHANGE_NAME> <PACKAGE_NAME>\\n            Toggles a change either by id or by name for <PACKAGE_NAME>.\\n            It kills <PACKAGE_NAME> (to allow the toggle to take effect).\\n         enable-all|disable-all <targetSdkVersion> <PACKAGE_NAME>\\n            Toggles all changes that are gated by <targetSdkVersion>.\\n         reset-all [--no-kill] <PACKAGE_NAME>\\n            Removes all existing overrides for all changes for \\n            <PACKAGE_NAME> (back to default behaviour).\\n            It kills <PACKAGE_NAME> (to allow the toggle to take effect) unless --no-kill is provided.\\n  memory-factor [command] [...]: sub-commands for overriding memory pressure factor\\n         set <NORMAL|MODERATE|LOW|CRITICAL>\\n            Overrides memory pressure factor. May also supply a raw int level\\n         show\\n            Shows the existing memory pressure factor\\n         reset\\n            Removes existing override for memory pressure factor\\n  service-restart-backoff <COMMAND> [...]: sub-commands to toggle service restart backoff policy.\\n         enable|disable <PACKAGE_NAME>\\n            Toggles the restart backoff policy on/off for <PACKAGE_NAME>.\\n         show <PACKAGE_NAME>\\n            Shows the restart backoff policy state for <PACKAGE_NAME>.\\n  get-isolated-pids <UID>\\n         Get the PIDs of isolated processes with packages in this <UID>\\n\\n<INTENT> specifications include these flags and arguments:\\n    [-a <ACTION>] [-d <DATA_URI>] [-t <MIME_TYPE>] [-i <IDENTIFIER>]\\n    [-c <CATEGORY> [-c <CATEGORY>] ...]\\n    [-n <COMPONENT_NAME>]\\n    [-e|--es <EXTRA_KEY> <EXTRA_STRING_VALUE> ...]\\n    [--esn <EXTRA_KEY> ...]\\n    [--ez <EXTRA_KEY> <EXTRA_BOOLEAN_VALUE> ...]\\n    [--ei <EXTRA_KEY> <EXTRA_INT_VALUE> ...]\\n    [--el <EXTRA_KEY> <EXTRA_LONG_VALUE> ...]\\n    [--ef <EXTRA_KEY> <EXTRA_FLOAT_VALUE> ...]\\n    [--eu <EXTRA_KEY> <EXTRA_URI_VALUE> ...]\\n    [--ecn <EXTRA_KEY> <EXTRA_COMPONENT_NAME_VALUE>]\\n    [--eia <EXTRA_KEY> <EXTRA_INT_VALUE>[,<EXTRA_INT_VALUE...]]\\n        (mutiple extras passed as Integer[])\\n    [--eial <EXTRA_KEY> <EXTRA_INT_VALUE>[,<EXTRA_INT_VALUE...]]\\n        (mutiple extras passed as List<Integer>)\\n    [--ela <EXTRA_KEY> <EXTRA_LONG_VALUE>[,<EXTRA_LONG_VALUE...]]\\n        (mutiple extras passed as Long[])\\n    [--elal <EXTRA_KEY> <EXTRA_LONG_VALUE>[,<EXTRA_LONG_VALUE...]]\\n        (mutiple extras passed as List<Long>)\\n    [--efa <EXTRA_KEY> <EXTRA_FLOAT_VALUE>[,<EXTRA_FLOAT_VALUE...]]\\n        (mutiple extras passed as Float[])\\n    [--efal <EXTRA_KEY> <EXTRA_FLOAT_VALUE>[,<EXTRA_FLOAT_VALUE...]]\\n        (mutiple extras passed as List<Float>)\\n    [--esa <EXTRA_KEY> <EXTRA_STRING_VALUE>[,<EXTRA_STRING_VALUE...]]\\n        (mutiple extras passed as String[]; to embed a comma into a string,\\n         escape it using \"\\\\,\")\\n    [--esal <EXTRA_KEY> <EXTRA_STRING_VALUE>[,<EXTRA_STRING_VALUE...]]\\n        (mutiple extras passed as List<String>; to embed a comma into a string,\\n         escape it using \"\\\\,\")\\n    [-f <FLAG>]\\n    [--grant-read-uri-permission] [--grant-write-uri-permission]\\n    [--grant-persistable-uri-permission] [--grant-prefix-uri-permission]\\n    [--debug-log-resolution] [--exclude-stopped-packages]\\n    [--include-stopped-packages]\\n    [--activity-brought-to-front] [--activity-clear-top]\\n    [--activity-clear-when-task-reset] [--activity-exclude-from-recents]\\n    [--activity-launched-from-history] [--activity-multiple-task]\\n    [--activity-no-animation] [--activity-no-history]\\n    [--activity-no-user-action] [--activity-previous-is-top]\\n    [--activity-reorder-to-front] [--activity-reset-task-if-needed]\\n    [--activity-single-top] [--activity-clear-task]\\n    [--activity-task-on-home] [--activity-match-external]\\n    [--receiver-registered-only] [--receiver-replace-pending]\\n    [--receiver-foreground] [--receiver-no-abort]\\n    [--receiver-include-background]\\n    [--selector]\\n    [<URI> | <PACKAGE> | <COMPONENT>]'"
      ]
     },
     "execution_count": 6,
     "metadata": {},
     "output_type": "execute_result"
    }
   ],
   "source": [
    "em.execute(\"am\")"
   ]
  },
  {
   "cell_type": "code",
   "execution_count": 7,
   "metadata": {},
   "outputs": [
    {
     "data": {
      "text/plain": [
       "\"Parsing /home/ezetap-eze10194/Android/Sdk/build-tools/30.0.3/package.xmlParsing /home/ezetap-eze10194/Android/Sdk/build-tools/32.0.0/package.xmlParsing /home/ezetap-eze10194/Android/Sdk/build-tools/32.1.0-rc1/package.xmlParsing /home/ezetap-eze10194/Android/Sdk/emulator/package.xmlParsing /home/ezetap-eze10194/Android/Sdk/ndk/25.1.8937393/package.xmlParsing /home/ezetap-eze10194/Android/Sdk/patcher/v4/package.xmlParsing /home/ezetap-eze10194/Android/Sdk/platform-tools/package.xmlParsing /home/ezetap-eze10194/Android/Sdk/platforms/android-32/package.xmlParsing /home/ezetap-eze10194/Android/Sdk/sources/android-32/package.xmlParsing /home/ezetap-eze10194/Android/Sdk/system-images/android-29/google_apis/x86/package.xmlParsing /home/ezetap-eze10194/Android/Sdk/system-images/android-31/google_apis/x86_64/package.xmlParsing /home/ezetap-eze10194/Android/Sdk/tools/package.xmlDeleting file /home/ezetap-eze10194/.android/avd/testAVD.ini\\nDeleting folder /home/ezetap-eze10194/.android/avd/testAVD.avd\\n\\nAVD 'testAVD' deleted.\""
      ]
     },
     "execution_count": 7,
     "metadata": {},
     "output_type": "execute_result"
    }
   ],
   "source": [
    "em.kill()\n",
    "em.delete()"
   ]
  },
  {
   "cell_type": "code",
   "execution_count": 8,
   "metadata": {},
   "outputs": [
    {
     "data": {
      "text/plain": [
       "[{'Name': 'Emulator_2_Nexus_6_API_31',\n",
       "  'Device': 'Nexus 6 (Google)',\n",
       "  'Path': '/home/ezetap-eze10194/.android/avd/Emulator_2_Nexus_6_API_31.avd',\n",
       "  'Target': 'Google APIs (Google Inc.)',\n",
       "  'Tag/ABI': 'google_apis/x86_64',\n",
       "  'Based on': 'Android API 31',\n",
       "  'Skin': '1440x2560',\n",
       "  'Sdcard': '512 MB'},\n",
       " {'Name': 'myAVD01',\n",
       "  'Path': '/home/ezetap-eze10194/.android/avd/myAVD01.avd',\n",
       "  'Target': 'Google APIs (Google Inc.)',\n",
       "  'Tag/ABI': 'google_apis/x86_64',\n",
       "  'Based on': 'Android API 31'},\n",
       " {'Name': 'newavd',\n",
       "  'Path': '/home/ezetap-eze10194/.android/avd/newavd.avd',\n",
       "  'Target': 'Google APIs (Google Inc.)',\n",
       "  'Tag/ABI': 'google_apis/x86_64',\n",
       "  'Based on': 'Android API 31'},\n",
       " {'Name': 'Nexus_6_API_31',\n",
       "  'Device': 'Nexus 6 (Google)',\n",
       "  'Path': '/home/ezetap-eze10194/.android/avd/Nexus_6_API_31.avd',\n",
       "  'Target': 'Google APIs (Google Inc.)',\n",
       "  'Tag/ABI': 'google_apis/x86_64',\n",
       "  'Based on': 'Android API 31',\n",
       "  'Skin': 'nexus_6',\n",
       "  'Sdcard': '512M'}]"
      ]
     },
     "execution_count": 8,
     "metadata": {},
     "output_type": "execute_result"
    }
   ],
   "source": [
    "em.list_avds()"
   ]
  },
  {
   "cell_type": "code",
   "execution_count": 4,
   "metadata": {},
   "outputs": [
    {
     "name": "stdout",
     "output_type": "stream",
     "text": [
      "INFO    | added library /home/ezetap-eze10194/Android/Sdk/emulator/lib64/vulkan/libvulkan.so\n",
      "INFO    | configAndStartRenderer: setting vsync to 60 hz\n",
      "INFO    | Sending adb public key [QAAAAEuK8emdkLwOK1YvNM4hdPpQ+RBD+1SdSkENRUEMxnU0KB1ARONZEt5bdTUiJ883iDuap98XVTNsUQ00N8OrclMN1xkpRuUN53hKhqiLJJpBEGXACIM713+Y1+M1unaRQzLCfESjqJ5MSsX4n7+Ylf7qmapBfmWn0rTomUi42T7QXDrZytDejVwXeQfDkn10sS/USk/l4HkEZdbg2dD7WTaDFszcyNafLkcg6BAXROJKrzL7goZWM/jTh9o/Od38RcJb4WyfnSZV5Sf8gG7qMv1RhsvsZMa6mbBbS2y9p7DstfxsB583rUr2rFm+WZZPPUO95061UFfetSr6nrBbsZVMuv2y3AovNg9Ad0AhUNk+WvAWLGniGrjP4J+UWk2di6s6pCw959sy4+A2UR057oFJCZPGKPoj5eS91pchef08it64Hn8gcaYQfYP3NYGPgsfUAuwJmYsbpg/X011yKL8OtAwXok5pF+c6KKWJdcMxAA2mATpBNcNCUcK8C6fM8x/s9ONBvAVgXmSP7mQ+qcr72h0iRA6uGYIAH7c7pMU2p3UcyGUJFXsvvYlFyW8OlMMxUFJg071SeC/iCatpf3zYOoEYzDCXE0rYFKTEWwbxgOUvbZaTLEWIE8IYkL3e84YUE99CfMNsHFTSv+n9yjJ+haV265+NdwFZwurCQdbdS00NhwEAAQA= ezetap-eze10194@unknown]\n",
      "INFO    | Rootcanal has  been activated.\n",
      "INFO    | Started GRPC server at 127.0.0.1:8556, security: Local\n",
      "INFO    | Advertising in: /run/user/1000/avd/running/pid_224905.ini\n"
     ]
    },
    {
     "data": {
      "text/plain": [
       "''"
      ]
     },
     "execution_count": 4,
     "metadata": {},
     "output_type": "execute_result"
    },
    {
     "name": "stdout",
     "output_type": "stream",
     "text": [
      "INFO    | Shutting down gRPC endpoint\n",
      "INFO    | Shutting down gRPC endpoint\n",
      "INFO    | Closing down rootcanal.\n"
     ]
    }
   ],
   "source": [
    "em.kill()"
   ]
  },
  {
   "cell_type": "code",
   "execution_count": null,
   "metadata": {},
   "outputs": [],
   "source": [
    "em.get_adb_device_id_from_avd_name()"
   ]
  },
  {
   "cell_type": "code",
   "execution_count": 2,
   "metadata": {},
   "outputs": [],
   "source": [
    "# em.list_avds()"
   ]
  },
  {
   "cell_type": "code",
   "execution_count": 2,
   "metadata": {},
   "outputs": [
    {
     "name": "stderr",
     "output_type": "stream",
     "text": [
      "Warning: Mapping new ns http://schemas.android.com/repository/android/common/02 to old ns http://schemas.android.com/repository/android/common/01\n",
      "Warning: Mapping new ns http://schemas.android.com/repository/android/generic/02 to old ns http://schemas.android.com/repository/android/generic/01\n",
      "Warning: Mapping new ns http://schemas.android.com/sdk/android/repo/addon2/02 to old ns http://schemas.android.com/sdk/android/repo/addon2/01\n",
      "Warning: Mapping new ns http://schemas.android.com/sdk/android/repo/addon2/03 to old ns http://schemas.android.com/sdk/android/repo/addon2/01\n",
      "Warning: Mapping new ns http://schemas.android.com/sdk/android/repo/repository2/02 to old ns http://schemas.android.com/sdk/android/repo/repository2/01\n",
      "Warning: Mapping new ns http://schemas.android.com/sdk/android/repo/repository2/03 to old ns http://schemas.android.com/sdk/android/repo/repository2/01\n",
      "Warning: Mapping new ns http://schemas.android.com/sdk/android/repo/sys-img2/03 to old ns http://schemas.android.com/sdk/android/repo/sys-img2/01\n",
      "Warning: Mapping new ns http://schemas.android.com/sdk/android/repo/sys-img2/02 to old ns http://schemas.android.com/sdk/android/repo/sys-img2/01\n",
      "Warning: Mapping new ns http://schemas.android.com/repository/android/common/02 to old ns http://schemas.android.com/repository/android/common/01\n",
      "Warning: Mapping new ns http://schemas.android.com/repository/android/generic/02 to old ns http://schemas.android.com/repository/android/generic/01\n",
      "Warning: Mapping new ns http://schemas.android.com/sdk/android/repo/addon2/02 to old ns http://schemas.android.com/sdk/android/repo/addon2/01\n",
      "Warning: Mapping new ns http://schemas.android.com/sdk/android/repo/addon2/03 to old ns http://schemas.android.com/sdk/android/repo/addon2/01\n",
      "Warning: Mapping new ns http://schemas.android.com/sdk/android/repo/repository2/02 to old ns http://schemas.android.com/sdk/android/repo/repository2/01\n",
      "Warning: Mapping new ns http://schemas.android.com/sdk/android/repo/repository2/03 to old ns http://schemas.android.com/sdk/android/repo/repository2/01\n",
      "Warning: Mapping new ns http://schemas.android.com/sdk/android/repo/sys-img2/03 to old ns http://schemas.android.com/sdk/android/repo/sys-img2/01\n",
      "Warning: Mapping new ns http://schemas.android.com/sdk/android/repo/sys-img2/02 to old ns http://schemas.android.com/sdk/android/repo/sys-img2/01\n",
      "Warning: Mapping new ns http://schemas.android.com/repository/android/common/02 to old ns http://schemas.android.com/repository/android/common/01\n",
      "Warning: Mapping new ns http://schemas.android.com/repository/android/generic/02 to old ns http://schemas.android.com/repository/android/generic/01\n",
      "Warning: Mapping new ns http://schemas.android.com/sdk/android/repo/addon2/02 to old ns http://schemas.android.com/sdk/android/repo/addon2/01\n",
      "Warning: Mapping new ns http://schemas.android.com/sdk/android/repo/addon2/03 to old ns http://schemas.android.com/sdk/android/repo/addon2/01\n",
      "Warning: Mapping new ns http://schemas.android.com/sdk/android/repo/repository2/02 to old ns http://schemas.android.com/sdk/android/repo/repository2/01\n",
      "Warning: Mapping new ns http://schemas.android.com/sdk/android/repo/repository2/03 to old ns http://schemas.android.com/sdk/android/repo/repository2/01\n",
      "Warning: Mapping new ns http://schemas.android.com/sdk/android/repo/sys-img2/03 to old ns http://schemas.android.com/sdk/android/repo/sys-img2/01\n",
      "Warning: Mapping new ns http://schemas.android.com/sdk/android/repo/sys-img2/02 to old ns http://schemas.android.com/sdk/android/repo/sys-img2/01\n",
      "Warning: Mapping new ns http://schemas.android.com/repository/android/common/02 to old ns http://schemas.android.com/repository/android/common/01\n",
      "Warning: Mapping new ns http://schemas.android.com/repository/android/generic/02 to old ns http://schemas.android.com/repository/android/generic/01\n",
      "Warning: Mapping new ns http://schemas.android.com/sdk/android/repo/addon2/02 to old ns http://schemas.android.com/sdk/android/repo/addon2/01\n",
      "Warning: Mapping new ns http://schemas.android.com/sdk/android/repo/addon2/03 to old ns http://schemas.android.com/sdk/android/repo/addon2/01\n",
      "Warning: Mapping new ns http://schemas.android.com/sdk/android/repo/repository2/02 to old ns http://schemas.android.com/sdk/android/repo/repository2/01\n",
      "Warning: Mapping new ns http://schemas.android.com/sdk/android/repo/repository2/03 to old ns http://schemas.android.com/sdk/android/repo/repository2/01\n",
      "Warning: Mapping new ns http://schemas.android.com/sdk/android/repo/sys-img2/03 to old ns http://schemas.android.com/sdk/android/repo/sys-img2/01\n",
      "Warning: Mapping new ns http://schemas.android.com/sdk/android/repo/sys-img2/02 to old ns http://schemas.android.com/sdk/android/repo/sys-img2/01\n",
      "Warning: Mapping new ns http://schemas.android.com/repository/android/common/02 to old ns http://schemas.android.com/repository/android/common/01\n",
      "Warning: Mapping new ns http://schemas.android.com/repository/android/generic/02 to old ns http://schemas.android.com/repository/android/generic/01\n",
      "Warning: Mapping new ns http://schemas.android.com/sdk/android/repo/addon2/02 to old ns http://schemas.android.com/sdk/android/repo/addon2/01\n",
      "Warning: Mapping new ns http://schemas.android.com/sdk/android/repo/addon2/03 to old ns http://schemas.android.com/sdk/android/repo/addon2/01\n",
      "Warning: Mapping new ns http://schemas.android.com/sdk/android/repo/repository2/02 to old ns http://schemas.android.com/sdk/android/repo/repository2/01\n",
      "Warning: Mapping new ns http://schemas.android.com/sdk/android/repo/repository2/03 to old ns http://schemas.android.com/sdk/android/repo/repository2/01\n",
      "Warning: Mapping new ns http://schemas.android.com/sdk/android/repo/sys-img2/03 to old ns http://schemas.android.com/sdk/android/repo/sys-img2/01\n",
      "Warning: Mapping new ns http://schemas.android.com/sdk/android/repo/sys-img2/02 to old ns http://schemas.android.com/sdk/android/repo/sys-img2/01\n",
      "Warning: Mapping new ns http://schemas.android.com/repository/android/common/02 to old ns http://schemas.android.com/repository/android/common/01\n",
      "Warning: Mapping new ns http://schemas.android.com/repository/android/generic/02 to old ns http://schemas.android.com/repository/android/generic/01\n",
      "Warning: Mapping new ns http://schemas.android.com/sdk/android/repo/addon2/02 to old ns http://schemas.android.com/sdk/android/repo/addon2/01\n",
      "Warning: Mapping new ns http://schemas.android.com/sdk/android/repo/addon2/03 to old ns http://schemas.android.com/sdk/android/repo/addon2/01\n",
      "Warning: Mapping new ns http://schemas.android.com/sdk/android/repo/repository2/02 to old ns http://schemas.android.com/sdk/android/repo/repository2/01\n",
      "Warning: Mapping new ns http://schemas.android.com/sdk/android/repo/repository2/03 to old ns http://schemas.android.com/sdk/android/repo/repository2/01\n",
      "Warning: Mapping new ns http://schemas.android.com/sdk/android/repo/sys-img2/03 to old ns http://schemas.android.com/sdk/android/repo/sys-img2/01\n",
      "Warning: Mapping new ns http://schemas.android.com/sdk/android/repo/sys-img2/02 to old ns http://schemas.android.com/sdk/android/repo/sys-img2/01\n",
      "Warning: Mapping new ns http://schemas.android.com/repository/android/common/02 to old ns http://schemas.android.com/repository/android/common/01\n",
      "Warning: Mapping new ns http://schemas.android.com/repository/android/generic/02 to old ns http://schemas.android.com/repository/android/generic/01\n",
      "Warning: Mapping new ns http://schemas.android.com/sdk/android/repo/addon2/02 to old ns http://schemas.android.com/sdk/android/repo/addon2/01\n",
      "Warning: Mapping new ns http://schemas.android.com/sdk/android/repo/addon2/03 to old ns http://schemas.android.com/sdk/android/repo/addon2/01\n",
      "Warning: Mapping new ns http://schemas.android.com/sdk/android/repo/repository2/02 to old ns http://schemas.android.com/sdk/android/repo/repository2/01\n",
      "Warning: Mapping new ns http://schemas.android.com/sdk/android/repo/repository2/03 to old ns http://schemas.android.com/sdk/android/repo/repository2/01\n",
      "Warning: Mapping new ns http://schemas.android.com/sdk/android/repo/sys-img2/03 to old ns http://schemas.android.com/sdk/android/repo/sys-img2/01\n",
      "Warning: Mapping new ns http://schemas.android.com/sdk/android/repo/sys-img2/02 to old ns http://schemas.android.com/sdk/android/repo/sys-img2/01\n",
      "Warning: Mapping new ns http://schemas.android.com/repository/android/common/02 to old ns http://schemas.android.com/repository/android/common/01\n",
      "Warning: Mapping new ns http://schemas.android.com/repository/android/generic/02 to old ns http://schemas.android.com/repository/android/generic/01\n",
      "Warning: Mapping new ns http://schemas.android.com/sdk/android/repo/addon2/02 to old ns http://schemas.android.com/sdk/android/repo/addon2/01\n",
      "Warning: Mapping new ns http://schemas.android.com/sdk/android/repo/addon2/03 to old ns http://schemas.android.com/sdk/android/repo/addon2/01\n",
      "Warning: Mapping new ns http://schemas.android.com/sdk/android/repo/repository2/02 to old ns http://schemas.android.com/sdk/android/repo/repository2/01\n",
      "Warning: Mapping new ns http://schemas.android.com/sdk/android/repo/repository2/03 to old ns http://schemas.android.com/sdk/android/repo/repository2/01\n",
      "Warning: Mapping new ns http://schemas.android.com/sdk/android/repo/sys-img2/03 to old ns http://schemas.android.com/sdk/android/repo/sys-img2/01\n",
      "Warning: Mapping new ns http://schemas.android.com/sdk/android/repo/sys-img2/02 to old ns http://schemas.android.com/sdk/android/repo/sys-img2/01\n",
      "Warning: cvc-complex-type.2.4.a: Invalid content was found starting with element 'base-extension'. One of '{layoutlib}' is expected.\n",
      "org.xml.sax.SAXParseException; lineNumber: 141; columnNumber: 252; cvc-complex-type.2.4.a: Invalid content was found starting with element 'base-extension'. One of '{layoutlib}' is expected.\n",
      "\tat com.sun.org.apache.xerces.internal.util.ErrorHandlerWrapper.createSAXParseException(ErrorHandlerWrapper.java:204)\n",
      "\tat com.sun.org.apache.xerces.internal.util.ErrorHandlerWrapper.error(ErrorHandlerWrapper.java:135)\n",
      "\tat com.sun.org.apache.xerces.internal.impl.XMLErrorReporter.reportError(XMLErrorReporter.java:395)\n",
      "\tat com.sun.org.apache.xerces.internal.impl.XMLErrorReporter.reportError(XMLErrorReporter.java:326)\n",
      "\tat com.sun.org.apache.xerces.internal.impl.XMLErrorReporter.reportError(XMLErrorReporter.java:283)\n",
      "\tat com.sun.org.apache.xerces.internal.impl.xs.XMLSchemaValidator$XSIErrorReporter.reportError(XMLSchemaValidator.java:453)\n",
      "\tat com.sun.org.apache.xerces.internal.impl.xs.XMLSchemaValidator.reportSchemaError(XMLSchemaValidator.java:3231)\n",
      "\tat com.sun.org.apache.xerces.internal.impl.xs.XMLSchemaValidator.handleStartElement(XMLSchemaValidator.java:1791)\n",
      "\tat com.sun.org.apache.xerces.internal.impl.xs.XMLSchemaValidator.startElement(XMLSchemaValidator.java:741)\n",
      "\tat com.sun.org.apache.xerces.internal.jaxp.validation.ValidatorHandlerImpl.startElement(ValidatorHandlerImpl.java:567)\n",
      "\tat com.sun.xml.internal.bind.v2.runtime.unmarshaller.ValidatingUnmarshaller.startElement(ValidatingUnmarshaller.java:86)\n",
      "\tat com.sun.xml.internal.bind.v2.runtime.unmarshaller.SAXConnector.startElement(SAXConnector.java:153)\n",
      "\tat org.xml.sax.helpers.XMLFilterImpl.startElement(XMLFilterImpl.java:551)\n",
      "\tat com.android.repository.impl.meta.SchemaModuleUtil$NamespaceFallbackFilter.startElement(SchemaModuleUtil.java:403)\n",
      "\tat com.sun.org.apache.xerces.internal.parsers.AbstractSAXParser.startElement(AbstractSAXParser.java:509)\n",
      "\tat com.sun.org.apache.xerces.internal.impl.XMLNSDocumentScannerImpl.scanStartElement(XMLNSDocumentScannerImpl.java:374)\n",
      "\tat com.sun.org.apache.xerces.internal.impl.XMLDocumentFragmentScannerImpl$FragmentContentDriver.next(XMLDocumentFragmentScannerImpl.java:2783)\n",
      "\tat com.sun.org.apache.xerces.internal.impl.XMLDocumentScannerImpl.next(XMLDocumentScannerImpl.java:601)\n",
      "\tat com.sun.org.apache.xerces.internal.impl.XMLNSDocumentScannerImpl.next(XMLNSDocumentScannerImpl.java:112)\n",
      "\tat com.sun.org.apache.xerces.internal.impl.XMLDocumentFragmentScannerImpl.scanDocument(XMLDocumentFragmentScannerImpl.java:504)\n",
      "\tat com.sun.org.apache.xerces.internal.parsers.XML11Configuration.parse(XML11Configuration.java:841)\n",
      "\tat com.sun.org.apache.xerces.internal.parsers.XML11Configuration.parse(XML11Configuration.java:770)\n",
      "\tat com.sun.org.apache.xerces.internal.parsers.XMLParser.parse(XMLParser.java:141)\n",
      "\tat com.sun.org.apache.xerces.internal.parsers.AbstractSAXParser.parse(AbstractSAXParser.java:1213)\n",
      "\tat com.sun.org.apache.xerces.internal.jaxp.SAXParserImpl$JAXPSAXParser.parse(SAXParserImpl.java:642)\n",
      "\tat org.xml.sax.helpers.XMLFilterImpl.parse(XMLFilterImpl.java:357)\n",
      "\tat com.sun.xml.internal.bind.v2.runtime.unmarshaller.UnmarshallerImpl.unmarshal0(UnmarshallerImpl.java:243)\n",
      "\tat com.sun.xml.internal.bind.v2.runtime.unmarshaller.UnmarshallerImpl.unmarshal(UnmarshallerImpl.java:214)\n",
      "\tat javax.xml.bind.helpers.AbstractUnmarshallerImpl.unmarshal(AbstractUnmarshallerImpl.java:140)\n",
      "\tat javax.xml.bind.helpers.AbstractUnmarshallerImpl.unmarshal(AbstractUnmarshallerImpl.java:123)\n",
      "\tat com.android.repository.impl.meta.SchemaModuleUtil.unmarshal(SchemaModuleUtil.java:196)\n",
      "\tat com.android.repository.impl.manager.LocalRepoLoaderImpl.parsePackage(LocalRepoLoaderImpl.java:301)\n",
      "\tat com.android.repository.impl.manager.LocalRepoLoaderImpl.parsePackages(LocalRepoLoaderImpl.java:159)\n",
      "\tat com.android.repository.impl.manager.LocalRepoLoaderImpl.getPackages(LocalRepoLoaderImpl.java:124)\n",
      "\tat com.android.repository.impl.manager.RepoManagerImpl$LoadTask.run(RepoManagerImpl.java:518)\n",
      "\tat com.android.repository.api.RepoManager$DummyProgressRunner.runSyncWithProgress(RepoManager.java:397)\n",
      "\tat com.android.repository.impl.manager.RepoManagerImpl.load(RepoManagerImpl.java:365)\n",
      "\tat com.android.repository.api.RepoManager.loadSynchronously(RepoManager.java:290)\n",
      "\tat com.android.sdklib.repository.AndroidSdkHandler$RepoConfig.createRepoManager(AndroidSdkHandler.java:725)\n",
      "\tat com.android.sdklib.repository.AndroidSdkHandler.getSdkManager(AndroidSdkHandler.java:296)\n",
      "\tat com.android.sdklib.repository.AndroidSdkHandler.getLocalPackage(AndroidSdkHandler.java:355)\n",
      "\tat com.android.sdklib.tool.AvdManagerCli.createAvd(AvdManagerCli.java:675)\n",
      "\tat com.android.sdklib.tool.AvdManagerCli.doAction(AvdManagerCli.java:386)\n",
      "\tat com.android.sdklib.tool.AvdManagerCli.run(AvdManagerCli.java:215)\n",
      "\tat com.android.sdklib.tool.AvdManagerCli.main(AvdManagerCli.java:200)\n",
      "Warning: unexpected element (uri:\"\", local:\"base-extension\"). Expected elements are <{}codename>,<{}layoutlib>,<{}api-level>\n",
      "Warning: Mapping new ns http://schemas.android.com/repository/android/common/02 to old ns http://schemas.android.com/repository/android/common/01\n",
      "Warning: Mapping new ns http://schemas.android.com/repository/android/generic/02 to old ns http://schemas.android.com/repository/android/generic/01\n",
      "Warning: Mapping new ns http://schemas.android.com/sdk/android/repo/addon2/02 to old ns http://schemas.android.com/sdk/android/repo/addon2/01\n",
      "Warning: Mapping new ns http://schemas.android.com/sdk/android/repo/addon2/03 to old ns http://schemas.android.com/sdk/android/repo/addon2/01\n",
      "Warning: Mapping new ns http://schemas.android.com/sdk/android/repo/repository2/02 to old ns http://schemas.android.com/sdk/android/repo/repository2/01\n",
      "Warning: Mapping new ns http://schemas.android.com/sdk/android/repo/repository2/03 to old ns http://schemas.android.com/sdk/android/repo/repository2/01\n",
      "Warning: Mapping new ns http://schemas.android.com/sdk/android/repo/sys-img2/03 to old ns http://schemas.android.com/sdk/android/repo/sys-img2/01\n",
      "Warning: Mapping new ns http://schemas.android.com/sdk/android/repo/sys-img2/02 to old ns http://schemas.android.com/sdk/android/repo/sys-img2/01\n",
      "Warning: cvc-complex-type.2.4.d: Invalid content was found starting with element 'base-extension'. No child element is expected at this point.\n",
      "org.xml.sax.SAXParseException; lineNumber: 141; columnNumber: 248; cvc-complex-type.2.4.d: Invalid content was found starting with element 'base-extension'. No child element is expected at this point.\n",
      "\tat com.sun.org.apache.xerces.internal.util.ErrorHandlerWrapper.createSAXParseException(ErrorHandlerWrapper.java:204)\n",
      "\tat com.sun.org.apache.xerces.internal.util.ErrorHandlerWrapper.error(ErrorHandlerWrapper.java:135)\n",
      "\tat com.sun.org.apache.xerces.internal.impl.XMLErrorReporter.reportError(XMLErrorReporter.java:395)\n",
      "\tat com.sun.org.apache.xerces.internal.impl.XMLErrorReporter.reportError(XMLErrorReporter.java:326)\n",
      "\tat com.sun.org.apache.xerces.internal.impl.XMLErrorReporter.reportError(XMLErrorReporter.java:283)\n",
      "\tat com.sun.org.apache.xerces.internal.impl.xs.XMLSchemaValidator$XSIErrorReporter.reportError(XMLSchemaValidator.java:453)\n",
      "\tat com.sun.org.apache.xerces.internal.impl.xs.XMLSchemaValidator.reportSchemaError(XMLSchemaValidator.java:3231)\n",
      "\tat com.sun.org.apache.xerces.internal.impl.xs.XMLSchemaValidator.handleStartElement(XMLSchemaValidator.java:1795)\n",
      "\tat com.sun.org.apache.xerces.internal.impl.xs.XMLSchemaValidator.startElement(XMLSchemaValidator.java:741)\n",
      "\tat com.sun.org.apache.xerces.internal.jaxp.validation.ValidatorHandlerImpl.startElement(ValidatorHandlerImpl.java:567)\n",
      "\tat com.sun.xml.internal.bind.v2.runtime.unmarshaller.ValidatingUnmarshaller.startElement(ValidatingUnmarshaller.java:86)\n",
      "\tat com.sun.xml.internal.bind.v2.runtime.unmarshaller.SAXConnector.startElement(SAXConnector.java:153)\n",
      "\tat org.xml.sax.helpers.XMLFilterImpl.startElement(XMLFilterImpl.java:551)\n",
      "\tat com.android.repository.impl.meta.SchemaModuleUtil$NamespaceFallbackFilter.startElement(SchemaModuleUtil.java:403)\n",
      "\tat com.sun.org.apache.xerces.internal.parsers.AbstractSAXParser.startElement(AbstractSAXParser.java:509)\n",
      "\tat com.sun.org.apache.xerces.internal.impl.XMLNSDocumentScannerImpl.scanStartElement(XMLNSDocumentScannerImpl.java:374)\n",
      "\tat com.sun.org.apache.xerces.internal.impl.XMLDocumentFragmentScannerImpl$FragmentContentDriver.next(XMLDocumentFragmentScannerImpl.java:2783)\n",
      "\tat com.sun.org.apache.xerces.internal.impl.XMLDocumentScannerImpl.next(XMLDocumentScannerImpl.java:601)\n",
      "\tat com.sun.org.apache.xerces.internal.impl.XMLNSDocumentScannerImpl.next(XMLNSDocumentScannerImpl.java:112)\n",
      "\tat com.sun.org.apache.xerces.internal.impl.XMLDocumentFragmentScannerImpl.scanDocument(XMLDocumentFragmentScannerImpl.java:504)\n",
      "\tat com.sun.org.apache.xerces.internal.parsers.XML11Configuration.parse(XML11Configuration.java:841)\n",
      "\tat com.sun.org.apache.xerces.internal.parsers.XML11Configuration.parse(XML11Configuration.java:770)\n",
      "\tat com.sun.org.apache.xerces.internal.parsers.XMLParser.parse(XMLParser.java:141)\n",
      "\tat com.sun.org.apache.xerces.internal.parsers.AbstractSAXParser.parse(AbstractSAXParser.java:1213)\n",
      "\tat com.sun.org.apache.xerces.internal.jaxp.SAXParserImpl$JAXPSAXParser.parse(SAXParserImpl.java:642)\n",
      "\tat org.xml.sax.helpers.XMLFilterImpl.parse(XMLFilterImpl.java:357)\n",
      "\tat com.sun.xml.internal.bind.v2.runtime.unmarshaller.UnmarshallerImpl.unmarshal0(UnmarshallerImpl.java:243)\n",
      "\tat com.sun.xml.internal.bind.v2.runtime.unmarshaller.UnmarshallerImpl.unmarshal(UnmarshallerImpl.java:214)\n",
      "\tat javax.xml.bind.helpers.AbstractUnmarshallerImpl.unmarshal(AbstractUnmarshallerImpl.java:140)\n",
      "\tat javax.xml.bind.helpers.AbstractUnmarshallerImpl.unmarshal(AbstractUnmarshallerImpl.java:123)\n",
      "\tat com.android.repository.impl.meta.SchemaModuleUtil.unmarshal(SchemaModuleUtil.java:196)\n",
      "\tat com.android.repository.impl.manager.LocalRepoLoaderImpl.parsePackage(LocalRepoLoaderImpl.java:301)\n",
      "\tat com.android.repository.impl.manager.LocalRepoLoaderImpl.parsePackages(LocalRepoLoaderImpl.java:159)\n",
      "\tat com.android.repository.impl.manager.LocalRepoLoaderImpl.getPackages(LocalRepoLoaderImpl.java:124)\n",
      "\tat com.android.repository.impl.manager.RepoManagerImpl$LoadTask.run(RepoManagerImpl.java:518)\n",
      "\tat com.android.repository.api.RepoManager$DummyProgressRunner.runSyncWithProgress(RepoManager.java:397)\n",
      "\tat com.android.repository.impl.manager.RepoManagerImpl.load(RepoManagerImpl.java:365)\n",
      "\tat com.android.repository.api.RepoManager.loadSynchronously(RepoManager.java:290)\n",
      "\tat com.android.sdklib.repository.AndroidSdkHandler$RepoConfig.createRepoManager(AndroidSdkHandler.java:725)\n",
      "\tat com.android.sdklib.repository.AndroidSdkHandler.getSdkManager(AndroidSdkHandler.java:296)\n",
      "\tat com.android.sdklib.repository.AndroidSdkHandler.getLocalPackage(AndroidSdkHandler.java:355)\n",
      "\tat com.android.sdklib.tool.AvdManagerCli.createAvd(AvdManagerCli.java:675)\n",
      "\tat com.android.sdklib.tool.AvdManagerCli.doAction(AvdManagerCli.java:386)\n",
      "\tat com.android.sdklib.tool.AvdManagerCli.run(AvdManagerCli.java:215)\n",
      "\tat com.android.sdklib.tool.AvdManagerCli.main(AvdManagerCli.java:200)\n",
      "Warning: unexpected element (uri:\"\", local:\"base-extension\"). Expected elements are <{}codename>,<{}api-level>\n",
      "Warning: Mapping new ns http://schemas.android.com/repository/android/common/02 to old ns http://schemas.android.com/repository/android/common/01\n",
      "Warning: Mapping new ns http://schemas.android.com/repository/android/generic/02 to old ns http://schemas.android.com/repository/android/generic/01\n",
      "Warning: Mapping new ns http://schemas.android.com/sdk/android/repo/addon2/02 to old ns http://schemas.android.com/sdk/android/repo/addon2/01\n",
      "Warning: Mapping new ns http://schemas.android.com/sdk/android/repo/addon2/03 to old ns http://schemas.android.com/sdk/android/repo/addon2/01\n",
      "Warning: Mapping new ns http://schemas.android.com/sdk/android/repo/repository2/02 to old ns http://schemas.android.com/sdk/android/repo/repository2/01\n",
      "Warning: Mapping new ns http://schemas.android.com/sdk/android/repo/repository2/03 to old ns http://schemas.android.com/sdk/android/repo/repository2/01\n",
      "Warning: Mapping new ns http://schemas.android.com/sdk/android/repo/sys-img2/03 to old ns http://schemas.android.com/sdk/android/repo/sys-img2/01\n",
      "Warning: Mapping new ns http://schemas.android.com/sdk/android/repo/sys-img2/02 to old ns http://schemas.android.com/sdk/android/repo/sys-img2/01\n",
      "Warning: cvc-complex-type.2.4.a: Invalid content was found starting with element 'base-extension'. One of '{codename, tag}' is expected.\n",
      "org.xml.sax.SAXParseException; lineNumber: 141; columnNumber: 249; cvc-complex-type.2.4.a: Invalid content was found starting with element 'base-extension'. One of '{codename, tag}' is expected.\n",
      "\tat com.sun.org.apache.xerces.internal.util.ErrorHandlerWrapper.createSAXParseException(ErrorHandlerWrapper.java:204)\n",
      "\tat com.sun.org.apache.xerces.internal.util.ErrorHandlerWrapper.error(ErrorHandlerWrapper.java:135)\n",
      "\tat com.sun.org.apache.xerces.internal.impl.XMLErrorReporter.reportError(XMLErrorReporter.java:395)\n",
      "\tat com.sun.org.apache.xerces.internal.impl.XMLErrorReporter.reportError(XMLErrorReporter.java:326)\n",
      "\tat com.sun.org.apache.xerces.internal.impl.XMLErrorReporter.reportError(XMLErrorReporter.java:283)\n",
      "\tat com.sun.org.apache.xerces.internal.impl.xs.XMLSchemaValidator$XSIErrorReporter.reportError(XMLSchemaValidator.java:453)\n",
      "\tat com.sun.org.apache.xerces.internal.impl.xs.XMLSchemaValidator.reportSchemaError(XMLSchemaValidator.java:3231)\n",
      "\tat com.sun.org.apache.xerces.internal.impl.xs.XMLSchemaValidator.handleStartElement(XMLSchemaValidator.java:1791)\n",
      "\tat com.sun.org.apache.xerces.internal.impl.xs.XMLSchemaValidator.startElement(XMLSchemaValidator.java:741)\n",
      "\tat com.sun.org.apache.xerces.internal.jaxp.validation.ValidatorHandlerImpl.startElement(ValidatorHandlerImpl.java:567)\n",
      "\tat com.sun.xml.internal.bind.v2.runtime.unmarshaller.ValidatingUnmarshaller.startElement(ValidatingUnmarshaller.java:86)\n",
      "\tat com.sun.xml.internal.bind.v2.runtime.unmarshaller.SAXConnector.startElement(SAXConnector.java:153)\n",
      "\tat org.xml.sax.helpers.XMLFilterImpl.startElement(XMLFilterImpl.java:551)\n",
      "\tat com.android.repository.impl.meta.SchemaModuleUtil$NamespaceFallbackFilter.startElement(SchemaModuleUtil.java:403)\n",
      "\tat com.sun.org.apache.xerces.internal.parsers.AbstractSAXParser.startElement(AbstractSAXParser.java:509)\n",
      "\tat com.sun.org.apache.xerces.internal.impl.XMLNSDocumentScannerImpl.scanStartElement(XMLNSDocumentScannerImpl.java:374)\n",
      "\tat com.sun.org.apache.xerces.internal.impl.XMLDocumentFragmentScannerImpl$FragmentContentDriver.next(XMLDocumentFragmentScannerImpl.java:2783)\n",
      "\tat com.sun.org.apache.xerces.internal.impl.XMLDocumentScannerImpl.next(XMLDocumentScannerImpl.java:601)\n",
      "\tat com.sun.org.apache.xerces.internal.impl.XMLNSDocumentScannerImpl.next(XMLNSDocumentScannerImpl.java:112)\n",
      "\tat com.sun.org.apache.xerces.internal.impl.XMLDocumentFragmentScannerImpl.scanDocument(XMLDocumentFragmentScannerImpl.java:504)\n",
      "\tat com.sun.org.apache.xerces.internal.parsers.XML11Configuration.parse(XML11Configuration.java:841)\n",
      "\tat com.sun.org.apache.xerces.internal.parsers.XML11Configuration.parse(XML11Configuration.java:770)\n",
      "\tat com.sun.org.apache.xerces.internal.parsers.XMLParser.parse(XMLParser.java:141)\n",
      "\tat com.sun.org.apache.xerces.internal.parsers.AbstractSAXParser.parse(AbstractSAXParser.java:1213)\n",
      "\tat com.sun.org.apache.xerces.internal.jaxp.SAXParserImpl$JAXPSAXParser.parse(SAXParserImpl.java:642)\n",
      "\tat org.xml.sax.helpers.XMLFilterImpl.parse(XMLFilterImpl.java:357)\n",
      "\tat com.sun.xml.internal.bind.v2.runtime.unmarshaller.UnmarshallerImpl.unmarshal0(UnmarshallerImpl.java:243)\n",
      "\tat com.sun.xml.internal.bind.v2.runtime.unmarshaller.UnmarshallerImpl.unmarshal(UnmarshallerImpl.java:214)\n",
      "\tat javax.xml.bind.helpers.AbstractUnmarshallerImpl.unmarshal(AbstractUnmarshallerImpl.java:140)\n",
      "\tat javax.xml.bind.helpers.AbstractUnmarshallerImpl.unmarshal(AbstractUnmarshallerImpl.java:123)\n",
      "\tat com.android.repository.impl.meta.SchemaModuleUtil.unmarshal(SchemaModuleUtil.java:196)\n",
      "\tat com.android.repository.impl.manager.LocalRepoLoaderImpl.parsePackage(LocalRepoLoaderImpl.java:301)\n",
      "\tat com.android.repository.impl.manager.LocalRepoLoaderImpl.parsePackages(LocalRepoLoaderImpl.java:159)\n",
      "\tat com.android.repository.impl.manager.LocalRepoLoaderImpl.getPackages(LocalRepoLoaderImpl.java:124)\n",
      "\tat com.android.repository.impl.manager.RepoManagerImpl$LoadTask.run(RepoManagerImpl.java:518)\n",
      "\tat com.android.repository.api.RepoManager$DummyProgressRunner.runSyncWithProgress(RepoManager.java:397)\n",
      "\tat com.android.repository.impl.manager.RepoManagerImpl.load(RepoManagerImpl.java:365)\n",
      "\tat com.android.repository.api.RepoManager.loadSynchronously(RepoManager.java:290)\n",
      "\tat com.android.sdklib.repository.AndroidSdkHandler$RepoConfig.createRepoManager(AndroidSdkHandler.java:725)\n",
      "\tat com.android.sdklib.repository.AndroidSdkHandler.getSdkManager(AndroidSdkHandler.java:296)\n",
      "\tat com.android.sdklib.repository.AndroidSdkHandler.getLocalPackage(AndroidSdkHandler.java:355)\n",
      "\tat com.android.sdklib.tool.AvdManagerCli.createAvd(AvdManagerCli.java:675)\n",
      "\tat com.android.sdklib.tool.AvdManagerCli.doAction(AvdManagerCli.java:386)\n",
      "\tat com.android.sdklib.tool.AvdManagerCli.run(AvdManagerCli.java:215)\n",
      "\tat com.android.sdklib.tool.AvdManagerCli.main(AvdManagerCli.java:200)\n",
      "Warning: unexpected element (uri:\"\", local:\"base-extension\"). Expected elements are <{}vendor>,<{}codename>,<{}abi>,<{}api-level>,<{}tag>\n",
      "Warning: Mapping new ns http://schemas.android.com/repository/android/common/02 to old ns http://schemas.android.com/repository/android/common/01\n",
      "Warning: Mapping new ns http://schemas.android.com/repository/android/generic/02 to old ns http://schemas.android.com/repository/android/generic/01\n",
      "Warning: Mapping new ns http://schemas.android.com/sdk/android/repo/addon2/02 to old ns http://schemas.android.com/sdk/android/repo/addon2/01\n",
      "Warning: Mapping new ns http://schemas.android.com/sdk/android/repo/addon2/03 to old ns http://schemas.android.com/sdk/android/repo/addon2/01\n",
      "Warning: Mapping new ns http://schemas.android.com/sdk/android/repo/repository2/02 to old ns http://schemas.android.com/sdk/android/repo/repository2/01\n",
      "Warning: Mapping new ns http://schemas.android.com/sdk/android/repo/repository2/03 to old ns http://schemas.android.com/sdk/android/repo/repository2/01\n",
      "Warning: Mapping new ns http://schemas.android.com/sdk/android/repo/sys-img2/03 to old ns http://schemas.android.com/sdk/android/repo/sys-img2/01\n",
      "Warning: Mapping new ns http://schemas.android.com/sdk/android/repo/sys-img2/02 to old ns http://schemas.android.com/sdk/android/repo/sys-img2/01\n",
      "Warning: cvc-complex-type.2.4.a: Invalid content was found starting with element 'base-extension'. One of '{codename, tag}' is expected.\n",
      "org.xml.sax.SAXParseException; lineNumber: 131; columnNumber: 246; cvc-complex-type.2.4.a: Invalid content was found starting with element 'base-extension'. One of '{codename, tag}' is expected.\n",
      "\tat com.sun.org.apache.xerces.internal.util.ErrorHandlerWrapper.createSAXParseException(ErrorHandlerWrapper.java:204)\n",
      "\tat com.sun.org.apache.xerces.internal.util.ErrorHandlerWrapper.error(ErrorHandlerWrapper.java:135)\n",
      "\tat com.sun.org.apache.xerces.internal.impl.XMLErrorReporter.reportError(XMLErrorReporter.java:395)\n",
      "\tat com.sun.org.apache.xerces.internal.impl.XMLErrorReporter.reportError(XMLErrorReporter.java:326)\n",
      "\tat com.sun.org.apache.xerces.internal.impl.XMLErrorReporter.reportError(XMLErrorReporter.java:283)\n",
      "\tat com.sun.org.apache.xerces.internal.impl.xs.XMLSchemaValidator$XSIErrorReporter.reportError(XMLSchemaValidator.java:453)\n",
      "\tat com.sun.org.apache.xerces.internal.impl.xs.XMLSchemaValidator.reportSchemaError(XMLSchemaValidator.java:3231)\n",
      "\tat com.sun.org.apache.xerces.internal.impl.xs.XMLSchemaValidator.handleStartElement(XMLSchemaValidator.java:1791)\n",
      "\tat com.sun.org.apache.xerces.internal.impl.xs.XMLSchemaValidator.startElement(XMLSchemaValidator.java:741)\n",
      "\tat com.sun.org.apache.xerces.internal.jaxp.validation.ValidatorHandlerImpl.startElement(ValidatorHandlerImpl.java:567)\n",
      "\tat com.sun.xml.internal.bind.v2.runtime.unmarshaller.ValidatingUnmarshaller.startElement(ValidatingUnmarshaller.java:86)\n",
      "\tat com.sun.xml.internal.bind.v2.runtime.unmarshaller.SAXConnector.startElement(SAXConnector.java:153)\n",
      "\tat org.xml.sax.helpers.XMLFilterImpl.startElement(XMLFilterImpl.java:551)\n",
      "\tat com.android.repository.impl.meta.SchemaModuleUtil$NamespaceFallbackFilter.startElement(SchemaModuleUtil.java:403)\n",
      "\tat com.sun.org.apache.xerces.internal.parsers.AbstractSAXParser.startElement(AbstractSAXParser.java:509)\n",
      "\tat com.sun.org.apache.xerces.internal.impl.XMLNSDocumentScannerImpl.scanStartElement(XMLNSDocumentScannerImpl.java:374)\n",
      "\tat com.sun.org.apache.xerces.internal.impl.XMLDocumentFragmentScannerImpl$FragmentContentDriver.next(XMLDocumentFragmentScannerImpl.java:2783)\n",
      "\tat com.sun.org.apache.xerces.internal.impl.XMLDocumentScannerImpl.next(XMLDocumentScannerImpl.java:601)\n",
      "\tat com.sun.org.apache.xerces.internal.impl.XMLNSDocumentScannerImpl.next(XMLNSDocumentScannerImpl.java:112)\n",
      "\tat com.sun.org.apache.xerces.internal.impl.XMLDocumentFragmentScannerImpl.scanDocument(XMLDocumentFragmentScannerImpl.java:504)\n",
      "\tat com.sun.org.apache.xerces.internal.parsers.XML11Configuration.parse(XML11Configuration.java:841)\n",
      "\tat com.sun.org.apache.xerces.internal.parsers.XML11Configuration.parse(XML11Configuration.java:770)\n",
      "\tat com.sun.org.apache.xerces.internal.parsers.XMLParser.parse(XMLParser.java:141)\n",
      "\tat com.sun.org.apache.xerces.internal.parsers.AbstractSAXParser.parse(AbstractSAXParser.java:1213)\n",
      "\tat com.sun.org.apache.xerces.internal.jaxp.SAXParserImpl$JAXPSAXParser.parse(SAXParserImpl.java:642)\n",
      "\tat org.xml.sax.helpers.XMLFilterImpl.parse(XMLFilterImpl.java:357)\n",
      "\tat com.sun.xml.internal.bind.v2.runtime.unmarshaller.UnmarshallerImpl.unmarshal0(UnmarshallerImpl.java:243)\n",
      "\tat com.sun.xml.internal.bind.v2.runtime.unmarshaller.UnmarshallerImpl.unmarshal(UnmarshallerImpl.java:214)\n",
      "\tat javax.xml.bind.helpers.AbstractUnmarshallerImpl.unmarshal(AbstractUnmarshallerImpl.java:140)\n",
      "\tat javax.xml.bind.helpers.AbstractUnmarshallerImpl.unmarshal(AbstractUnmarshallerImpl.java:123)\n",
      "\tat com.android.repository.impl.meta.SchemaModuleUtil.unmarshal(SchemaModuleUtil.java:196)\n",
      "\tat com.android.repository.impl.manager.LocalRepoLoaderImpl.parsePackage(LocalRepoLoaderImpl.java:301)\n",
      "\tat com.android.repository.impl.manager.LocalRepoLoaderImpl.parsePackages(LocalRepoLoaderImpl.java:159)\n",
      "\tat com.android.repository.impl.manager.LocalRepoLoaderImpl.getPackages(LocalRepoLoaderImpl.java:124)\n",
      "\tat com.android.repository.impl.manager.RepoManagerImpl$LoadTask.run(RepoManagerImpl.java:518)\n",
      "\tat com.android.repository.api.RepoManager$DummyProgressRunner.runSyncWithProgress(RepoManager.java:397)\n",
      "\tat com.android.repository.impl.manager.RepoManagerImpl.load(RepoManagerImpl.java:365)\n",
      "\tat com.android.repository.api.RepoManager.loadSynchronously(RepoManager.java:290)\n",
      "\tat com.android.sdklib.repository.AndroidSdkHandler$RepoConfig.createRepoManager(AndroidSdkHandler.java:725)\n",
      "\tat com.android.sdklib.repository.AndroidSdkHandler.getSdkManager(AndroidSdkHandler.java:296)\n",
      "\tat com.android.sdklib.repository.AndroidSdkHandler.getLocalPackage(AndroidSdkHandler.java:355)\n",
      "\tat com.android.sdklib.tool.AvdManagerCli.createAvd(AvdManagerCli.java:675)\n",
      "\tat com.android.sdklib.tool.AvdManagerCli.doAction(AvdManagerCli.java:386)\n",
      "\tat com.android.sdklib.tool.AvdManagerCli.run(AvdManagerCli.java:215)\n",
      "\tat com.android.sdklib.tool.AvdManagerCli.main(AvdManagerCli.java:200)\n",
      "Warning: unexpected element (uri:\"\", local:\"base-extension\"). Expected elements are <{}vendor>,<{}codename>,<{}abi>,<{}api-level>,<{}tag>\n",
      "Warning: Mapping new ns http://schemas.android.com/repository/android/common/02 to old ns http://schemas.android.com/repository/android/common/01\n",
      "Warning: Mapping new ns http://schemas.android.com/repository/android/generic/02 to old ns http://schemas.android.com/repository/android/generic/01\n",
      "Warning: Mapping new ns http://schemas.android.com/sdk/android/repo/addon2/02 to old ns http://schemas.android.com/sdk/android/repo/addon2/01\n",
      "Warning: Mapping new ns http://schemas.android.com/sdk/android/repo/addon2/03 to old ns http://schemas.android.com/sdk/android/repo/addon2/01\n",
      "Warning: Mapping new ns http://schemas.android.com/sdk/android/repo/repository2/02 to old ns http://schemas.android.com/sdk/android/repo/repository2/01\n",
      "Warning: Mapping new ns http://schemas.android.com/sdk/android/repo/repository2/03 to old ns http://schemas.android.com/sdk/android/repo/repository2/01\n",
      "Warning: Mapping new ns http://schemas.android.com/sdk/android/repo/sys-img2/03 to old ns http://schemas.android.com/sdk/android/repo/sys-img2/01\n",
      "Warning: Mapping new ns http://schemas.android.com/sdk/android/repo/sys-img2/02 to old ns http://schemas.android.com/sdk/android/repo/sys-img2/01\n"
     ]
    },
    {
     "data": {
      "text/plain": [
       "'Loading local repository...                                                     \\r[=========                              ] 25% Loading local repository...       \\r[=========                              ] 25% Fetch remote repository...        \\r[=========                              ] 25% Fetch remote repository...        \\r[=========                              ] 25% Fetch remote repository...        \\r[=======================================] 100% Fetch remote repository...       \\rParsing /home/ezetap-eze10194/Android/Sdk/build-tools/30.0.3/package.xmlParsing /home/ezetap-eze10194/Android/Sdk/build-tools/32.0.0/package.xmlParsing /home/ezetap-eze10194/Android/Sdk/build-tools/32.1.0-rc1/package.xmlParsing /home/ezetap-eze10194/Android/Sdk/emulator/package.xmlParsing /home/ezetap-eze10194/Android/Sdk/ndk/25.1.8937393/package.xmlParsing /home/ezetap-eze10194/Android/Sdk/patcher/v4/package.xmlParsing /home/ezetap-eze10194/Android/Sdk/platform-tools/package.xmlParsing /home/ezetap-eze10194/Android/Sdk/platforms/android-32/package.xmlParsing /home/ezetap-eze10194/Android/Sdk/sources/android-32/package.xmlParsing /home/ezetap-eze10194/Android/Sdk/system-images/android-29/google_apis/x86/package.xmlParsing /home/ezetap-eze10194/Android/Sdk/system-images/android-31/google_apis/x86_64/package.xmlParsing /home/ezetap-eze10194/Android/Sdk/tools/package.xmlDo you wish to create a custom hardware profile? [no]'"
      ]
     },
     "execution_count": 2,
     "metadata": {},
     "output_type": "execute_result"
    }
   ],
   "source": [
    "em.create()"
   ]
  },
  {
   "cell_type": "code",
   "execution_count": 4,
   "metadata": {},
   "outputs": [
    {
     "name": "stdout",
     "output_type": "stream",
     "text": [
      "/home/ezetap-eze10194/Android/Sdk/emulator/emulator -avd testAVD\n"
     ]
    },
    {
     "data": {
      "text/plain": [
       "'Multiprocess started! PID in background = 221521'"
      ]
     },
     "execution_count": 4,
     "metadata": {},
     "output_type": "execute_result"
    },
    {
     "name": "stderr",
     "output_type": "stream",
     "text": [
      "WARNING | unexpected system image feature string, emulator might not function correctly, please try updating the emulator.\n",
      "WARNING | cannot add library /home/ezetap-eze10194/Android/Sdk/emulator/qemu/linux-x86_64/lib64/vulkan/libvulkan.so: failed\n",
      "MESA-INTEL: warning: Performance support disabled, consider sysctl dev.i915.perf_stream_paranoid=0\n",
      "\n"
     ]
    }
   ],
   "source": [
    "em.start()"
   ]
  },
  {
   "cell_type": "code",
   "execution_count": 23,
   "metadata": {},
   "outputs": [
    {
     "data": {
      "text/plain": [
       "'emulator-5556'"
      ]
     },
     "execution_count": 23,
     "metadata": {},
     "output_type": "execute_result"
    }
   ],
   "source": [
    "input_avd_name = 'testAVD'\n",
    "get_adb_id_from_avd_name('testAVD')"
   ]
  },
  {
   "cell_type": "code",
   "execution_count": 19,
   "metadata": {},
   "outputs": [
    {
     "data": {
      "text/plain": [
       "{'emulator-5556': 'testAVD'}"
      ]
     },
     "execution_count": 19,
     "metadata": {},
     "output_type": "execute_result"
    }
   ],
   "source": [
    "\n"
   ]
  },
  {
   "cell_type": "code",
   "execution_count": 5,
   "metadata": {},
   "outputs": [
    {
     "name": "stdout",
     "output_type": "stream",
     "text": [
      "/home/ezetap-eze10194/Android/Sdk/emulator/emulator -avd testAVD\n"
     ]
    },
    {
     "data": {
      "text/plain": [
       "'Multiprocess started! PID in background = 216009'"
      ]
     },
     "execution_count": 5,
     "metadata": {},
     "output_type": "execute_result"
    },
    {
     "name": "stderr",
     "output_type": "stream",
     "text": [
      "WARNING | unexpected system image feature string, emulator might not function correctly, please try updating the emulator.\n",
      "WARNING | cannot add library /home/ezetap-eze10194/Android/Sdk/emulator/qemu/linux-x86_64/lib64/vulkan/libvulkan.so: failed\n",
      "MESA-INTEL: warning: Performance support disabled, consider sysctl dev.i915.perf_stream_paranoid=0\n",
      "\n"
     ]
    },
    {
     "name": "stdout",
     "output_type": "stream",
     "text": [
      "INFO    | added library /home/ezetap-eze10194/Android/Sdk/emulator/lib64/vulkan/libvulkan.so\n",
      "INFO    | configAndStartRenderer: setting vsync to 60 hz\n",
      "INFO    | Sending adb public key [QAAAAEuK8emdkLwOK1YvNM4hdPpQ+RBD+1SdSkENRUEMxnU0KB1ARONZEt5bdTUiJ883iDuap98XVTNsUQ00N8OrclMN1xkpRuUN53hKhqiLJJpBEGXACIM713+Y1+M1unaRQzLCfESjqJ5MSsX4n7+Ylf7qmapBfmWn0rTomUi42T7QXDrZytDejVwXeQfDkn10sS/USk/l4HkEZdbg2dD7WTaDFszcyNafLkcg6BAXROJKrzL7goZWM/jTh9o/Od38RcJb4WyfnSZV5Sf8gG7qMv1RhsvsZMa6mbBbS2y9p7DstfxsB583rUr2rFm+WZZPPUO95061UFfetSr6nrBbsZVMuv2y3AovNg9Ad0AhUNk+WvAWLGniGrjP4J+UWk2di6s6pCw959sy4+A2UR057oFJCZPGKPoj5eS91pchef08it64Hn8gcaYQfYP3NYGPgsfUAuwJmYsbpg/X011yKL8OtAwXok5pF+c6KKWJdcMxAA2mATpBNcNCUcK8C6fM8x/s9ONBvAVgXmSP7mQ+qcr72h0iRA6uGYIAH7c7pMU2p3UcyGUJFXsvvYlFyW8OlMMxUFJg071SeC/iCatpf3zYOoEYzDCXE0rYFKTEWwbxgOUvbZaTLEWIE8IYkL3e84YUE99CfMNsHFTSv+n9yjJ+haV265+NdwFZwurCQdbdS00NhwEAAQA= ezetap-eze10194@unknown]\n",
      "INFO    | Rootcanal has  been activated.\n",
      "INFO    | Started GRPC server at 127.0.0.1:8556, security: Local\n",
      "INFO    | Advertising in: /run/user/1000/avd/running/pid_216011.ini\n",
      "INFO    | boot completed\n",
      "INFO    | boot time 52963 ms\n",
      "INFO    | Increasing screen off timeout, logcat buffer size to 2M.\n",
      "INFO    | Revoking microphone permissions for Google App.\n"
     ]
    }
   ],
   "source": [
    "process_id_info = em.start()\n",
    "process_id_info"
   ]
  },
  {
   "cell_type": "code",
   "execution_count": 14,
   "metadata": {},
   "outputs": [
    {
     "data": {
      "text/plain": [
       "['emulator-5556']"
      ]
     },
     "execution_count": 14,
     "metadata": {},
     "output_type": "execute_result"
    }
   ],
   "source": []
  },
  {
   "cell_type": "code",
   "execution_count": 15,
   "metadata": {},
   "outputs": [
    {
     "data": {
      "text/plain": [
       "'testAVD'"
      ]
     },
     "execution_count": 15,
     "metadata": {},
     "output_type": "execute_result"
    }
   ],
   "source": [
    "adb_devices = get_adb_devices()\n",
    "\n",
    "for adb_device_id in \n",
    "adb_device_id = 'emulator-5556'\n",
    "get_avd_name_from_adb_device_id(adb_device_id)"
   ]
  },
  {
   "cell_type": "code",
   "execution_count": 11,
   "metadata": {},
   "outputs": [],
   "source": [
    "em.child_process.kill()"
   ]
  },
  {
   "cell_type": "code",
   "execution_count": 12,
   "metadata": {},
   "outputs": [
    {
     "data": {
      "text/plain": [
       "216009"
      ]
     },
     "execution_count": 12,
     "metadata": {},
     "output_type": "execute_result"
    }
   ],
   "source": [
    "try:\n",
    "    pid = int(process_id_info.split(\"=\")[-1])\n",
    "except:\n",
    "    print(\"Unable to get the process id\")\n",
    "\n",
    "pid"
   ]
  },
  {
   "cell_type": "code",
   "execution_count": 13,
   "metadata": {},
   "outputs": [],
   "source": [
    "# kill a process via pid\n",
    "import signal\n",
    "os.kill(pid, signal.SIGKILL)"
   ]
  },
  {
   "cell_type": "code",
   "execution_count": 5,
   "metadata": {},
   "outputs": [
    {
     "name": "stdout",
     "output_type": "stream",
     "text": [
      "error: could not connect to TCP port 5556: Connection refused\n"
     ]
    }
   ],
   "source": [
    "!adb -s emulator-5556 emu kill"
   ]
  },
  {
   "cell_type": "code",
   "execution_count": 25,
   "metadata": {},
   "outputs": [
    {
     "name": "stdout",
     "output_type": "stream",
     "text": [
      "/home/ezetap-eze10194/Android/Sdk/emulator/emulator -avd testAVD\n"
     ]
    },
    {
     "name": "stderr",
     "output_type": "stream",
     "text": [
      "WARNING | unexpected system image feature string, emulator might not function correctly, please try updating the emulator.\n",
      "WARNING | cannot add library /home/ezetap-eze10194/Android/Sdk/emulator/qemu/linux-x86_64/lib64/vulkan/libvulkan.so: failed\n",
      "MESA-INTEL: warning: Performance support disabled, consider sysctl dev.i915.perf_stream_paranoid=0\n",
      "\n"
     ]
    },
    {
     "name": "stdout",
     "output_type": "stream",
     "text": [
      "INFO    | added library /home/ezetap-eze10194/Android/Sdk/emulator/lib64/vulkan/libvulkan.so\n",
      "INFO    | configAndStartRenderer: setting vsync to 60 hz\n",
      "INFO    | Sending adb public key [QAAAAEuK8emdkLwOK1YvNM4hdPpQ+RBD+1SdSkENRUEMxnU0KB1ARONZEt5bdTUiJ883iDuap98XVTNsUQ00N8OrclMN1xkpRuUN53hKhqiLJJpBEGXACIM713+Y1+M1unaRQzLCfESjqJ5MSsX4n7+Ylf7qmapBfmWn0rTomUi42T7QXDrZytDejVwXeQfDkn10sS/USk/l4HkEZdbg2dD7WTaDFszcyNafLkcg6BAXROJKrzL7goZWM/jTh9o/Od38RcJb4WyfnSZV5Sf8gG7qMv1RhsvsZMa6mbBbS2y9p7DstfxsB583rUr2rFm+WZZPPUO95061UFfetSr6nrBbsZVMuv2y3AovNg9Ad0AhUNk+WvAWLGniGrjP4J+UWk2di6s6pCw959sy4+A2UR057oFJCZPGKPoj5eS91pchef08it64Hn8gcaYQfYP3NYGPgsfUAuwJmYsbpg/X011yKL8OtAwXok5pF+c6KKWJdcMxAA2mATpBNcNCUcK8C6fM8x/s9ONBvAVgXmSP7mQ+qcr72h0iRA6uGYIAH7c7pMU2p3UcyGUJFXsvvYlFyW8OlMMxUFJg071SeC/iCatpf3zYOoEYzDCXE0rYFKTEWwbxgOUvbZaTLEWIE8IYkL3e84YUE99CfMNsHFTSv+n9yjJ+haV265+NdwFZwurCQdbdS00NhwEAAQA= ezetap-eze10194@unknown]\n",
      "INFO    | Rootcanal has  been activated.\n",
      "INFO    | Started GRPC server at 127.0.0.1:8556, security: Local\n",
      "INFO    | Advertising in: /run/user/1000/avd/running/pid_214621.ini\n",
      "INFO    | Your emulator is out of date, please update by launching Android Studio:\n",
      " - Start Android Studio\n",
      " - Select menu \"Tools > Android > SDK Manager\"\n",
      " - Click \"SDK Tools\" tab\n",
      " - Check \"Android Emulator\" checkbox\n",
      " - Click \"OK\"\n",
      "\n"
     ]
    }
   ],
   "source": []
  },
  {
   "cell_type": "code",
   "execution_count": 11,
   "metadata": {},
   "outputs": [
    {
     "data": {
      "text/plain": [
       "('Based on: Android API 31 ', 'Tag/ABI: google_apis/x86_64')"
      ]
     },
     "execution_count": 11,
     "metadata": {},
     "output_type": "execute_result"
    }
   ],
   "source": [
    "txt = \"Based on: Android API 31 Tag/ABI: google_apis/x86_64\"\n",
    "txt.find('Tag')\n",
    "txt[:25], txt[25:]"
   ]
  },
  {
   "cell_type": "code",
   "execution_count": 14,
   "metadata": {},
   "outputs": [
    {
     "data": {
      "text/plain": [
       "[{'Name': 'Emulator_2_Nexus_6_API_31',\n",
       "  'Device': 'Nexus 6 (Google)',\n",
       "  'Path': '/home/ezetap-eze10194/.android/avd/Emulator_2_Nexus_6_API_31.avd',\n",
       "  'Target': 'Google APIs (Google Inc.)',\n",
       "  'Tag/ABI': 'google_apis/x86_64',\n",
       "  'Based on': 'Android API 31',\n",
       "  'Skin': '1440x2560',\n",
       "  'Sdcard': '512 MB'},\n",
       " {'Name': 'myAVD01',\n",
       "  'Path': '/home/ezetap-eze10194/.android/avd/myAVD01.avd',\n",
       "  'Target': 'Google APIs (Google Inc.)',\n",
       "  'Tag/ABI': 'google_apis/x86_64',\n",
       "  'Based on': 'Android API 31'},\n",
       " {'Name': 'newavd',\n",
       "  'Path': '/home/ezetap-eze10194/.android/avd/newavd.avd',\n",
       "  'Target': 'Google APIs (Google Inc.)',\n",
       "  'Tag/ABI': 'google_apis/x86_64',\n",
       "  'Based on': 'Android API 31'},\n",
       " {'Name': 'Nexus_6_API_31',\n",
       "  'Device': 'Nexus 6 (Google)',\n",
       "  'Path': '/home/ezetap-eze10194/.android/avd/Nexus_6_API_31.avd',\n",
       "  'Target': 'Google APIs (Google Inc.)',\n",
       "  'Tag/ABI': 'google_apis/x86_64',\n",
       "  'Based on': 'Android API 31',\n",
       "  'Skin': 'nexus_6',\n",
       "  'Sdcard': '512M'}]"
      ]
     },
     "execution_count": 14,
     "metadata": {},
     "output_type": "execute_result"
    }
   ],
   "source": [
    "avd_infos = out \n",
    "\n",
    "avds = []\n",
    "for avd_info in avd_infos:\n",
    "    avd = dict()\n",
    "    for avd_line in avd_info.splitlines():\n",
    "        if avd_line.count(\":\") == 1:\n",
    "            k, v = [item.strip() for item in avd_line.split(\":\")]\n",
    "            avd[k] = v\n",
    "        elif avd_line.count(\":\") == 2:\n",
    "            line_break = \" Tag/\"  # \"Based on: Android API 31 Tag/ABI: google_apis/x86_64\"\n",
    "            if line_break in avd_line:\n",
    "                break_point = avd_line.find(line_break)\n",
    "                for broken_line in [avd_line[break_point:], avd_line[:break_point]]:\n",
    "                    k, v = [item.strip() for item in broken_line.split(\":\")]\n",
    "                    avd[k] = v\n",
    "            else:\n",
    "                print(f\"The line '{avd_line}' is ignored from parsing due to linebreak text is not found\")\n",
    "        else:\n",
    "            print(f\"The line '{avd_line}' is ignored from parsing\")\n",
    "            \n",
    "    if avd: avds.append(avd)\n",
    "\n",
    "avds"
   ]
  },
  {
   "cell_type": "code",
   "execution_count": null,
   "metadata": {},
   "outputs": [],
   "source": []
  },
  {
   "cell_type": "code",
   "execution_count": null,
   "metadata": {},
   "outputs": [],
   "source": []
  },
  {
   "cell_type": "code",
   "execution_count": 1,
   "metadata": {},
   "outputs": [
    {
     "name": "stderr",
     "output_type": "stream",
     "text": [
      "Warning: Mapping new ns http://schemas.android.com/repository/android/common/02 to old ns http://schemas.android.com/repository/android/common/01\n",
      "Warning: Mapping new ns http://schemas.android.com/repository/android/generic/02 to old ns http://schemas.android.com/repository/android/generic/01\n",
      "Warning: Mapping new ns http://schemas.android.com/sdk/android/repo/addon2/02 to old ns http://schemas.android.com/sdk/android/repo/addon2/01\n",
      "Warning: Mapping new ns http://schemas.android.com/sdk/android/repo/addon2/03 to old ns http://schemas.android.com/sdk/android/repo/addon2/01\n",
      "Warning: Mapping new ns http://schemas.android.com/sdk/android/repo/repository2/02 to old ns http://schemas.android.com/sdk/android/repo/repository2/01\n",
      "Warning: Mapping new ns http://schemas.android.com/sdk/android/repo/repository2/03 to old ns http://schemas.android.com/sdk/android/repo/repository2/01\n",
      "Warning: Mapping new ns http://schemas.android.com/sdk/android/repo/sys-img2/03 to old ns http://schemas.android.com/sdk/android/repo/sys-img2/01\n",
      "Warning: Mapping new ns http://schemas.android.com/sdk/android/repo/sys-img2/02 to old ns http://schemas.android.com/sdk/android/repo/sys-img2/01\n",
      "Warning: Mapping new ns http://schemas.android.com/repository/android/common/02 to old ns http://schemas.android.com/repository/android/common/01\n",
      "Warning: Mapping new ns http://schemas.android.com/repository/android/generic/02 to old ns http://schemas.android.com/repository/android/generic/01\n",
      "Warning: Mapping new ns http://schemas.android.com/sdk/android/repo/addon2/02 to old ns http://schemas.android.com/sdk/android/repo/addon2/01\n",
      "Warning: Mapping new ns http://schemas.android.com/sdk/android/repo/addon2/03 to old ns http://schemas.android.com/sdk/android/repo/addon2/01\n",
      "Warning: Mapping new ns http://schemas.android.com/sdk/android/repo/repository2/02 to old ns http://schemas.android.com/sdk/android/repo/repository2/01\n",
      "Warning: Mapping new ns http://schemas.android.com/sdk/android/repo/repository2/03 to old ns http://schemas.android.com/sdk/android/repo/repository2/01\n",
      "Warning: Mapping new ns http://schemas.android.com/sdk/android/repo/sys-img2/03 to old ns http://schemas.android.com/sdk/android/repo/sys-img2/01\n",
      "Warning: Mapping new ns http://schemas.android.com/sdk/android/repo/sys-img2/02 to old ns http://schemas.android.com/sdk/android/repo/sys-img2/01\n",
      "Warning: Mapping new ns http://schemas.android.com/repository/android/common/02 to old ns http://schemas.android.com/repository/android/common/01\n",
      "Warning: Mapping new ns http://schemas.android.com/repository/android/generic/02 to old ns http://schemas.android.com/repository/android/generic/01\n",
      "Warning: Mapping new ns http://schemas.android.com/sdk/android/repo/addon2/02 to old ns http://schemas.android.com/sdk/android/repo/addon2/01\n",
      "Warning: Mapping new ns http://schemas.android.com/sdk/android/repo/addon2/03 to old ns http://schemas.android.com/sdk/android/repo/addon2/01\n",
      "Warning: Mapping new ns http://schemas.android.com/sdk/android/repo/repository2/02 to old ns http://schemas.android.com/sdk/android/repo/repository2/01\n",
      "Warning: Mapping new ns http://schemas.android.com/sdk/android/repo/repository2/03 to old ns http://schemas.android.com/sdk/android/repo/repository2/01\n",
      "Warning: Mapping new ns http://schemas.android.com/sdk/android/repo/sys-img2/03 to old ns http://schemas.android.com/sdk/android/repo/sys-img2/01\n",
      "Warning: Mapping new ns http://schemas.android.com/sdk/android/repo/sys-img2/02 to old ns http://schemas.android.com/sdk/android/repo/sys-img2/01\n",
      "Warning: Mapping new ns http://schemas.android.com/repository/android/common/02 to old ns http://schemas.android.com/repository/android/common/01\n",
      "Warning: Mapping new ns http://schemas.android.com/repository/android/generic/02 to old ns http://schemas.android.com/repository/android/generic/01\n",
      "Warning: Mapping new ns http://schemas.android.com/sdk/android/repo/addon2/02 to old ns http://schemas.android.com/sdk/android/repo/addon2/01\n",
      "Warning: Mapping new ns http://schemas.android.com/sdk/android/repo/addon2/03 to old ns http://schemas.android.com/sdk/android/repo/addon2/01\n",
      "Warning: Mapping new ns http://schemas.android.com/sdk/android/repo/repository2/02 to old ns http://schemas.android.com/sdk/android/repo/repository2/01\n",
      "Warning: Mapping new ns http://schemas.android.com/sdk/android/repo/repository2/03 to old ns http://schemas.android.com/sdk/android/repo/repository2/01\n",
      "Warning: Mapping new ns http://schemas.android.com/sdk/android/repo/sys-img2/03 to old ns http://schemas.android.com/sdk/android/repo/sys-img2/01\n",
      "Warning: Mapping new ns http://schemas.android.com/sdk/android/repo/sys-img2/02 to old ns http://schemas.android.com/sdk/android/repo/sys-img2/01\n",
      "Warning: Mapping new ns http://schemas.android.com/repository/android/common/02 to old ns http://schemas.android.com/repository/android/common/01\n",
      "Warning: Mapping new ns http://schemas.android.com/repository/android/generic/02 to old ns http://schemas.android.com/repository/android/generic/01\n",
      "Warning: Mapping new ns http://schemas.android.com/sdk/android/repo/addon2/02 to old ns http://schemas.android.com/sdk/android/repo/addon2/01\n",
      "Warning: Mapping new ns http://schemas.android.com/sdk/android/repo/addon2/03 to old ns http://schemas.android.com/sdk/android/repo/addon2/01\n",
      "Warning: Mapping new ns http://schemas.android.com/sdk/android/repo/repository2/02 to old ns http://schemas.android.com/sdk/android/repo/repository2/01\n",
      "Warning: Mapping new ns http://schemas.android.com/sdk/android/repo/repository2/03 to old ns http://schemas.android.com/sdk/android/repo/repository2/01\n",
      "Warning: Mapping new ns http://schemas.android.com/sdk/android/repo/sys-img2/03 to old ns http://schemas.android.com/sdk/android/repo/sys-img2/01\n",
      "Warning: Mapping new ns http://schemas.android.com/sdk/android/repo/sys-img2/02 to old ns http://schemas.android.com/sdk/android/repo/sys-img2/01\n",
      "Warning: Mapping new ns http://schemas.android.com/repository/android/common/02 to old ns http://schemas.android.com/repository/android/common/01\n",
      "Warning: Mapping new ns http://schemas.android.com/repository/android/generic/02 to old ns http://schemas.android.com/repository/android/generic/01\n",
      "Warning: Mapping new ns http://schemas.android.com/sdk/android/repo/addon2/02 to old ns http://schemas.android.com/sdk/android/repo/addon2/01\n",
      "Warning: Mapping new ns http://schemas.android.com/sdk/android/repo/addon2/03 to old ns http://schemas.android.com/sdk/android/repo/addon2/01\n",
      "Warning: Mapping new ns http://schemas.android.com/sdk/android/repo/repository2/02 to old ns http://schemas.android.com/sdk/android/repo/repository2/01\n",
      "Warning: Mapping new ns http://schemas.android.com/sdk/android/repo/repository2/03 to old ns http://schemas.android.com/sdk/android/repo/repository2/01\n",
      "Warning: Mapping new ns http://schemas.android.com/sdk/android/repo/sys-img2/03 to old ns http://schemas.android.com/sdk/android/repo/sys-img2/01\n",
      "Warning: Mapping new ns http://schemas.android.com/sdk/android/repo/sys-img2/02 to old ns http://schemas.android.com/sdk/android/repo/sys-img2/01\n",
      "Warning: Mapping new ns http://schemas.android.com/repository/android/common/02 to old ns http://schemas.android.com/repository/android/common/01\n",
      "Warning: Mapping new ns http://schemas.android.com/repository/android/generic/02 to old ns http://schemas.android.com/repository/android/generic/01\n",
      "Warning: Mapping new ns http://schemas.android.com/sdk/android/repo/addon2/02 to old ns http://schemas.android.com/sdk/android/repo/addon2/01\n",
      "Warning: Mapping new ns http://schemas.android.com/sdk/android/repo/addon2/03 to old ns http://schemas.android.com/sdk/android/repo/addon2/01\n",
      "Warning: Mapping new ns http://schemas.android.com/sdk/android/repo/repository2/02 to old ns http://schemas.android.com/sdk/android/repo/repository2/01\n",
      "Warning: Mapping new ns http://schemas.android.com/sdk/android/repo/repository2/03 to old ns http://schemas.android.com/sdk/android/repo/repository2/01\n",
      "Warning: Mapping new ns http://schemas.android.com/sdk/android/repo/sys-img2/03 to old ns http://schemas.android.com/sdk/android/repo/sys-img2/01\n",
      "Warning: Mapping new ns http://schemas.android.com/sdk/android/repo/sys-img2/02 to old ns http://schemas.android.com/sdk/android/repo/sys-img2/01\n",
      "Warning: Mapping new ns http://schemas.android.com/repository/android/common/02 to old ns http://schemas.android.com/repository/android/common/01\n",
      "Warning: Mapping new ns http://schemas.android.com/repository/android/generic/02 to old ns http://schemas.android.com/repository/android/generic/01\n",
      "Warning: Mapping new ns http://schemas.android.com/sdk/android/repo/addon2/02 to old ns http://schemas.android.com/sdk/android/repo/addon2/01\n",
      "Warning: Mapping new ns http://schemas.android.com/sdk/android/repo/addon2/03 to old ns http://schemas.android.com/sdk/android/repo/addon2/01\n",
      "Warning: Mapping new ns http://schemas.android.com/sdk/android/repo/repository2/02 to old ns http://schemas.android.com/sdk/android/repo/repository2/01\n",
      "Warning: Mapping new ns http://schemas.android.com/sdk/android/repo/repository2/03 to old ns http://schemas.android.com/sdk/android/repo/repository2/01\n",
      "Warning: Mapping new ns http://schemas.android.com/sdk/android/repo/sys-img2/03 to old ns http://schemas.android.com/sdk/android/repo/sys-img2/01\n",
      "Warning: Mapping new ns http://schemas.android.com/sdk/android/repo/sys-img2/02 to old ns http://schemas.android.com/sdk/android/repo/sys-img2/01\n",
      "Warning: cvc-complex-type.2.4.a: Invalid content was found starting with element 'base-extension'. One of '{layoutlib}' is expected.\n",
      "org.xml.sax.SAXParseException; lineNumber: 141; columnNumber: 252; cvc-complex-type.2.4.a: Invalid content was found starting with element 'base-extension'. One of '{layoutlib}' is expected.\n",
      "\tat com.sun.org.apache.xerces.internal.util.ErrorHandlerWrapper.createSAXParseException(ErrorHandlerWrapper.java:204)\n",
      "\tat com.sun.org.apache.xerces.internal.util.ErrorHandlerWrapper.error(ErrorHandlerWrapper.java:135)\n",
      "\tat com.sun.org.apache.xerces.internal.impl.XMLErrorReporter.reportError(XMLErrorReporter.java:395)\n",
      "\tat com.sun.org.apache.xerces.internal.impl.XMLErrorReporter.reportError(XMLErrorReporter.java:326)\n",
      "\tat com.sun.org.apache.xerces.internal.impl.XMLErrorReporter.reportError(XMLErrorReporter.java:283)\n",
      "\tat com.sun.org.apache.xerces.internal.impl.xs.XMLSchemaValidator$XSIErrorReporter.reportError(XMLSchemaValidator.java:453)\n",
      "\tat com.sun.org.apache.xerces.internal.impl.xs.XMLSchemaValidator.reportSchemaError(XMLSchemaValidator.java:3231)\n",
      "\tat com.sun.org.apache.xerces.internal.impl.xs.XMLSchemaValidator.handleStartElement(XMLSchemaValidator.java:1791)\n",
      "\tat com.sun.org.apache.xerces.internal.impl.xs.XMLSchemaValidator.startElement(XMLSchemaValidator.java:741)\n",
      "\tat com.sun.org.apache.xerces.internal.jaxp.validation.ValidatorHandlerImpl.startElement(ValidatorHandlerImpl.java:567)\n",
      "\tat com.sun.xml.internal.bind.v2.runtime.unmarshaller.ValidatingUnmarshaller.startElement(ValidatingUnmarshaller.java:86)\n",
      "\tat com.sun.xml.internal.bind.v2.runtime.unmarshaller.SAXConnector.startElement(SAXConnector.java:153)\n",
      "\tat org.xml.sax.helpers.XMLFilterImpl.startElement(XMLFilterImpl.java:551)\n",
      "\tat com.android.repository.impl.meta.SchemaModuleUtil$NamespaceFallbackFilter.startElement(SchemaModuleUtil.java:403)\n",
      "\tat com.sun.org.apache.xerces.internal.parsers.AbstractSAXParser.startElement(AbstractSAXParser.java:509)\n",
      "\tat com.sun.org.apache.xerces.internal.impl.XMLNSDocumentScannerImpl.scanStartElement(XMLNSDocumentScannerImpl.java:374)\n",
      "\tat com.sun.org.apache.xerces.internal.impl.XMLDocumentFragmentScannerImpl$FragmentContentDriver.next(XMLDocumentFragmentScannerImpl.java:2783)\n",
      "\tat com.sun.org.apache.xerces.internal.impl.XMLDocumentScannerImpl.next(XMLDocumentScannerImpl.java:601)\n",
      "\tat com.sun.org.apache.xerces.internal.impl.XMLNSDocumentScannerImpl.next(XMLNSDocumentScannerImpl.java:112)\n",
      "\tat com.sun.org.apache.xerces.internal.impl.XMLDocumentFragmentScannerImpl.scanDocument(XMLDocumentFragmentScannerImpl.java:504)\n",
      "\tat com.sun.org.apache.xerces.internal.parsers.XML11Configuration.parse(XML11Configuration.java:841)\n",
      "\tat com.sun.org.apache.xerces.internal.parsers.XML11Configuration.parse(XML11Configuration.java:770)\n",
      "\tat com.sun.org.apache.xerces.internal.parsers.XMLParser.parse(XMLParser.java:141)\n",
      "\tat com.sun.org.apache.xerces.internal.parsers.AbstractSAXParser.parse(AbstractSAXParser.java:1213)\n",
      "\tat com.sun.org.apache.xerces.internal.jaxp.SAXParserImpl$JAXPSAXParser.parse(SAXParserImpl.java:642)\n",
      "\tat org.xml.sax.helpers.XMLFilterImpl.parse(XMLFilterImpl.java:357)\n",
      "\tat com.sun.xml.internal.bind.v2.runtime.unmarshaller.UnmarshallerImpl.unmarshal0(UnmarshallerImpl.java:243)\n",
      "\tat com.sun.xml.internal.bind.v2.runtime.unmarshaller.UnmarshallerImpl.unmarshal(UnmarshallerImpl.java:214)\n",
      "\tat javax.xml.bind.helpers.AbstractUnmarshallerImpl.unmarshal(AbstractUnmarshallerImpl.java:140)\n",
      "\tat javax.xml.bind.helpers.AbstractUnmarshallerImpl.unmarshal(AbstractUnmarshallerImpl.java:123)\n",
      "\tat com.android.repository.impl.meta.SchemaModuleUtil.unmarshal(SchemaModuleUtil.java:196)\n",
      "\tat com.android.repository.impl.manager.LocalRepoLoaderImpl.parsePackage(LocalRepoLoaderImpl.java:301)\n",
      "\tat com.android.repository.impl.manager.LocalRepoLoaderImpl.parsePackages(LocalRepoLoaderImpl.java:159)\n",
      "\tat com.android.repository.impl.manager.LocalRepoLoaderImpl.getPackages(LocalRepoLoaderImpl.java:124)\n",
      "\tat com.android.repository.impl.manager.RepoManagerImpl$LoadTask.run(RepoManagerImpl.java:518)\n",
      "\tat com.android.repository.api.RepoManager$DummyProgressRunner.runSyncWithProgress(RepoManager.java:397)\n",
      "\tat com.android.repository.impl.manager.RepoManagerImpl.load(RepoManagerImpl.java:365)\n",
      "\tat com.android.repository.api.RepoManager.loadSynchronously(RepoManager.java:290)\n",
      "\tat com.android.sdklib.repository.AndroidSdkHandler$RepoConfig.createRepoManager(AndroidSdkHandler.java:725)\n",
      "\tat com.android.sdklib.repository.AndroidSdkHandler.getSdkManager(AndroidSdkHandler.java:296)\n",
      "\tat com.android.sdklib.repository.AndroidSdkHandler.getLocalPackage(AndroidSdkHandler.java:355)\n",
      "\tat com.android.sdklib.tool.AvdManagerCli.createAvd(AvdManagerCli.java:675)\n",
      "\tat com.android.sdklib.tool.AvdManagerCli.doAction(AvdManagerCli.java:386)\n",
      "\tat com.android.sdklib.tool.AvdManagerCli.run(AvdManagerCli.java:215)\n",
      "\tat com.android.sdklib.tool.AvdManagerCli.main(AvdManagerCli.java:200)\n",
      "Warning: unexpected element (uri:\"\", local:\"base-extension\"). Expected elements are <{}codename>,<{}layoutlib>,<{}api-level>\n",
      "Warning: Mapping new ns http://schemas.android.com/repository/android/common/02 to old ns http://schemas.android.com/repository/android/common/01\n",
      "Warning: Mapping new ns http://schemas.android.com/repository/android/generic/02 to old ns http://schemas.android.com/repository/android/generic/01\n",
      "Warning: Mapping new ns http://schemas.android.com/sdk/android/repo/addon2/02 to old ns http://schemas.android.com/sdk/android/repo/addon2/01\n",
      "Warning: Mapping new ns http://schemas.android.com/sdk/android/repo/addon2/03 to old ns http://schemas.android.com/sdk/android/repo/addon2/01\n",
      "Warning: Mapping new ns http://schemas.android.com/sdk/android/repo/repository2/02 to old ns http://schemas.android.com/sdk/android/repo/repository2/01\n",
      "Warning: Mapping new ns http://schemas.android.com/sdk/android/repo/repository2/03 to old ns http://schemas.android.com/sdk/android/repo/repository2/01\n",
      "Warning: Mapping new ns http://schemas.android.com/sdk/android/repo/sys-img2/03 to old ns http://schemas.android.com/sdk/android/repo/sys-img2/01\n",
      "Warning: Mapping new ns http://schemas.android.com/sdk/android/repo/sys-img2/02 to old ns http://schemas.android.com/sdk/android/repo/sys-img2/01\n",
      "Warning: cvc-complex-type.2.4.d: Invalid content was found starting with element 'base-extension'. No child element is expected at this point.\n",
      "org.xml.sax.SAXParseException; lineNumber: 141; columnNumber: 248; cvc-complex-type.2.4.d: Invalid content was found starting with element 'base-extension'. No child element is expected at this point.\n",
      "\tat com.sun.org.apache.xerces.internal.util.ErrorHandlerWrapper.createSAXParseException(ErrorHandlerWrapper.java:204)\n",
      "\tat com.sun.org.apache.xerces.internal.util.ErrorHandlerWrapper.error(ErrorHandlerWrapper.java:135)\n",
      "\tat com.sun.org.apache.xerces.internal.impl.XMLErrorReporter.reportError(XMLErrorReporter.java:395)\n",
      "\tat com.sun.org.apache.xerces.internal.impl.XMLErrorReporter.reportError(XMLErrorReporter.java:326)\n",
      "\tat com.sun.org.apache.xerces.internal.impl.XMLErrorReporter.reportError(XMLErrorReporter.java:283)\n",
      "\tat com.sun.org.apache.xerces.internal.impl.xs.XMLSchemaValidator$XSIErrorReporter.reportError(XMLSchemaValidator.java:453)\n",
      "\tat com.sun.org.apache.xerces.internal.impl.xs.XMLSchemaValidator.reportSchemaError(XMLSchemaValidator.java:3231)\n",
      "\tat com.sun.org.apache.xerces.internal.impl.xs.XMLSchemaValidator.handleStartElement(XMLSchemaValidator.java:1795)\n",
      "\tat com.sun.org.apache.xerces.internal.impl.xs.XMLSchemaValidator.startElement(XMLSchemaValidator.java:741)\n",
      "\tat com.sun.org.apache.xerces.internal.jaxp.validation.ValidatorHandlerImpl.startElement(ValidatorHandlerImpl.java:567)\n",
      "\tat com.sun.xml.internal.bind.v2.runtime.unmarshaller.ValidatingUnmarshaller.startElement(ValidatingUnmarshaller.java:86)\n",
      "\tat com.sun.xml.internal.bind.v2.runtime.unmarshaller.SAXConnector.startElement(SAXConnector.java:153)\n",
      "\tat org.xml.sax.helpers.XMLFilterImpl.startElement(XMLFilterImpl.java:551)\n",
      "\tat com.android.repository.impl.meta.SchemaModuleUtil$NamespaceFallbackFilter.startElement(SchemaModuleUtil.java:403)\n",
      "\tat com.sun.org.apache.xerces.internal.parsers.AbstractSAXParser.startElement(AbstractSAXParser.java:509)\n",
      "\tat com.sun.org.apache.xerces.internal.impl.XMLNSDocumentScannerImpl.scanStartElement(XMLNSDocumentScannerImpl.java:374)\n",
      "\tat com.sun.org.apache.xerces.internal.impl.XMLDocumentFragmentScannerImpl$FragmentContentDriver.next(XMLDocumentFragmentScannerImpl.java:2783)\n",
      "\tat com.sun.org.apache.xerces.internal.impl.XMLDocumentScannerImpl.next(XMLDocumentScannerImpl.java:601)\n",
      "\tat com.sun.org.apache.xerces.internal.impl.XMLNSDocumentScannerImpl.next(XMLNSDocumentScannerImpl.java:112)\n",
      "\tat com.sun.org.apache.xerces.internal.impl.XMLDocumentFragmentScannerImpl.scanDocument(XMLDocumentFragmentScannerImpl.java:504)\n",
      "\tat com.sun.org.apache.xerces.internal.parsers.XML11Configuration.parse(XML11Configuration.java:841)\n",
      "\tat com.sun.org.apache.xerces.internal.parsers.XML11Configuration.parse(XML11Configuration.java:770)\n",
      "\tat com.sun.org.apache.xerces.internal.parsers.XMLParser.parse(XMLParser.java:141)\n",
      "\tat com.sun.org.apache.xerces.internal.parsers.AbstractSAXParser.parse(AbstractSAXParser.java:1213)\n",
      "\tat com.sun.org.apache.xerces.internal.jaxp.SAXParserImpl$JAXPSAXParser.parse(SAXParserImpl.java:642)\n",
      "\tat org.xml.sax.helpers.XMLFilterImpl.parse(XMLFilterImpl.java:357)\n",
      "\tat com.sun.xml.internal.bind.v2.runtime.unmarshaller.UnmarshallerImpl.unmarshal0(UnmarshallerImpl.java:243)\n",
      "\tat com.sun.xml.internal.bind.v2.runtime.unmarshaller.UnmarshallerImpl.unmarshal(UnmarshallerImpl.java:214)\n",
      "\tat javax.xml.bind.helpers.AbstractUnmarshallerImpl.unmarshal(AbstractUnmarshallerImpl.java:140)\n",
      "\tat javax.xml.bind.helpers.AbstractUnmarshallerImpl.unmarshal(AbstractUnmarshallerImpl.java:123)\n",
      "\tat com.android.repository.impl.meta.SchemaModuleUtil.unmarshal(SchemaModuleUtil.java:196)\n",
      "\tat com.android.repository.impl.manager.LocalRepoLoaderImpl.parsePackage(LocalRepoLoaderImpl.java:301)\n",
      "\tat com.android.repository.impl.manager.LocalRepoLoaderImpl.parsePackages(LocalRepoLoaderImpl.java:159)\n",
      "\tat com.android.repository.impl.manager.LocalRepoLoaderImpl.getPackages(LocalRepoLoaderImpl.java:124)\n",
      "\tat com.android.repository.impl.manager.RepoManagerImpl$LoadTask.run(RepoManagerImpl.java:518)\n",
      "\tat com.android.repository.api.RepoManager$DummyProgressRunner.runSyncWithProgress(RepoManager.java:397)\n",
      "\tat com.android.repository.impl.manager.RepoManagerImpl.load(RepoManagerImpl.java:365)\n",
      "\tat com.android.repository.api.RepoManager.loadSynchronously(RepoManager.java:290)\n",
      "\tat com.android.sdklib.repository.AndroidSdkHandler$RepoConfig.createRepoManager(AndroidSdkHandler.java:725)\n",
      "\tat com.android.sdklib.repository.AndroidSdkHandler.getSdkManager(AndroidSdkHandler.java:296)\n",
      "\tat com.android.sdklib.repository.AndroidSdkHandler.getLocalPackage(AndroidSdkHandler.java:355)\n",
      "\tat com.android.sdklib.tool.AvdManagerCli.createAvd(AvdManagerCli.java:675)\n",
      "\tat com.android.sdklib.tool.AvdManagerCli.doAction(AvdManagerCli.java:386)\n",
      "\tat com.android.sdklib.tool.AvdManagerCli.run(AvdManagerCli.java:215)\n",
      "\tat com.android.sdklib.tool.AvdManagerCli.main(AvdManagerCli.java:200)\n",
      "Warning: unexpected element (uri:\"\", local:\"base-extension\"). Expected elements are <{}codename>,<{}api-level>\n",
      "Warning: Mapping new ns http://schemas.android.com/repository/android/common/02 to old ns http://schemas.android.com/repository/android/common/01\n",
      "Warning: Mapping new ns http://schemas.android.com/repository/android/generic/02 to old ns http://schemas.android.com/repository/android/generic/01\n",
      "Warning: Mapping new ns http://schemas.android.com/sdk/android/repo/addon2/02 to old ns http://schemas.android.com/sdk/android/repo/addon2/01\n",
      "Warning: Mapping new ns http://schemas.android.com/sdk/android/repo/addon2/03 to old ns http://schemas.android.com/sdk/android/repo/addon2/01\n",
      "Warning: Mapping new ns http://schemas.android.com/sdk/android/repo/repository2/02 to old ns http://schemas.android.com/sdk/android/repo/repository2/01\n",
      "Warning: Mapping new ns http://schemas.android.com/sdk/android/repo/repository2/03 to old ns http://schemas.android.com/sdk/android/repo/repository2/01\n",
      "Warning: Mapping new ns http://schemas.android.com/sdk/android/repo/sys-img2/03 to old ns http://schemas.android.com/sdk/android/repo/sys-img2/01\n",
      "Warning: Mapping new ns http://schemas.android.com/sdk/android/repo/sys-img2/02 to old ns http://schemas.android.com/sdk/android/repo/sys-img2/01\n",
      "Warning: cvc-complex-type.2.4.a: Invalid content was found starting with element 'base-extension'. One of '{codename, tag}' is expected.\n",
      "org.xml.sax.SAXParseException; lineNumber: 141; columnNumber: 249; cvc-complex-type.2.4.a: Invalid content was found starting with element 'base-extension'. One of '{codename, tag}' is expected.\n",
      "\tat com.sun.org.apache.xerces.internal.util.ErrorHandlerWrapper.createSAXParseException(ErrorHandlerWrapper.java:204)\n",
      "\tat com.sun.org.apache.xerces.internal.util.ErrorHandlerWrapper.error(ErrorHandlerWrapper.java:135)\n",
      "\tat com.sun.org.apache.xerces.internal.impl.XMLErrorReporter.reportError(XMLErrorReporter.java:395)\n",
      "\tat com.sun.org.apache.xerces.internal.impl.XMLErrorReporter.reportError(XMLErrorReporter.java:326)\n",
      "\tat com.sun.org.apache.xerces.internal.impl.XMLErrorReporter.reportError(XMLErrorReporter.java:283)\n",
      "\tat com.sun.org.apache.xerces.internal.impl.xs.XMLSchemaValidator$XSIErrorReporter.reportError(XMLSchemaValidator.java:453)\n",
      "\tat com.sun.org.apache.xerces.internal.impl.xs.XMLSchemaValidator.reportSchemaError(XMLSchemaValidator.java:3231)\n",
      "\tat com.sun.org.apache.xerces.internal.impl.xs.XMLSchemaValidator.handleStartElement(XMLSchemaValidator.java:1791)\n",
      "\tat com.sun.org.apache.xerces.internal.impl.xs.XMLSchemaValidator.startElement(XMLSchemaValidator.java:741)\n",
      "\tat com.sun.org.apache.xerces.internal.jaxp.validation.ValidatorHandlerImpl.startElement(ValidatorHandlerImpl.java:567)\n",
      "\tat com.sun.xml.internal.bind.v2.runtime.unmarshaller.ValidatingUnmarshaller.startElement(ValidatingUnmarshaller.java:86)\n",
      "\tat com.sun.xml.internal.bind.v2.runtime.unmarshaller.SAXConnector.startElement(SAXConnector.java:153)\n",
      "\tat org.xml.sax.helpers.XMLFilterImpl.startElement(XMLFilterImpl.java:551)\n",
      "\tat com.android.repository.impl.meta.SchemaModuleUtil$NamespaceFallbackFilter.startElement(SchemaModuleUtil.java:403)\n",
      "\tat com.sun.org.apache.xerces.internal.parsers.AbstractSAXParser.startElement(AbstractSAXParser.java:509)\n",
      "\tat com.sun.org.apache.xerces.internal.impl.XMLNSDocumentScannerImpl.scanStartElement(XMLNSDocumentScannerImpl.java:374)\n",
      "\tat com.sun.org.apache.xerces.internal.impl.XMLDocumentFragmentScannerImpl$FragmentContentDriver.next(XMLDocumentFragmentScannerImpl.java:2783)\n",
      "\tat com.sun.org.apache.xerces.internal.impl.XMLDocumentScannerImpl.next(XMLDocumentScannerImpl.java:601)\n",
      "\tat com.sun.org.apache.xerces.internal.impl.XMLNSDocumentScannerImpl.next(XMLNSDocumentScannerImpl.java:112)\n",
      "\tat com.sun.org.apache.xerces.internal.impl.XMLDocumentFragmentScannerImpl.scanDocument(XMLDocumentFragmentScannerImpl.java:504)\n",
      "\tat com.sun.org.apache.xerces.internal.parsers.XML11Configuration.parse(XML11Configuration.java:841)\n",
      "\tat com.sun.org.apache.xerces.internal.parsers.XML11Configuration.parse(XML11Configuration.java:770)\n",
      "\tat com.sun.org.apache.xerces.internal.parsers.XMLParser.parse(XMLParser.java:141)\n",
      "\tat com.sun.org.apache.xerces.internal.parsers.AbstractSAXParser.parse(AbstractSAXParser.java:1213)\n",
      "\tat com.sun.org.apache.xerces.internal.jaxp.SAXParserImpl$JAXPSAXParser.parse(SAXParserImpl.java:642)\n",
      "\tat org.xml.sax.helpers.XMLFilterImpl.parse(XMLFilterImpl.java:357)\n",
      "\tat com.sun.xml.internal.bind.v2.runtime.unmarshaller.UnmarshallerImpl.unmarshal0(UnmarshallerImpl.java:243)\n",
      "\tat com.sun.xml.internal.bind.v2.runtime.unmarshaller.UnmarshallerImpl.unmarshal(UnmarshallerImpl.java:214)\n",
      "\tat javax.xml.bind.helpers.AbstractUnmarshallerImpl.unmarshal(AbstractUnmarshallerImpl.java:140)\n",
      "\tat javax.xml.bind.helpers.AbstractUnmarshallerImpl.unmarshal(AbstractUnmarshallerImpl.java:123)\n",
      "\tat com.android.repository.impl.meta.SchemaModuleUtil.unmarshal(SchemaModuleUtil.java:196)\n",
      "\tat com.android.repository.impl.manager.LocalRepoLoaderImpl.parsePackage(LocalRepoLoaderImpl.java:301)\n",
      "\tat com.android.repository.impl.manager.LocalRepoLoaderImpl.parsePackages(LocalRepoLoaderImpl.java:159)\n",
      "\tat com.android.repository.impl.manager.LocalRepoLoaderImpl.getPackages(LocalRepoLoaderImpl.java:124)\n",
      "\tat com.android.repository.impl.manager.RepoManagerImpl$LoadTask.run(RepoManagerImpl.java:518)\n",
      "\tat com.android.repository.api.RepoManager$DummyProgressRunner.runSyncWithProgress(RepoManager.java:397)\n",
      "\tat com.android.repository.impl.manager.RepoManagerImpl.load(RepoManagerImpl.java:365)\n",
      "\tat com.android.repository.api.RepoManager.loadSynchronously(RepoManager.java:290)\n",
      "\tat com.android.sdklib.repository.AndroidSdkHandler$RepoConfig.createRepoManager(AndroidSdkHandler.java:725)\n",
      "\tat com.android.sdklib.repository.AndroidSdkHandler.getSdkManager(AndroidSdkHandler.java:296)\n",
      "\tat com.android.sdklib.repository.AndroidSdkHandler.getLocalPackage(AndroidSdkHandler.java:355)\n",
      "\tat com.android.sdklib.tool.AvdManagerCli.createAvd(AvdManagerCli.java:675)\n",
      "\tat com.android.sdklib.tool.AvdManagerCli.doAction(AvdManagerCli.java:386)\n",
      "\tat com.android.sdklib.tool.AvdManagerCli.run(AvdManagerCli.java:215)\n",
      "\tat com.android.sdklib.tool.AvdManagerCli.main(AvdManagerCli.java:200)\n",
      "Warning: unexpected element (uri:\"\", local:\"base-extension\"). Expected elements are <{}vendor>,<{}codename>,<{}abi>,<{}api-level>,<{}tag>\n",
      "Warning: Mapping new ns http://schemas.android.com/repository/android/common/02 to old ns http://schemas.android.com/repository/android/common/01\n",
      "Warning: Mapping new ns http://schemas.android.com/repository/android/generic/02 to old ns http://schemas.android.com/repository/android/generic/01\n",
      "Warning: Mapping new ns http://schemas.android.com/sdk/android/repo/addon2/02 to old ns http://schemas.android.com/sdk/android/repo/addon2/01\n",
      "Warning: Mapping new ns http://schemas.android.com/sdk/android/repo/addon2/03 to old ns http://schemas.android.com/sdk/android/repo/addon2/01\n",
      "Warning: Mapping new ns http://schemas.android.com/sdk/android/repo/repository2/02 to old ns http://schemas.android.com/sdk/android/repo/repository2/01\n",
      "Warning: Mapping new ns http://schemas.android.com/sdk/android/repo/repository2/03 to old ns http://schemas.android.com/sdk/android/repo/repository2/01\n",
      "Warning: Mapping new ns http://schemas.android.com/sdk/android/repo/sys-img2/03 to old ns http://schemas.android.com/sdk/android/repo/sys-img2/01\n",
      "Warning: Mapping new ns http://schemas.android.com/sdk/android/repo/sys-img2/02 to old ns http://schemas.android.com/sdk/android/repo/sys-img2/01\n",
      "Warning: cvc-complex-type.2.4.a: Invalid content was found starting with element 'base-extension'. One of '{codename, tag}' is expected.\n",
      "org.xml.sax.SAXParseException; lineNumber: 131; columnNumber: 246; cvc-complex-type.2.4.a: Invalid content was found starting with element 'base-extension'. One of '{codename, tag}' is expected.\n",
      "\tat com.sun.org.apache.xerces.internal.util.ErrorHandlerWrapper.createSAXParseException(ErrorHandlerWrapper.java:204)\n",
      "\tat com.sun.org.apache.xerces.internal.util.ErrorHandlerWrapper.error(ErrorHandlerWrapper.java:135)\n",
      "\tat com.sun.org.apache.xerces.internal.impl.XMLErrorReporter.reportError(XMLErrorReporter.java:395)\n",
      "\tat com.sun.org.apache.xerces.internal.impl.XMLErrorReporter.reportError(XMLErrorReporter.java:326)\n",
      "\tat com.sun.org.apache.xerces.internal.impl.XMLErrorReporter.reportError(XMLErrorReporter.java:283)\n",
      "\tat com.sun.org.apache.xerces.internal.impl.xs.XMLSchemaValidator$XSIErrorReporter.reportError(XMLSchemaValidator.java:453)\n",
      "\tat com.sun.org.apache.xerces.internal.impl.xs.XMLSchemaValidator.reportSchemaError(XMLSchemaValidator.java:3231)\n",
      "\tat com.sun.org.apache.xerces.internal.impl.xs.XMLSchemaValidator.handleStartElement(XMLSchemaValidator.java:1791)\n",
      "\tat com.sun.org.apache.xerces.internal.impl.xs.XMLSchemaValidator.startElement(XMLSchemaValidator.java:741)\n",
      "\tat com.sun.org.apache.xerces.internal.jaxp.validation.ValidatorHandlerImpl.startElement(ValidatorHandlerImpl.java:567)\n",
      "\tat com.sun.xml.internal.bind.v2.runtime.unmarshaller.ValidatingUnmarshaller.startElement(ValidatingUnmarshaller.java:86)\n",
      "\tat com.sun.xml.internal.bind.v2.runtime.unmarshaller.SAXConnector.startElement(SAXConnector.java:153)\n",
      "\tat org.xml.sax.helpers.XMLFilterImpl.startElement(XMLFilterImpl.java:551)\n",
      "\tat com.android.repository.impl.meta.SchemaModuleUtil$NamespaceFallbackFilter.startElement(SchemaModuleUtil.java:403)\n",
      "\tat com.sun.org.apache.xerces.internal.parsers.AbstractSAXParser.startElement(AbstractSAXParser.java:509)\n",
      "\tat com.sun.org.apache.xerces.internal.impl.XMLNSDocumentScannerImpl.scanStartElement(XMLNSDocumentScannerImpl.java:374)\n",
      "\tat com.sun.org.apache.xerces.internal.impl.XMLDocumentFragmentScannerImpl$FragmentContentDriver.next(XMLDocumentFragmentScannerImpl.java:2783)\n",
      "\tat com.sun.org.apache.xerces.internal.impl.XMLDocumentScannerImpl.next(XMLDocumentScannerImpl.java:601)\n",
      "\tat com.sun.org.apache.xerces.internal.impl.XMLNSDocumentScannerImpl.next(XMLNSDocumentScannerImpl.java:112)\n",
      "\tat com.sun.org.apache.xerces.internal.impl.XMLDocumentFragmentScannerImpl.scanDocument(XMLDocumentFragmentScannerImpl.java:504)\n",
      "\tat com.sun.org.apache.xerces.internal.parsers.XML11Configuration.parse(XML11Configuration.java:841)\n",
      "\tat com.sun.org.apache.xerces.internal.parsers.XML11Configuration.parse(XML11Configuration.java:770)\n",
      "\tat com.sun.org.apache.xerces.internal.parsers.XMLParser.parse(XMLParser.java:141)\n",
      "\tat com.sun.org.apache.xerces.internal.parsers.AbstractSAXParser.parse(AbstractSAXParser.java:1213)\n",
      "\tat com.sun.org.apache.xerces.internal.jaxp.SAXParserImpl$JAXPSAXParser.parse(SAXParserImpl.java:642)\n",
      "\tat org.xml.sax.helpers.XMLFilterImpl.parse(XMLFilterImpl.java:357)\n",
      "\tat com.sun.xml.internal.bind.v2.runtime.unmarshaller.UnmarshallerImpl.unmarshal0(UnmarshallerImpl.java:243)\n",
      "\tat com.sun.xml.internal.bind.v2.runtime.unmarshaller.UnmarshallerImpl.unmarshal(UnmarshallerImpl.java:214)\n",
      "\tat javax.xml.bind.helpers.AbstractUnmarshallerImpl.unmarshal(AbstractUnmarshallerImpl.java:140)\n",
      "\tat javax.xml.bind.helpers.AbstractUnmarshallerImpl.unmarshal(AbstractUnmarshallerImpl.java:123)\n",
      "\tat com.android.repository.impl.meta.SchemaModuleUtil.unmarshal(SchemaModuleUtil.java:196)\n",
      "\tat com.android.repository.impl.manager.LocalRepoLoaderImpl.parsePackage(LocalRepoLoaderImpl.java:301)\n",
      "\tat com.android.repository.impl.manager.LocalRepoLoaderImpl.parsePackages(LocalRepoLoaderImpl.java:159)\n",
      "\tat com.android.repository.impl.manager.LocalRepoLoaderImpl.getPackages(LocalRepoLoaderImpl.java:124)\n",
      "\tat com.android.repository.impl.manager.RepoManagerImpl$LoadTask.run(RepoManagerImpl.java:518)\n",
      "\tat com.android.repository.api.RepoManager$DummyProgressRunner.runSyncWithProgress(RepoManager.java:397)\n",
      "\tat com.android.repository.impl.manager.RepoManagerImpl.load(RepoManagerImpl.java:365)\n",
      "\tat com.android.repository.api.RepoManager.loadSynchronously(RepoManager.java:290)\n",
      "\tat com.android.sdklib.repository.AndroidSdkHandler$RepoConfig.createRepoManager(AndroidSdkHandler.java:725)\n",
      "\tat com.android.sdklib.repository.AndroidSdkHandler.getSdkManager(AndroidSdkHandler.java:296)\n",
      "\tat com.android.sdklib.repository.AndroidSdkHandler.getLocalPackage(AndroidSdkHandler.java:355)\n",
      "\tat com.android.sdklib.tool.AvdManagerCli.createAvd(AvdManagerCli.java:675)\n",
      "\tat com.android.sdklib.tool.AvdManagerCli.doAction(AvdManagerCli.java:386)\n",
      "\tat com.android.sdklib.tool.AvdManagerCli.run(AvdManagerCli.java:215)\n",
      "\tat com.android.sdklib.tool.AvdManagerCli.main(AvdManagerCli.java:200)\n",
      "Warning: unexpected element (uri:\"\", local:\"base-extension\"). Expected elements are <{}vendor>,<{}codename>,<{}abi>,<{}api-level>,<{}tag>\n",
      "Warning: Mapping new ns http://schemas.android.com/repository/android/common/02 to old ns http://schemas.android.com/repository/android/common/01\n",
      "Warning: Mapping new ns http://schemas.android.com/repository/android/generic/02 to old ns http://schemas.android.com/repository/android/generic/01\n",
      "Warning: Mapping new ns http://schemas.android.com/sdk/android/repo/addon2/02 to old ns http://schemas.android.com/sdk/android/repo/addon2/01\n",
      "Warning: Mapping new ns http://schemas.android.com/sdk/android/repo/addon2/03 to old ns http://schemas.android.com/sdk/android/repo/addon2/01\n",
      "Warning: Mapping new ns http://schemas.android.com/sdk/android/repo/repository2/02 to old ns http://schemas.android.com/sdk/android/repo/repository2/01\n",
      "Warning: Mapping new ns http://schemas.android.com/sdk/android/repo/repository2/03 to old ns http://schemas.android.com/sdk/android/repo/repository2/01\n",
      "Warning: Mapping new ns http://schemas.android.com/sdk/android/repo/sys-img2/03 to old ns http://schemas.android.com/sdk/android/repo/sys-img2/01\n",
      "Warning: Mapping new ns http://schemas.android.com/sdk/android/repo/sys-img2/02 to old ns http://schemas.android.com/sdk/android/repo/sys-img2/01\n"
     ]
    },
    {
     "data": {
      "text/plain": [
       "\"Parsing /home/ezetap-eze10194/Android/Sdk/build-tools/30.0.3/package.xmlParsing /home/ezetap-eze10194/Android/Sdk/build-tools/32.0.0/package.xmlParsing /home/ezetap-eze10194/Android/Sdk/build-tools/32.1.0-rc1/package.xmlParsing /home/ezetap-eze10194/Android/Sdk/emulator/package.xmlParsing /home/ezetap-eze10194/Android/Sdk/ndk/25.1.8937393/package.xmlParsing /home/ezetap-eze10194/Android/Sdk/patcher/v4/package.xmlParsing /home/ezetap-eze10194/Android/Sdk/platform-tools/package.xmlParsing /home/ezetap-eze10194/Android/Sdk/platforms/android-32/package.xmlParsing /home/ezetap-eze10194/Android/Sdk/sources/android-32/package.xmlParsing /home/ezetap-eze10194/Android/Sdk/system-images/android-29/google_apis/x86/package.xmlParsing /home/ezetap-eze10194/Android/Sdk/system-images/android-31/google_apis/x86_64/package.xmlParsing /home/ezetap-eze10194/Android/Sdk/tools/package.xmlDeleting file /home/ezetap-eze10194/.android/avd/TestAVD.ini\\nDeleting folder /home/ezetap-eze10194/.android/avd/TestAVD.avd\\n\\nAVD 'TestAVD' deleted.\""
      ]
     },
     "execution_count": 1,
     "metadata": {},
     "output_type": "execute_result"
    }
   ],
   "source": [
    "from main import AVDManager, Emulator\n",
    "em = Emulator(name=\"TestAVD\")\n",
    "em.create()\n",
    "em.delete()"
   ]
  },
  {
   "cell_type": "code",
   "execution_count": null,
   "metadata": {},
   "outputs": [],
   "source": []
  },
  {
   "cell_type": "code",
   "execution_count": null,
   "metadata": {},
   "outputs": [],
   "source": []
  },
  {
   "cell_type": "code",
   "execution_count": null,
   "metadata": {},
   "outputs": [],
   "source": [
    "location = \"~/Android/Sdk/tools/bin\"\n",
    "\n",
    "answer_create_hardware_profile = 'n'\n",
    "\n",
    "f'''cd {location} && echo \"{answer_create_hardware_profile}\" | ./avdmanager  --silent create avd --force --name newavd --package \"system-images;android-31;google_apis;x86_64\" --abi google_apis/x86_64'''\n",
    "\n",
    "'''cd ~/Android/Sdk/tools/bin && ./avdmanager  --silent delete avd -n newavd'''\n",
    "\n",
    "\n",
    "~/Android/Sdk/tools/bin/avdmanager  --silent delete avd -n test"
   ]
  },
  {
   "cell_type": "code",
   "execution_count": 4,
   "metadata": {},
   "outputs": [
    {
     "data": {
      "text/plain": [
       "'~/Android/Sdk/tools/bin/avdmanager'"
      ]
     },
     "execution_count": 4,
     "metadata": {},
     "output_type": "execute_result"
    }
   ],
   "source": [
    "import os\n",
    "\n",
    "location = \"~/Android/Sdk/tools/bin\"\n",
    "\n",
    "avd_manager_path = os.path.join(location, 'avdmanager')\n",
    "\n",
    "answer_create_hardware_profile = 'no'\n",
    "\n",
    "f'''echo \"{answer_create_hardware_profile}\" | ~/Android/Sdk/tools/bin/avdmanager  --silent create avd --force --name newavd --package \"system-images;android-31;google_apis;x86_64\" --abi google_apis/x86_64'''\n",
    "\n",
    "os.path.exists(avd_manager_path)\n",
    "avd_manager_path"
   ]
  },
  {
   "cell_type": "code",
   "execution_count": 30,
   "metadata": {},
   "outputs": [
    {
     "data": {
      "text/plain": [
       "'del santo'"
      ]
     },
     "execution_count": 30,
     "metadata": {},
     "output_type": "execute_result"
    }
   ],
   "source": [
    "delete_command_template = \"del {name}\" \n",
    "\n",
    "delete_command_template.format(name=\"santo\")"
   ]
  },
  {
   "cell_type": "code",
   "execution_count": 29,
   "metadata": {},
   "outputs": [
    {
     "name": "stdout",
     "output_type": "stream",
     "text": [
      "echo \"no\" | /home/ezetap-eze10194/Android/Sdk/tools/bin/avdmanager --silent create avd --force --name myAVD01 --package \"system-images;android-31;google_apis;x86_64\" --abi google_apis/x86_64\n"
     ]
    }
   ],
   "source": [
    "home = os.getenv(\"HOME\")\n",
    "full_location = location.replace(\"~\", home)\n",
    "\n",
    "if not os.path.isdir(full_location):\n",
    "    raise Exception(f\"{full_location} folder does not exist\")\n",
    "\n",
    "avd_manager_path = os.path.join(full_location, \"avdmanager\")  # vs ~/Android/Sdk/tools/bin/avdmanager\n",
    "if not os.path.isfile(avd_manager_path):\n",
    "    raise Exception(f\"'avdmanager' does not exist in path {full_location}\")\n",
    "\n",
    "\n",
    "# create AVD device\n",
    "answer_create_hardware_profile = 'no'\n",
    "name = \"myAVD01\"\n",
    "\n",
    "forced_recreate = True\n",
    "silent_mode_enabled = True\n",
    "api_level = 31\n",
    "instruction_set = 64  # or 32 bit\n",
    "\n",
    "architecture = \"x86_64\" if instruction_set == 64 else \"x86\"\n",
    "\n",
    "sdk_id = f\"system-images;android-{api_level};google_apis;x86\"\n",
    "\n",
    "create_cmd = f'''echo \"{answer_create_hardware_profile}\" | {avd_manager_path}'''+\\\n",
    "    f'''{' --silent' if silent_mode_enabled else ''} create avd{' --force' if forced_recreate is True else ''}'''+\\\n",
    "        f''' --name {name} --package \"system-images;android-{api_level};google_apis;{architecture}\"'''+\\\n",
    "            f''' --abi google_apis/{architecture}'''\n",
    "\n",
    "# start_cmd_template = '''$ANDROID_HOME/emulator/emulator -avd myAVD01'''\n",
    "\n",
    "print(create_cmd)"
   ]
  },
  {
   "cell_type": "code",
   "execution_count": 37,
   "metadata": {},
   "outputs": [
    {
     "data": {
      "text/plain": [
       "'Loading local repository...                                                     \\r[=========                              ] 25% Loading local repository...       \\r[=========                              ] 25% Fetch remote repository...        \\r[=========                              ] 25% Fetch remote repository...        \\r[=========                              ] 25% Fetch remote repository...        \\r[=======================================] 100% Fetch remote repository...       \\rParsing /home/ezetap-eze10194/Android/Sdk/build-tools/30.0.3/package.xmlParsing /home/ezetap-eze10194/Android/Sdk/build-tools/32.0.0/package.xmlParsing /home/ezetap-eze10194/Android/Sdk/build-tools/32.1.0-rc1/package.xmlParsing /home/ezetap-eze10194/Android/Sdk/emulator/package.xmlParsing /home/ezetap-eze10194/Android/Sdk/ndk/25.1.8937393/package.xmlParsing /home/ezetap-eze10194/Android/Sdk/patcher/v4/package.xmlParsing /home/ezetap-eze10194/Android/Sdk/platform-tools/package.xmlParsing /home/ezetap-eze10194/Android/Sdk/platforms/android-32/package.xmlParsing /home/ezetap-eze10194/Android/Sdk/sources/android-32/package.xmlParsing /home/ezetap-eze10194/Android/Sdk/system-images/android-29/google_apis/x86/package.xmlParsing /home/ezetap-eze10194/Android/Sdk/system-images/android-31/google_apis/x86_64/package.xmlParsing /home/ezetap-eze10194/Android/Sdk/tools/package.xmlDo you wish to create a custom hardware profile? [no]'"
      ]
     },
     "execution_count": 37,
     "metadata": {},
     "output_type": "execute_result"
    }
   ],
   "source": [
    "out"
   ]
  },
  {
   "cell_type": "code",
   "execution_count": 40,
   "metadata": {},
   "outputs": [
    {
     "data": {
      "text/plain": [
       "NoneType"
      ]
     },
     "execution_count": 40,
     "metadata": {},
     "output_type": "execute_result"
    }
   ],
   "source": [
    "type(subprocess.stderr)"
   ]
  },
  {
   "cell_type": "code",
   "execution_count": 36,
   "metadata": {},
   "outputs": [
    {
     "name": "stderr",
     "output_type": "stream",
     "text": [
      "Warning: Mapping new ns http://schemas.android.com/repository/android/common/02 to old ns http://schemas.android.com/repository/android/common/01\n",
      "Warning: Mapping new ns http://schemas.android.com/repository/android/generic/02 to old ns http://schemas.android.com/repository/android/generic/01\n",
      "Warning: Mapping new ns http://schemas.android.com/sdk/android/repo/addon2/02 to old ns http://schemas.android.com/sdk/android/repo/addon2/01\n",
      "Warning: Mapping new ns http://schemas.android.com/sdk/android/repo/addon2/03 to old ns http://schemas.android.com/sdk/android/repo/addon2/01\n",
      "Warning: Mapping new ns http://schemas.android.com/sdk/android/repo/repository2/02 to old ns http://schemas.android.com/sdk/android/repo/repository2/01\n",
      "Warning: Mapping new ns http://schemas.android.com/sdk/android/repo/repository2/03 to old ns http://schemas.android.com/sdk/android/repo/repository2/01\n",
      "Warning: Mapping new ns http://schemas.android.com/sdk/android/repo/sys-img2/03 to old ns http://schemas.android.com/sdk/android/repo/sys-img2/01\n",
      "Warning: Mapping new ns http://schemas.android.com/sdk/android/repo/sys-img2/02 to old ns http://schemas.android.com/sdk/android/repo/sys-img2/01\n",
      "Warning: Mapping new ns http://schemas.android.com/repository/android/common/02 to old ns http://schemas.android.com/repository/android/common/01\n",
      "Warning: Mapping new ns http://schemas.android.com/repository/android/generic/02 to old ns http://schemas.android.com/repository/android/generic/01\n",
      "Warning: Mapping new ns http://schemas.android.com/sdk/android/repo/addon2/02 to old ns http://schemas.android.com/sdk/android/repo/addon2/01\n",
      "Warning: Mapping new ns http://schemas.android.com/sdk/android/repo/addon2/03 to old ns http://schemas.android.com/sdk/android/repo/addon2/01\n",
      "Warning: Mapping new ns http://schemas.android.com/sdk/android/repo/repository2/02 to old ns http://schemas.android.com/sdk/android/repo/repository2/01\n",
      "Warning: Mapping new ns http://schemas.android.com/sdk/android/repo/repository2/03 to old ns http://schemas.android.com/sdk/android/repo/repository2/01\n",
      "Warning: Mapping new ns http://schemas.android.com/sdk/android/repo/sys-img2/03 to old ns http://schemas.android.com/sdk/android/repo/sys-img2/01\n",
      "Warning: Mapping new ns http://schemas.android.com/sdk/android/repo/sys-img2/02 to old ns http://schemas.android.com/sdk/android/repo/sys-img2/01\n",
      "Warning: Mapping new ns http://schemas.android.com/repository/android/common/02 to old ns http://schemas.android.com/repository/android/common/01\n",
      "Warning: Mapping new ns http://schemas.android.com/repository/android/generic/02 to old ns http://schemas.android.com/repository/android/generic/01\n",
      "Warning: Mapping new ns http://schemas.android.com/sdk/android/repo/addon2/02 to old ns http://schemas.android.com/sdk/android/repo/addon2/01\n",
      "Warning: Mapping new ns http://schemas.android.com/sdk/android/repo/addon2/03 to old ns http://schemas.android.com/sdk/android/repo/addon2/01\n",
      "Warning: Mapping new ns http://schemas.android.com/sdk/android/repo/repository2/02 to old ns http://schemas.android.com/sdk/android/repo/repository2/01\n",
      "Warning: Mapping new ns http://schemas.android.com/sdk/android/repo/repository2/03 to old ns http://schemas.android.com/sdk/android/repo/repository2/01\n",
      "Warning: Mapping new ns http://schemas.android.com/sdk/android/repo/sys-img2/03 to old ns http://schemas.android.com/sdk/android/repo/sys-img2/01\n",
      "Warning: Mapping new ns http://schemas.android.com/sdk/android/repo/sys-img2/02 to old ns http://schemas.android.com/sdk/android/repo/sys-img2/01\n",
      "Warning: Mapping new ns http://schemas.android.com/repository/android/common/02 to old ns http://schemas.android.com/repository/android/common/01\n",
      "Warning: Mapping new ns http://schemas.android.com/repository/android/generic/02 to old ns http://schemas.android.com/repository/android/generic/01\n",
      "Warning: Mapping new ns http://schemas.android.com/sdk/android/repo/addon2/02 to old ns http://schemas.android.com/sdk/android/repo/addon2/01\n",
      "Warning: Mapping new ns http://schemas.android.com/sdk/android/repo/addon2/03 to old ns http://schemas.android.com/sdk/android/repo/addon2/01\n",
      "Warning: Mapping new ns http://schemas.android.com/sdk/android/repo/repository2/02 to old ns http://schemas.android.com/sdk/android/repo/repository2/01\n",
      "Warning: Mapping new ns http://schemas.android.com/sdk/android/repo/repository2/03 to old ns http://schemas.android.com/sdk/android/repo/repository2/01\n",
      "Warning: Mapping new ns http://schemas.android.com/sdk/android/repo/sys-img2/03 to old ns http://schemas.android.com/sdk/android/repo/sys-img2/01\n",
      "Warning: Mapping new ns http://schemas.android.com/sdk/android/repo/sys-img2/02 to old ns http://schemas.android.com/sdk/android/repo/sys-img2/01\n",
      "Warning: Mapping new ns http://schemas.android.com/repository/android/common/02 to old ns http://schemas.android.com/repository/android/common/01\n",
      "Warning: Mapping new ns http://schemas.android.com/repository/android/generic/02 to old ns http://schemas.android.com/repository/android/generic/01\n",
      "Warning: Mapping new ns http://schemas.android.com/sdk/android/repo/addon2/02 to old ns http://schemas.android.com/sdk/android/repo/addon2/01\n",
      "Warning: Mapping new ns http://schemas.android.com/sdk/android/repo/addon2/03 to old ns http://schemas.android.com/sdk/android/repo/addon2/01\n",
      "Warning: Mapping new ns http://schemas.android.com/sdk/android/repo/repository2/02 to old ns http://schemas.android.com/sdk/android/repo/repository2/01\n",
      "Warning: Mapping new ns http://schemas.android.com/sdk/android/repo/repository2/03 to old ns http://schemas.android.com/sdk/android/repo/repository2/01\n",
      "Warning: Mapping new ns http://schemas.android.com/sdk/android/repo/sys-img2/03 to old ns http://schemas.android.com/sdk/android/repo/sys-img2/01\n",
      "Warning: Mapping new ns http://schemas.android.com/sdk/android/repo/sys-img2/02 to old ns http://schemas.android.com/sdk/android/repo/sys-img2/01\n",
      "Warning: Mapping new ns http://schemas.android.com/repository/android/common/02 to old ns http://schemas.android.com/repository/android/common/01\n",
      "Warning: Mapping new ns http://schemas.android.com/repository/android/generic/02 to old ns http://schemas.android.com/repository/android/generic/01\n",
      "Warning: Mapping new ns http://schemas.android.com/sdk/android/repo/addon2/02 to old ns http://schemas.android.com/sdk/android/repo/addon2/01\n",
      "Warning: Mapping new ns http://schemas.android.com/sdk/android/repo/addon2/03 to old ns http://schemas.android.com/sdk/android/repo/addon2/01\n",
      "Warning: Mapping new ns http://schemas.android.com/sdk/android/repo/repository2/02 to old ns http://schemas.android.com/sdk/android/repo/repository2/01\n",
      "Warning: Mapping new ns http://schemas.android.com/sdk/android/repo/repository2/03 to old ns http://schemas.android.com/sdk/android/repo/repository2/01\n",
      "Warning: Mapping new ns http://schemas.android.com/sdk/android/repo/sys-img2/03 to old ns http://schemas.android.com/sdk/android/repo/sys-img2/01\n",
      "Warning: Mapping new ns http://schemas.android.com/sdk/android/repo/sys-img2/02 to old ns http://schemas.android.com/sdk/android/repo/sys-img2/01\n",
      "Warning: Mapping new ns http://schemas.android.com/repository/android/common/02 to old ns http://schemas.android.com/repository/android/common/01\n",
      "Warning: Mapping new ns http://schemas.android.com/repository/android/generic/02 to old ns http://schemas.android.com/repository/android/generic/01\n",
      "Warning: Mapping new ns http://schemas.android.com/sdk/android/repo/addon2/02 to old ns http://schemas.android.com/sdk/android/repo/addon2/01\n",
      "Warning: Mapping new ns http://schemas.android.com/sdk/android/repo/addon2/03 to old ns http://schemas.android.com/sdk/android/repo/addon2/01\n",
      "Warning: Mapping new ns http://schemas.android.com/sdk/android/repo/repository2/02 to old ns http://schemas.android.com/sdk/android/repo/repository2/01\n",
      "Warning: Mapping new ns http://schemas.android.com/sdk/android/repo/repository2/03 to old ns http://schemas.android.com/sdk/android/repo/repository2/01\n",
      "Warning: Mapping new ns http://schemas.android.com/sdk/android/repo/sys-img2/03 to old ns http://schemas.android.com/sdk/android/repo/sys-img2/01\n",
      "Warning: Mapping new ns http://schemas.android.com/sdk/android/repo/sys-img2/02 to old ns http://schemas.android.com/sdk/android/repo/sys-img2/01\n",
      "Warning: Mapping new ns http://schemas.android.com/repository/android/common/02 to old ns http://schemas.android.com/repository/android/common/01\n",
      "Warning: Mapping new ns http://schemas.android.com/repository/android/generic/02 to old ns http://schemas.android.com/repository/android/generic/01\n",
      "Warning: Mapping new ns http://schemas.android.com/sdk/android/repo/addon2/02 to old ns http://schemas.android.com/sdk/android/repo/addon2/01\n",
      "Warning: Mapping new ns http://schemas.android.com/sdk/android/repo/addon2/03 to old ns http://schemas.android.com/sdk/android/repo/addon2/01\n",
      "Warning: Mapping new ns http://schemas.android.com/sdk/android/repo/repository2/02 to old ns http://schemas.android.com/sdk/android/repo/repository2/01\n",
      "Warning: Mapping new ns http://schemas.android.com/sdk/android/repo/repository2/03 to old ns http://schemas.android.com/sdk/android/repo/repository2/01\n",
      "Warning: Mapping new ns http://schemas.android.com/sdk/android/repo/sys-img2/03 to old ns http://schemas.android.com/sdk/android/repo/sys-img2/01\n",
      "Warning: Mapping new ns http://schemas.android.com/sdk/android/repo/sys-img2/02 to old ns http://schemas.android.com/sdk/android/repo/sys-img2/01\n",
      "Warning: cvc-complex-type.2.4.a: Invalid content was found starting with element 'base-extension'. One of '{layoutlib}' is expected.\n",
      "org.xml.sax.SAXParseException; lineNumber: 141; columnNumber: 252; cvc-complex-type.2.4.a: Invalid content was found starting with element 'base-extension'. One of '{layoutlib}' is expected.\n",
      "\tat com.sun.org.apache.xerces.internal.util.ErrorHandlerWrapper.createSAXParseException(ErrorHandlerWrapper.java:204)\n",
      "\tat com.sun.org.apache.xerces.internal.util.ErrorHandlerWrapper.error(ErrorHandlerWrapper.java:135)\n",
      "\tat com.sun.org.apache.xerces.internal.impl.XMLErrorReporter.reportError(XMLErrorReporter.java:395)\n",
      "\tat com.sun.org.apache.xerces.internal.impl.XMLErrorReporter.reportError(XMLErrorReporter.java:326)\n",
      "\tat com.sun.org.apache.xerces.internal.impl.XMLErrorReporter.reportError(XMLErrorReporter.java:283)\n",
      "\tat com.sun.org.apache.xerces.internal.impl.xs.XMLSchemaValidator$XSIErrorReporter.reportError(XMLSchemaValidator.java:453)\n",
      "\tat com.sun.org.apache.xerces.internal.impl.xs.XMLSchemaValidator.reportSchemaError(XMLSchemaValidator.java:3231)\n",
      "\tat com.sun.org.apache.xerces.internal.impl.xs.XMLSchemaValidator.handleStartElement(XMLSchemaValidator.java:1791)\n",
      "\tat com.sun.org.apache.xerces.internal.impl.xs.XMLSchemaValidator.startElement(XMLSchemaValidator.java:741)\n",
      "\tat com.sun.org.apache.xerces.internal.jaxp.validation.ValidatorHandlerImpl.startElement(ValidatorHandlerImpl.java:567)\n",
      "\tat com.sun.xml.internal.bind.v2.runtime.unmarshaller.ValidatingUnmarshaller.startElement(ValidatingUnmarshaller.java:86)\n",
      "\tat com.sun.xml.internal.bind.v2.runtime.unmarshaller.SAXConnector.startElement(SAXConnector.java:153)\n",
      "\tat org.xml.sax.helpers.XMLFilterImpl.startElement(XMLFilterImpl.java:551)\n",
      "\tat com.android.repository.impl.meta.SchemaModuleUtil$NamespaceFallbackFilter.startElement(SchemaModuleUtil.java:403)\n",
      "\tat com.sun.org.apache.xerces.internal.parsers.AbstractSAXParser.startElement(AbstractSAXParser.java:509)\n",
      "\tat com.sun.org.apache.xerces.internal.impl.XMLNSDocumentScannerImpl.scanStartElement(XMLNSDocumentScannerImpl.java:374)\n",
      "\tat com.sun.org.apache.xerces.internal.impl.XMLDocumentFragmentScannerImpl$FragmentContentDriver.next(XMLDocumentFragmentScannerImpl.java:2783)\n",
      "\tat com.sun.org.apache.xerces.internal.impl.XMLDocumentScannerImpl.next(XMLDocumentScannerImpl.java:601)\n",
      "\tat com.sun.org.apache.xerces.internal.impl.XMLNSDocumentScannerImpl.next(XMLNSDocumentScannerImpl.java:112)\n",
      "\tat com.sun.org.apache.xerces.internal.impl.XMLDocumentFragmentScannerImpl.scanDocument(XMLDocumentFragmentScannerImpl.java:504)\n",
      "\tat com.sun.org.apache.xerces.internal.parsers.XML11Configuration.parse(XML11Configuration.java:841)\n",
      "\tat com.sun.org.apache.xerces.internal.parsers.XML11Configuration.parse(XML11Configuration.java:770)\n",
      "\tat com.sun.org.apache.xerces.internal.parsers.XMLParser.parse(XMLParser.java:141)\n",
      "\tat com.sun.org.apache.xerces.internal.parsers.AbstractSAXParser.parse(AbstractSAXParser.java:1213)\n",
      "\tat com.sun.org.apache.xerces.internal.jaxp.SAXParserImpl$JAXPSAXParser.parse(SAXParserImpl.java:642)\n",
      "\tat org.xml.sax.helpers.XMLFilterImpl.parse(XMLFilterImpl.java:357)\n",
      "\tat com.sun.xml.internal.bind.v2.runtime.unmarshaller.UnmarshallerImpl.unmarshal0(UnmarshallerImpl.java:243)\n",
      "\tat com.sun.xml.internal.bind.v2.runtime.unmarshaller.UnmarshallerImpl.unmarshal(UnmarshallerImpl.java:214)\n",
      "\tat javax.xml.bind.helpers.AbstractUnmarshallerImpl.unmarshal(AbstractUnmarshallerImpl.java:140)\n",
      "\tat javax.xml.bind.helpers.AbstractUnmarshallerImpl.unmarshal(AbstractUnmarshallerImpl.java:123)\n",
      "\tat com.android.repository.impl.meta.SchemaModuleUtil.unmarshal(SchemaModuleUtil.java:196)\n",
      "\tat com.android.repository.impl.manager.LocalRepoLoaderImpl.parsePackage(LocalRepoLoaderImpl.java:301)\n",
      "\tat com.android.repository.impl.manager.LocalRepoLoaderImpl.parsePackages(LocalRepoLoaderImpl.java:159)\n",
      "\tat com.android.repository.impl.manager.LocalRepoLoaderImpl.getPackages(LocalRepoLoaderImpl.java:124)\n",
      "\tat com.android.repository.impl.manager.RepoManagerImpl$LoadTask.run(RepoManagerImpl.java:518)\n",
      "\tat com.android.repository.api.RepoManager$DummyProgressRunner.runSyncWithProgress(RepoManager.java:397)\n",
      "\tat com.android.repository.impl.manager.RepoManagerImpl.load(RepoManagerImpl.java:365)\n",
      "\tat com.android.repository.api.RepoManager.loadSynchronously(RepoManager.java:290)\n",
      "\tat com.android.sdklib.repository.AndroidSdkHandler$RepoConfig.createRepoManager(AndroidSdkHandler.java:725)\n",
      "\tat com.android.sdklib.repository.AndroidSdkHandler.getSdkManager(AndroidSdkHandler.java:296)\n",
      "\tat com.android.sdklib.repository.AndroidSdkHandler.getLocalPackage(AndroidSdkHandler.java:355)\n",
      "\tat com.android.sdklib.tool.AvdManagerCli.createAvd(AvdManagerCli.java:675)\n",
      "\tat com.android.sdklib.tool.AvdManagerCli.doAction(AvdManagerCli.java:386)\n",
      "\tat com.android.sdklib.tool.AvdManagerCli.run(AvdManagerCli.java:215)\n",
      "\tat com.android.sdklib.tool.AvdManagerCli.main(AvdManagerCli.java:200)\n",
      "Warning: unexpected element (uri:\"\", local:\"base-extension\"). Expected elements are <{}codename>,<{}layoutlib>,<{}api-level>\n",
      "Warning: Mapping new ns http://schemas.android.com/repository/android/common/02 to old ns http://schemas.android.com/repository/android/common/01\n",
      "Warning: Mapping new ns http://schemas.android.com/repository/android/generic/02 to old ns http://schemas.android.com/repository/android/generic/01\n",
      "Warning: Mapping new ns http://schemas.android.com/sdk/android/repo/addon2/02 to old ns http://schemas.android.com/sdk/android/repo/addon2/01\n",
      "Warning: Mapping new ns http://schemas.android.com/sdk/android/repo/addon2/03 to old ns http://schemas.android.com/sdk/android/repo/addon2/01\n",
      "Warning: Mapping new ns http://schemas.android.com/sdk/android/repo/repository2/02 to old ns http://schemas.android.com/sdk/android/repo/repository2/01\n",
      "Warning: Mapping new ns http://schemas.android.com/sdk/android/repo/repository2/03 to old ns http://schemas.android.com/sdk/android/repo/repository2/01\n",
      "Warning: Mapping new ns http://schemas.android.com/sdk/android/repo/sys-img2/03 to old ns http://schemas.android.com/sdk/android/repo/sys-img2/01\n",
      "Warning: Mapping new ns http://schemas.android.com/sdk/android/repo/sys-img2/02 to old ns http://schemas.android.com/sdk/android/repo/sys-img2/01\n",
      "Warning: cvc-complex-type.2.4.d: Invalid content was found starting with element 'base-extension'. No child element is expected at this point.\n",
      "org.xml.sax.SAXParseException; lineNumber: 141; columnNumber: 248; cvc-complex-type.2.4.d: Invalid content was found starting with element 'base-extension'. No child element is expected at this point.\n",
      "\tat com.sun.org.apache.xerces.internal.util.ErrorHandlerWrapper.createSAXParseException(ErrorHandlerWrapper.java:204)\n",
      "\tat com.sun.org.apache.xerces.internal.util.ErrorHandlerWrapper.error(ErrorHandlerWrapper.java:135)\n",
      "\tat com.sun.org.apache.xerces.internal.impl.XMLErrorReporter.reportError(XMLErrorReporter.java:395)\n",
      "\tat com.sun.org.apache.xerces.internal.impl.XMLErrorReporter.reportError(XMLErrorReporter.java:326)\n",
      "\tat com.sun.org.apache.xerces.internal.impl.XMLErrorReporter.reportError(XMLErrorReporter.java:283)\n",
      "\tat com.sun.org.apache.xerces.internal.impl.xs.XMLSchemaValidator$XSIErrorReporter.reportError(XMLSchemaValidator.java:453)\n",
      "\tat com.sun.org.apache.xerces.internal.impl.xs.XMLSchemaValidator.reportSchemaError(XMLSchemaValidator.java:3231)\n",
      "\tat com.sun.org.apache.xerces.internal.impl.xs.XMLSchemaValidator.handleStartElement(XMLSchemaValidator.java:1795)\n",
      "\tat com.sun.org.apache.xerces.internal.impl.xs.XMLSchemaValidator.startElement(XMLSchemaValidator.java:741)\n",
      "\tat com.sun.org.apache.xerces.internal.jaxp.validation.ValidatorHandlerImpl.startElement(ValidatorHandlerImpl.java:567)\n",
      "\tat com.sun.xml.internal.bind.v2.runtime.unmarshaller.ValidatingUnmarshaller.startElement(ValidatingUnmarshaller.java:86)\n",
      "\tat com.sun.xml.internal.bind.v2.runtime.unmarshaller.SAXConnector.startElement(SAXConnector.java:153)\n",
      "\tat org.xml.sax.helpers.XMLFilterImpl.startElement(XMLFilterImpl.java:551)\n",
      "\tat com.android.repository.impl.meta.SchemaModuleUtil$NamespaceFallbackFilter.startElement(SchemaModuleUtil.java:403)\n",
      "\tat com.sun.org.apache.xerces.internal.parsers.AbstractSAXParser.startElement(AbstractSAXParser.java:509)\n",
      "\tat com.sun.org.apache.xerces.internal.impl.XMLNSDocumentScannerImpl.scanStartElement(XMLNSDocumentScannerImpl.java:374)\n",
      "\tat com.sun.org.apache.xerces.internal.impl.XMLDocumentFragmentScannerImpl$FragmentContentDriver.next(XMLDocumentFragmentScannerImpl.java:2783)\n",
      "\tat com.sun.org.apache.xerces.internal.impl.XMLDocumentScannerImpl.next(XMLDocumentScannerImpl.java:601)\n",
      "\tat com.sun.org.apache.xerces.internal.impl.XMLNSDocumentScannerImpl.next(XMLNSDocumentScannerImpl.java:112)\n",
      "\tat com.sun.org.apache.xerces.internal.impl.XMLDocumentFragmentScannerImpl.scanDocument(XMLDocumentFragmentScannerImpl.java:504)\n",
      "\tat com.sun.org.apache.xerces.internal.parsers.XML11Configuration.parse(XML11Configuration.java:841)\n",
      "\tat com.sun.org.apache.xerces.internal.parsers.XML11Configuration.parse(XML11Configuration.java:770)\n",
      "\tat com.sun.org.apache.xerces.internal.parsers.XMLParser.parse(XMLParser.java:141)\n",
      "\tat com.sun.org.apache.xerces.internal.parsers.AbstractSAXParser.parse(AbstractSAXParser.java:1213)\n",
      "\tat com.sun.org.apache.xerces.internal.jaxp.SAXParserImpl$JAXPSAXParser.parse(SAXParserImpl.java:642)\n",
      "\tat org.xml.sax.helpers.XMLFilterImpl.parse(XMLFilterImpl.java:357)\n",
      "\tat com.sun.xml.internal.bind.v2.runtime.unmarshaller.UnmarshallerImpl.unmarshal0(UnmarshallerImpl.java:243)\n",
      "\tat com.sun.xml.internal.bind.v2.runtime.unmarshaller.UnmarshallerImpl.unmarshal(UnmarshallerImpl.java:214)\n",
      "\tat javax.xml.bind.helpers.AbstractUnmarshallerImpl.unmarshal(AbstractUnmarshallerImpl.java:140)\n",
      "\tat javax.xml.bind.helpers.AbstractUnmarshallerImpl.unmarshal(AbstractUnmarshallerImpl.java:123)\n",
      "\tat com.android.repository.impl.meta.SchemaModuleUtil.unmarshal(SchemaModuleUtil.java:196)\n",
      "\tat com.android.repository.impl.manager.LocalRepoLoaderImpl.parsePackage(LocalRepoLoaderImpl.java:301)\n",
      "\tat com.android.repository.impl.manager.LocalRepoLoaderImpl.parsePackages(LocalRepoLoaderImpl.java:159)\n",
      "\tat com.android.repository.impl.manager.LocalRepoLoaderImpl.getPackages(LocalRepoLoaderImpl.java:124)\n",
      "\tat com.android.repository.impl.manager.RepoManagerImpl$LoadTask.run(RepoManagerImpl.java:518)\n",
      "\tat com.android.repository.api.RepoManager$DummyProgressRunner.runSyncWithProgress(RepoManager.java:397)\n",
      "\tat com.android.repository.impl.manager.RepoManagerImpl.load(RepoManagerImpl.java:365)\n",
      "\tat com.android.repository.api.RepoManager.loadSynchronously(RepoManager.java:290)\n",
      "\tat com.android.sdklib.repository.AndroidSdkHandler$RepoConfig.createRepoManager(AndroidSdkHandler.java:725)\n",
      "\tat com.android.sdklib.repository.AndroidSdkHandler.getSdkManager(AndroidSdkHandler.java:296)\n",
      "\tat com.android.sdklib.repository.AndroidSdkHandler.getLocalPackage(AndroidSdkHandler.java:355)\n",
      "\tat com.android.sdklib.tool.AvdManagerCli.createAvd(AvdManagerCli.java:675)\n",
      "\tat com.android.sdklib.tool.AvdManagerCli.doAction(AvdManagerCli.java:386)\n",
      "\tat com.android.sdklib.tool.AvdManagerCli.run(AvdManagerCli.java:215)\n",
      "\tat com.android.sdklib.tool.AvdManagerCli.main(AvdManagerCli.java:200)\n",
      "Warning: unexpected element (uri:\"\", local:\"base-extension\"). Expected elements are <{}codename>,<{}api-level>\n",
      "Warning: Mapping new ns http://schemas.android.com/repository/android/common/02 to old ns http://schemas.android.com/repository/android/common/01\n",
      "Warning: Mapping new ns http://schemas.android.com/repository/android/generic/02 to old ns http://schemas.android.com/repository/android/generic/01\n",
      "Warning: Mapping new ns http://schemas.android.com/sdk/android/repo/addon2/02 to old ns http://schemas.android.com/sdk/android/repo/addon2/01\n",
      "Warning: Mapping new ns http://schemas.android.com/sdk/android/repo/addon2/03 to old ns http://schemas.android.com/sdk/android/repo/addon2/01\n",
      "Warning: Mapping new ns http://schemas.android.com/sdk/android/repo/repository2/02 to old ns http://schemas.android.com/sdk/android/repo/repository2/01\n",
      "Warning: Mapping new ns http://schemas.android.com/sdk/android/repo/repository2/03 to old ns http://schemas.android.com/sdk/android/repo/repository2/01\n",
      "Warning: Mapping new ns http://schemas.android.com/sdk/android/repo/sys-img2/03 to old ns http://schemas.android.com/sdk/android/repo/sys-img2/01\n",
      "Warning: Mapping new ns http://schemas.android.com/sdk/android/repo/sys-img2/02 to old ns http://schemas.android.com/sdk/android/repo/sys-img2/01\n",
      "Warning: cvc-complex-type.2.4.a: Invalid content was found starting with element 'base-extension'. One of '{codename, tag}' is expected.\n",
      "org.xml.sax.SAXParseException; lineNumber: 141; columnNumber: 249; cvc-complex-type.2.4.a: Invalid content was found starting with element 'base-extension'. One of '{codename, tag}' is expected.\n",
      "\tat com.sun.org.apache.xerces.internal.util.ErrorHandlerWrapper.createSAXParseException(ErrorHandlerWrapper.java:204)\n",
      "\tat com.sun.org.apache.xerces.internal.util.ErrorHandlerWrapper.error(ErrorHandlerWrapper.java:135)\n",
      "\tat com.sun.org.apache.xerces.internal.impl.XMLErrorReporter.reportError(XMLErrorReporter.java:395)\n",
      "\tat com.sun.org.apache.xerces.internal.impl.XMLErrorReporter.reportError(XMLErrorReporter.java:326)\n",
      "\tat com.sun.org.apache.xerces.internal.impl.XMLErrorReporter.reportError(XMLErrorReporter.java:283)\n",
      "\tat com.sun.org.apache.xerces.internal.impl.xs.XMLSchemaValidator$XSIErrorReporter.reportError(XMLSchemaValidator.java:453)\n",
      "\tat com.sun.org.apache.xerces.internal.impl.xs.XMLSchemaValidator.reportSchemaError(XMLSchemaValidator.java:3231)\n",
      "\tat com.sun.org.apache.xerces.internal.impl.xs.XMLSchemaValidator.handleStartElement(XMLSchemaValidator.java:1791)\n",
      "\tat com.sun.org.apache.xerces.internal.impl.xs.XMLSchemaValidator.startElement(XMLSchemaValidator.java:741)\n",
      "\tat com.sun.org.apache.xerces.internal.jaxp.validation.ValidatorHandlerImpl.startElement(ValidatorHandlerImpl.java:567)\n",
      "\tat com.sun.xml.internal.bind.v2.runtime.unmarshaller.ValidatingUnmarshaller.startElement(ValidatingUnmarshaller.java:86)\n",
      "\tat com.sun.xml.internal.bind.v2.runtime.unmarshaller.SAXConnector.startElement(SAXConnector.java:153)\n",
      "\tat org.xml.sax.helpers.XMLFilterImpl.startElement(XMLFilterImpl.java:551)\n",
      "\tat com.android.repository.impl.meta.SchemaModuleUtil$NamespaceFallbackFilter.startElement(SchemaModuleUtil.java:403)\n",
      "\tat com.sun.org.apache.xerces.internal.parsers.AbstractSAXParser.startElement(AbstractSAXParser.java:509)\n",
      "\tat com.sun.org.apache.xerces.internal.impl.XMLNSDocumentScannerImpl.scanStartElement(XMLNSDocumentScannerImpl.java:374)\n",
      "\tat com.sun.org.apache.xerces.internal.impl.XMLDocumentFragmentScannerImpl$FragmentContentDriver.next(XMLDocumentFragmentScannerImpl.java:2783)\n",
      "\tat com.sun.org.apache.xerces.internal.impl.XMLDocumentScannerImpl.next(XMLDocumentScannerImpl.java:601)\n",
      "\tat com.sun.org.apache.xerces.internal.impl.XMLNSDocumentScannerImpl.next(XMLNSDocumentScannerImpl.java:112)\n",
      "\tat com.sun.org.apache.xerces.internal.impl.XMLDocumentFragmentScannerImpl.scanDocument(XMLDocumentFragmentScannerImpl.java:504)\n",
      "\tat com.sun.org.apache.xerces.internal.parsers.XML11Configuration.parse(XML11Configuration.java:841)\n",
      "\tat com.sun.org.apache.xerces.internal.parsers.XML11Configuration.parse(XML11Configuration.java:770)\n",
      "\tat com.sun.org.apache.xerces.internal.parsers.XMLParser.parse(XMLParser.java:141)\n",
      "\tat com.sun.org.apache.xerces.internal.parsers.AbstractSAXParser.parse(AbstractSAXParser.java:1213)\n",
      "\tat com.sun.org.apache.xerces.internal.jaxp.SAXParserImpl$JAXPSAXParser.parse(SAXParserImpl.java:642)\n",
      "\tat org.xml.sax.helpers.XMLFilterImpl.parse(XMLFilterImpl.java:357)\n",
      "\tat com.sun.xml.internal.bind.v2.runtime.unmarshaller.UnmarshallerImpl.unmarshal0(UnmarshallerImpl.java:243)\n",
      "\tat com.sun.xml.internal.bind.v2.runtime.unmarshaller.UnmarshallerImpl.unmarshal(UnmarshallerImpl.java:214)\n",
      "\tat javax.xml.bind.helpers.AbstractUnmarshallerImpl.unmarshal(AbstractUnmarshallerImpl.java:140)\n",
      "\tat javax.xml.bind.helpers.AbstractUnmarshallerImpl.unmarshal(AbstractUnmarshallerImpl.java:123)\n",
      "\tat com.android.repository.impl.meta.SchemaModuleUtil.unmarshal(SchemaModuleUtil.java:196)\n",
      "\tat com.android.repository.impl.manager.LocalRepoLoaderImpl.parsePackage(LocalRepoLoaderImpl.java:301)\n",
      "\tat com.android.repository.impl.manager.LocalRepoLoaderImpl.parsePackages(LocalRepoLoaderImpl.java:159)\n",
      "\tat com.android.repository.impl.manager.LocalRepoLoaderImpl.getPackages(LocalRepoLoaderImpl.java:124)\n",
      "\tat com.android.repository.impl.manager.RepoManagerImpl$LoadTask.run(RepoManagerImpl.java:518)\n",
      "\tat com.android.repository.api.RepoManager$DummyProgressRunner.runSyncWithProgress(RepoManager.java:397)\n",
      "\tat com.android.repository.impl.manager.RepoManagerImpl.load(RepoManagerImpl.java:365)\n",
      "\tat com.android.repository.api.RepoManager.loadSynchronously(RepoManager.java:290)\n",
      "\tat com.android.sdklib.repository.AndroidSdkHandler$RepoConfig.createRepoManager(AndroidSdkHandler.java:725)\n",
      "\tat com.android.sdklib.repository.AndroidSdkHandler.getSdkManager(AndroidSdkHandler.java:296)\n",
      "\tat com.android.sdklib.repository.AndroidSdkHandler.getLocalPackage(AndroidSdkHandler.java:355)\n",
      "\tat com.android.sdklib.tool.AvdManagerCli.createAvd(AvdManagerCli.java:675)\n",
      "\tat com.android.sdklib.tool.AvdManagerCli.doAction(AvdManagerCli.java:386)\n",
      "\tat com.android.sdklib.tool.AvdManagerCli.run(AvdManagerCli.java:215)\n",
      "\tat com.android.sdklib.tool.AvdManagerCli.main(AvdManagerCli.java:200)\n",
      "Warning: unexpected element (uri:\"\", local:\"base-extension\"). Expected elements are <{}vendor>,<{}codename>,<{}abi>,<{}api-level>,<{}tag>\n",
      "Warning: Mapping new ns http://schemas.android.com/repository/android/common/02 to old ns http://schemas.android.com/repository/android/common/01\n",
      "Warning: Mapping new ns http://schemas.android.com/repository/android/generic/02 to old ns http://schemas.android.com/repository/android/generic/01\n",
      "Warning: Mapping new ns http://schemas.android.com/sdk/android/repo/addon2/02 to old ns http://schemas.android.com/sdk/android/repo/addon2/01\n",
      "Warning: Mapping new ns http://schemas.android.com/sdk/android/repo/addon2/03 to old ns http://schemas.android.com/sdk/android/repo/addon2/01\n",
      "Warning: Mapping new ns http://schemas.android.com/sdk/android/repo/repository2/02 to old ns http://schemas.android.com/sdk/android/repo/repository2/01\n",
      "Warning: Mapping new ns http://schemas.android.com/sdk/android/repo/repository2/03 to old ns http://schemas.android.com/sdk/android/repo/repository2/01\n",
      "Warning: Mapping new ns http://schemas.android.com/sdk/android/repo/sys-img2/03 to old ns http://schemas.android.com/sdk/android/repo/sys-img2/01\n",
      "Warning: Mapping new ns http://schemas.android.com/sdk/android/repo/sys-img2/02 to old ns http://schemas.android.com/sdk/android/repo/sys-img2/01\n",
      "Warning: cvc-complex-type.2.4.a: Invalid content was found starting with element 'base-extension'. One of '{codename, tag}' is expected.\n",
      "org.xml.sax.SAXParseException; lineNumber: 131; columnNumber: 246; cvc-complex-type.2.4.a: Invalid content was found starting with element 'base-extension'. One of '{codename, tag}' is expected.\n",
      "\tat com.sun.org.apache.xerces.internal.util.ErrorHandlerWrapper.createSAXParseException(ErrorHandlerWrapper.java:204)\n",
      "\tat com.sun.org.apache.xerces.internal.util.ErrorHandlerWrapper.error(ErrorHandlerWrapper.java:135)\n",
      "\tat com.sun.org.apache.xerces.internal.impl.XMLErrorReporter.reportError(XMLErrorReporter.java:395)\n",
      "\tat com.sun.org.apache.xerces.internal.impl.XMLErrorReporter.reportError(XMLErrorReporter.java:326)\n",
      "\tat com.sun.org.apache.xerces.internal.impl.XMLErrorReporter.reportError(XMLErrorReporter.java:283)\n",
      "\tat com.sun.org.apache.xerces.internal.impl.xs.XMLSchemaValidator$XSIErrorReporter.reportError(XMLSchemaValidator.java:453)\n",
      "\tat com.sun.org.apache.xerces.internal.impl.xs.XMLSchemaValidator.reportSchemaError(XMLSchemaValidator.java:3231)\n",
      "\tat com.sun.org.apache.xerces.internal.impl.xs.XMLSchemaValidator.handleStartElement(XMLSchemaValidator.java:1791)\n",
      "\tat com.sun.org.apache.xerces.internal.impl.xs.XMLSchemaValidator.startElement(XMLSchemaValidator.java:741)\n",
      "\tat com.sun.org.apache.xerces.internal.jaxp.validation.ValidatorHandlerImpl.startElement(ValidatorHandlerImpl.java:567)\n",
      "\tat com.sun.xml.internal.bind.v2.runtime.unmarshaller.ValidatingUnmarshaller.startElement(ValidatingUnmarshaller.java:86)\n",
      "\tat com.sun.xml.internal.bind.v2.runtime.unmarshaller.SAXConnector.startElement(SAXConnector.java:153)\n",
      "\tat org.xml.sax.helpers.XMLFilterImpl.startElement(XMLFilterImpl.java:551)\n",
      "\tat com.android.repository.impl.meta.SchemaModuleUtil$NamespaceFallbackFilter.startElement(SchemaModuleUtil.java:403)\n",
      "\tat com.sun.org.apache.xerces.internal.parsers.AbstractSAXParser.startElement(AbstractSAXParser.java:509)\n",
      "\tat com.sun.org.apache.xerces.internal.impl.XMLNSDocumentScannerImpl.scanStartElement(XMLNSDocumentScannerImpl.java:374)\n",
      "\tat com.sun.org.apache.xerces.internal.impl.XMLDocumentFragmentScannerImpl$FragmentContentDriver.next(XMLDocumentFragmentScannerImpl.java:2783)\n",
      "\tat com.sun.org.apache.xerces.internal.impl.XMLDocumentScannerImpl.next(XMLDocumentScannerImpl.java:601)\n",
      "\tat com.sun.org.apache.xerces.internal.impl.XMLNSDocumentScannerImpl.next(XMLNSDocumentScannerImpl.java:112)\n",
      "\tat com.sun.org.apache.xerces.internal.impl.XMLDocumentFragmentScannerImpl.scanDocument(XMLDocumentFragmentScannerImpl.java:504)\n",
      "\tat com.sun.org.apache.xerces.internal.parsers.XML11Configuration.parse(XML11Configuration.java:841)\n",
      "\tat com.sun.org.apache.xerces.internal.parsers.XML11Configuration.parse(XML11Configuration.java:770)\n",
      "\tat com.sun.org.apache.xerces.internal.parsers.XMLParser.parse(XMLParser.java:141)\n",
      "\tat com.sun.org.apache.xerces.internal.parsers.AbstractSAXParser.parse(AbstractSAXParser.java:1213)\n",
      "\tat com.sun.org.apache.xerces.internal.jaxp.SAXParserImpl$JAXPSAXParser.parse(SAXParserImpl.java:642)\n",
      "\tat org.xml.sax.helpers.XMLFilterImpl.parse(XMLFilterImpl.java:357)\n",
      "\tat com.sun.xml.internal.bind.v2.runtime.unmarshaller.UnmarshallerImpl.unmarshal0(UnmarshallerImpl.java:243)\n",
      "\tat com.sun.xml.internal.bind.v2.runtime.unmarshaller.UnmarshallerImpl.unmarshal(UnmarshallerImpl.java:214)\n",
      "\tat javax.xml.bind.helpers.AbstractUnmarshallerImpl.unmarshal(AbstractUnmarshallerImpl.java:140)\n",
      "\tat javax.xml.bind.helpers.AbstractUnmarshallerImpl.unmarshal(AbstractUnmarshallerImpl.java:123)\n",
      "\tat com.android.repository.impl.meta.SchemaModuleUtil.unmarshal(SchemaModuleUtil.java:196)\n",
      "\tat com.android.repository.impl.manager.LocalRepoLoaderImpl.parsePackage(LocalRepoLoaderImpl.java:301)\n",
      "\tat com.android.repository.impl.manager.LocalRepoLoaderImpl.parsePackages(LocalRepoLoaderImpl.java:159)\n",
      "\tat com.android.repository.impl.manager.LocalRepoLoaderImpl.getPackages(LocalRepoLoaderImpl.java:124)\n",
      "\tat com.android.repository.impl.manager.RepoManagerImpl$LoadTask.run(RepoManagerImpl.java:518)\n",
      "\tat com.android.repository.api.RepoManager$DummyProgressRunner.runSyncWithProgress(RepoManager.java:397)\n",
      "\tat com.android.repository.impl.manager.RepoManagerImpl.load(RepoManagerImpl.java:365)\n",
      "\tat com.android.repository.api.RepoManager.loadSynchronously(RepoManager.java:290)\n",
      "\tat com.android.sdklib.repository.AndroidSdkHandler$RepoConfig.createRepoManager(AndroidSdkHandler.java:725)\n",
      "\tat com.android.sdklib.repository.AndroidSdkHandler.getSdkManager(AndroidSdkHandler.java:296)\n",
      "\tat com.android.sdklib.repository.AndroidSdkHandler.getLocalPackage(AndroidSdkHandler.java:355)\n",
      "\tat com.android.sdklib.tool.AvdManagerCli.createAvd(AvdManagerCli.java:675)\n",
      "\tat com.android.sdklib.tool.AvdManagerCli.doAction(AvdManagerCli.java:386)\n",
      "\tat com.android.sdklib.tool.AvdManagerCli.run(AvdManagerCli.java:215)\n",
      "\tat com.android.sdklib.tool.AvdManagerCli.main(AvdManagerCli.java:200)\n",
      "Warning: unexpected element (uri:\"\", local:\"base-extension\"). Expected elements are <{}vendor>,<{}codename>,<{}abi>,<{}api-level>,<{}tag>\n",
      "Warning: Mapping new ns http://schemas.android.com/repository/android/common/02 to old ns http://schemas.android.com/repository/android/common/01\n",
      "Warning: Mapping new ns http://schemas.android.com/repository/android/generic/02 to old ns http://schemas.android.com/repository/android/generic/01\n",
      "Warning: Mapping new ns http://schemas.android.com/sdk/android/repo/addon2/02 to old ns http://schemas.android.com/sdk/android/repo/addon2/01\n",
      "Warning: Mapping new ns http://schemas.android.com/sdk/android/repo/addon2/03 to old ns http://schemas.android.com/sdk/android/repo/addon2/01\n",
      "Warning: Mapping new ns http://schemas.android.com/sdk/android/repo/repository2/02 to old ns http://schemas.android.com/sdk/android/repo/repository2/01\n",
      "Warning: Mapping new ns http://schemas.android.com/sdk/android/repo/repository2/03 to old ns http://schemas.android.com/sdk/android/repo/repository2/01\n",
      "Warning: Mapping new ns http://schemas.android.com/sdk/android/repo/sys-img2/03 to old ns http://schemas.android.com/sdk/android/repo/sys-img2/01\n",
      "Warning: Mapping new ns http://schemas.android.com/sdk/android/repo/sys-img2/02 to old ns http://schemas.android.com/sdk/android/repo/sys-img2/01\n"
     ]
    },
    {
     "name": "stdout",
     "output_type": "stream",
     "text": [
      "Parsing /home/ezetap-eze10194/Android/Sdk/build-tools/30.0.3/package.xmlParsing /home/ezetap-eze10194/Android/Sdk/build-tools/32.0.0/package.xmlParsing /home/ezetap-eze10194/Android/Sdk/build-tools/32.1.0-rc1/package.xmlParsing /home/ezetap-eze10194/Android/Sdk/emulator/package.xmlParsing /home/ezetap-eze10194/Android/Sdk/ndk/25.1.8937393/package.xmlParsing /home/ezetap-eze10194/Android/Sdk/patcher/v4/package.xmlParsing /home/ezetap-eze10194/Android/Sdk/platform-tools/package.xmlParsing /home/ezetap-eze10194/Android/Sdk/platforms/android-32/package.xmlParsing /home/ezetap-eze10194/Android/Sdk/sources/android-32/package.xmlParsing /home/ezetap-eze10194/Android/Sdk/system-images/android-29/google_apis/x86/package.xmlParsing /home/ezetap-eze10194/Android/Sdk/system-images/android-31/google_apis/x86_64/package.xmlParsing /home/ezetap-eze10194/Android/Sdk/tools/package.xmlDo you wish to create a custom hardware profile? [no]\n"
     ]
    }
   ],
   "source": [
    "import subprocess\n",
    "subprocess = subprocess.Popen(create_cmd, shell=True, stdout=subprocess.PIPE)\n",
    "if subprocess.stderr:\n",
    "    raise Exception(f\"Error in running command '{create_cmd}': {str(subprocess.stderr)}\")\n",
    "else:\n",
    "    out = subprocess.stdout.read().decode('UTF-8').strip()\n",
    "    return out\n"
   ]
  },
  {
   "cell_type": "code",
   "execution_count": null,
   "metadata": {},
   "outputs": [],
   "source": []
  },
  {
   "cell_type": "code",
   "execution_count": 34,
   "metadata": {},
   "outputs": [
    {
     "data": {
      "text/plain": [
       "['Emulator_2_Nexus_6_API_31.ini',\n",
       " 'Emulator_2_Nexus_6_API_31.avd',\n",
       " 'newavd.avd',\n",
       " 'newavd.ini',\n",
       " 'myAVD01.ini',\n",
       " 'Nexus_6_API_31.avd',\n",
       " 'myAVD01.avd',\n",
       " 'Nexus_6_API_31.ini']"
      ]
     },
     "execution_count": 34,
     "metadata": {},
     "output_type": "execute_result"
    }
   ],
   "source": [
    "avd_files_dir = \"~/.android/avd/\".replace(\"~\", home)\n",
    "os.listdir(avd_files_dir)\n",
    "\n",
    "\n",
    "\n",
    "kill_em = '''adb devices | grep emulator | cut -f1 | while read line; do adb -s $line emu kill; done'''"
   ]
  },
  {
   "cell_type": "code",
   "execution_count": 31,
   "metadata": {},
   "outputs": [
    {
     "data": {
      "text/plain": [
       "'/home/ezetap-eze10194/Android/Sdk'"
      ]
     },
     "execution_count": 31,
     "metadata": {},
     "output_type": "execute_result"
    }
   ],
   "source": [
    "os.getenv(\"ANDROID_HOME\")"
   ]
  },
  {
   "cell_type": "code",
   "execution_count": 35,
   "metadata": {},
   "outputs": [
    {
     "ename": "FileNotFoundError",
     "evalue": "[Errno 2] No such file or directory: 'echo \"no\" | /home/ezetap-eze10194/Android/Sdk/tools/bin/avdmanager --silent create avd --force --name myAVD01 --package \"system-images;android-31;google_apis;x86_64\" --abi google_apis/x86_64'",
     "output_type": "error",
     "traceback": [
      "\u001b[0;31m---------------------------------------------------------------------------\u001b[0m",
      "\u001b[0;31mFileNotFoundError\u001b[0m                         Traceback (most recent call last)",
      "\u001b[0;32m/tmp/ipykernel_125914/3677241866.py\u001b[0m in \u001b[0;36m<module>\u001b[0;34m\u001b[0m\n\u001b[1;32m      1\u001b[0m \u001b[0;32mimport\u001b[0m \u001b[0msubprocess\u001b[0m\u001b[0;34m\u001b[0m\u001b[0;34m\u001b[0m\u001b[0m\n\u001b[0;32m----> 2\u001b[0;31m \u001b[0msubprocess\u001b[0m\u001b[0;34m.\u001b[0m\u001b[0mcall\u001b[0m\u001b[0;34m(\u001b[0m\u001b[0mcreate_cmd\u001b[0m\u001b[0;34m)\u001b[0m\u001b[0;34m\u001b[0m\u001b[0;34m\u001b[0m\u001b[0m\n\u001b[0m",
      "\u001b[0;32m/usr/lib/python3.10/subprocess.py\u001b[0m in \u001b[0;36mcall\u001b[0;34m(timeout, *popenargs, **kwargs)\u001b[0m\n\u001b[1;32m    343\u001b[0m     \u001b[0mretcode\u001b[0m \u001b[0;34m=\u001b[0m \u001b[0mcall\u001b[0m\u001b[0;34m(\u001b[0m\u001b[0;34m[\u001b[0m\u001b[0;34m\"ls\"\u001b[0m\u001b[0;34m,\u001b[0m \u001b[0;34m\"-l\"\u001b[0m\u001b[0;34m]\u001b[0m\u001b[0;34m)\u001b[0m\u001b[0;34m\u001b[0m\u001b[0;34m\u001b[0m\u001b[0m\n\u001b[1;32m    344\u001b[0m     \"\"\"\n\u001b[0;32m--> 345\u001b[0;31m     \u001b[0;32mwith\u001b[0m \u001b[0mPopen\u001b[0m\u001b[0;34m(\u001b[0m\u001b[0;34m*\u001b[0m\u001b[0mpopenargs\u001b[0m\u001b[0;34m,\u001b[0m \u001b[0;34m**\u001b[0m\u001b[0mkwargs\u001b[0m\u001b[0;34m)\u001b[0m \u001b[0;32mas\u001b[0m \u001b[0mp\u001b[0m\u001b[0;34m:\u001b[0m\u001b[0;34m\u001b[0m\u001b[0;34m\u001b[0m\u001b[0m\n\u001b[0m\u001b[1;32m    346\u001b[0m         \u001b[0;32mtry\u001b[0m\u001b[0;34m:\u001b[0m\u001b[0;34m\u001b[0m\u001b[0;34m\u001b[0m\u001b[0m\n\u001b[1;32m    347\u001b[0m             \u001b[0;32mreturn\u001b[0m \u001b[0mp\u001b[0m\u001b[0;34m.\u001b[0m\u001b[0mwait\u001b[0m\u001b[0;34m(\u001b[0m\u001b[0mtimeout\u001b[0m\u001b[0;34m=\u001b[0m\u001b[0mtimeout\u001b[0m\u001b[0;34m)\u001b[0m\u001b[0;34m\u001b[0m\u001b[0;34m\u001b[0m\u001b[0m\n",
      "\u001b[0;32m/usr/lib/python3.10/subprocess.py\u001b[0m in \u001b[0;36m__init__\u001b[0;34m(self, args, bufsize, executable, stdin, stdout, stderr, preexec_fn, close_fds, shell, cwd, env, universal_newlines, startupinfo, creationflags, restore_signals, start_new_session, pass_fds, user, group, extra_groups, encoding, errors, text, umask, pipesize)\u001b[0m\n\u001b[1;32m    969\u001b[0m                             encoding=encoding, errors=errors)\n\u001b[1;32m    970\u001b[0m \u001b[0;34m\u001b[0m\u001b[0m\n\u001b[0;32m--> 971\u001b[0;31m             self._execute_child(args, executable, preexec_fn, close_fds,\n\u001b[0m\u001b[1;32m    972\u001b[0m                                 \u001b[0mpass_fds\u001b[0m\u001b[0;34m,\u001b[0m \u001b[0mcwd\u001b[0m\u001b[0;34m,\u001b[0m \u001b[0menv\u001b[0m\u001b[0;34m,\u001b[0m\u001b[0;34m\u001b[0m\u001b[0;34m\u001b[0m\u001b[0m\n\u001b[1;32m    973\u001b[0m                                 \u001b[0mstartupinfo\u001b[0m\u001b[0;34m,\u001b[0m \u001b[0mcreationflags\u001b[0m\u001b[0;34m,\u001b[0m \u001b[0mshell\u001b[0m\u001b[0;34m,\u001b[0m\u001b[0;34m\u001b[0m\u001b[0;34m\u001b[0m\u001b[0m\n",
      "\u001b[0;32m/usr/lib/python3.10/subprocess.py\u001b[0m in \u001b[0;36m_execute_child\u001b[0;34m(self, args, executable, preexec_fn, close_fds, pass_fds, cwd, env, startupinfo, creationflags, shell, p2cread, p2cwrite, c2pread, c2pwrite, errread, errwrite, restore_signals, gid, gids, uid, umask, start_new_session)\u001b[0m\n\u001b[1;32m   1845\u001b[0m                     \u001b[0;32mif\u001b[0m \u001b[0merrno_num\u001b[0m \u001b[0;34m!=\u001b[0m \u001b[0;36m0\u001b[0m\u001b[0;34m:\u001b[0m\u001b[0;34m\u001b[0m\u001b[0;34m\u001b[0m\u001b[0m\n\u001b[1;32m   1846\u001b[0m                         \u001b[0merr_msg\u001b[0m \u001b[0;34m=\u001b[0m \u001b[0mos\u001b[0m\u001b[0;34m.\u001b[0m\u001b[0mstrerror\u001b[0m\u001b[0;34m(\u001b[0m\u001b[0merrno_num\u001b[0m\u001b[0;34m)\u001b[0m\u001b[0;34m\u001b[0m\u001b[0;34m\u001b[0m\u001b[0m\n\u001b[0;32m-> 1847\u001b[0;31m                     \u001b[0;32mraise\u001b[0m \u001b[0mchild_exception_type\u001b[0m\u001b[0;34m(\u001b[0m\u001b[0merrno_num\u001b[0m\u001b[0;34m,\u001b[0m \u001b[0merr_msg\u001b[0m\u001b[0;34m,\u001b[0m \u001b[0merr_filename\u001b[0m\u001b[0;34m)\u001b[0m\u001b[0;34m\u001b[0m\u001b[0;34m\u001b[0m\u001b[0m\n\u001b[0m\u001b[1;32m   1848\u001b[0m                 \u001b[0;32mraise\u001b[0m \u001b[0mchild_exception_type\u001b[0m\u001b[0;34m(\u001b[0m\u001b[0merr_msg\u001b[0m\u001b[0;34m)\u001b[0m\u001b[0;34m\u001b[0m\u001b[0;34m\u001b[0m\u001b[0m\n\u001b[1;32m   1849\u001b[0m \u001b[0;34m\u001b[0m\u001b[0m\n",
      "\u001b[0;31mFileNotFoundError\u001b[0m: [Errno 2] No such file or directory: 'echo \"no\" | /home/ezetap-eze10194/Android/Sdk/tools/bin/avdmanager --silent create avd --force --name myAVD01 --package \"system-images;android-31;google_apis;x86_64\" --abi google_apis/x86_64'"
     ]
    }
   ],
   "source": [
    "import subprocess\n",
    "subprocess.pop(create_cmd)"
   ]
  },
  {
   "cell_type": "code",
   "execution_count": 28,
   "metadata": {},
   "outputs": [
    {
     "ename": "FileNotFoundError",
     "evalue": "[Errno 2] No such file or directory: 'echo \"no\" | /home/ezetap-eze10194/Android/Sdk/tools/bin/avdmanager --silent create avd --force --name myAVD01 --package \"system-images;android-31;google_apis;x86_64\" --abi google_apis/x86_64'",
     "output_type": "error",
     "traceback": [
      "\u001b[0;31m---------------------------------------------------------------------------\u001b[0m",
      "\u001b[0;31mFileNotFoundError\u001b[0m                         Traceback (most recent call last)",
      "\u001b[0;32m/tmp/ipykernel_125914/3328158448.py\u001b[0m in \u001b[0;36m<module>\u001b[0;34m\u001b[0m\n\u001b[1;32m      1\u001b[0m \u001b[0;32mimport\u001b[0m \u001b[0msubprocess\u001b[0m\u001b[0;34m\u001b[0m\u001b[0;34m\u001b[0m\u001b[0m\n\u001b[0;32m----> 2\u001b[0;31m \u001b[0mprocess\u001b[0m \u001b[0;34m=\u001b[0m \u001b[0msubprocess\u001b[0m\u001b[0;34m.\u001b[0m\u001b[0mPopen\u001b[0m\u001b[0;34m(\u001b[0m\u001b[0;34m[\u001b[0m\u001b[0mcreate_cmd\u001b[0m\u001b[0;34m]\u001b[0m\u001b[0;34m)\u001b[0m\u001b[0;34m\u001b[0m\u001b[0;34m\u001b[0m\u001b[0m\n\u001b[0m\u001b[1;32m      3\u001b[0m \u001b[0mexitCode\u001b[0m\u001b[0;34m=\u001b[0m\u001b[0mprocess\u001b[0m\u001b[0;34m.\u001b[0m\u001b[0mwait\u001b[0m\u001b[0;34m(\u001b[0m\u001b[0;34m)\u001b[0m\u001b[0;34m\u001b[0m\u001b[0;34m\u001b[0m\u001b[0m\n\u001b[1;32m      4\u001b[0m \u001b[0mexitCode\u001b[0m\u001b[0;34m\u001b[0m\u001b[0;34m\u001b[0m\u001b[0m\n",
      "\u001b[0;32m/usr/lib/python3.10/subprocess.py\u001b[0m in \u001b[0;36m__init__\u001b[0;34m(self, args, bufsize, executable, stdin, stdout, stderr, preexec_fn, close_fds, shell, cwd, env, universal_newlines, startupinfo, creationflags, restore_signals, start_new_session, pass_fds, user, group, extra_groups, encoding, errors, text, umask, pipesize)\u001b[0m\n\u001b[1;32m    969\u001b[0m                             encoding=encoding, errors=errors)\n\u001b[1;32m    970\u001b[0m \u001b[0;34m\u001b[0m\u001b[0m\n\u001b[0;32m--> 971\u001b[0;31m             self._execute_child(args, executable, preexec_fn, close_fds,\n\u001b[0m\u001b[1;32m    972\u001b[0m                                 \u001b[0mpass_fds\u001b[0m\u001b[0;34m,\u001b[0m \u001b[0mcwd\u001b[0m\u001b[0;34m,\u001b[0m \u001b[0menv\u001b[0m\u001b[0;34m,\u001b[0m\u001b[0;34m\u001b[0m\u001b[0;34m\u001b[0m\u001b[0m\n\u001b[1;32m    973\u001b[0m                                 \u001b[0mstartupinfo\u001b[0m\u001b[0;34m,\u001b[0m \u001b[0mcreationflags\u001b[0m\u001b[0;34m,\u001b[0m \u001b[0mshell\u001b[0m\u001b[0;34m,\u001b[0m\u001b[0;34m\u001b[0m\u001b[0;34m\u001b[0m\u001b[0m\n",
      "\u001b[0;32m/usr/lib/python3.10/subprocess.py\u001b[0m in \u001b[0;36m_execute_child\u001b[0;34m(self, args, executable, preexec_fn, close_fds, pass_fds, cwd, env, startupinfo, creationflags, shell, p2cread, p2cwrite, c2pread, c2pwrite, errread, errwrite, restore_signals, gid, gids, uid, umask, start_new_session)\u001b[0m\n\u001b[1;32m   1845\u001b[0m                     \u001b[0;32mif\u001b[0m \u001b[0merrno_num\u001b[0m \u001b[0;34m!=\u001b[0m \u001b[0;36m0\u001b[0m\u001b[0;34m:\u001b[0m\u001b[0;34m\u001b[0m\u001b[0;34m\u001b[0m\u001b[0m\n\u001b[1;32m   1846\u001b[0m                         \u001b[0merr_msg\u001b[0m \u001b[0;34m=\u001b[0m \u001b[0mos\u001b[0m\u001b[0;34m.\u001b[0m\u001b[0mstrerror\u001b[0m\u001b[0;34m(\u001b[0m\u001b[0merrno_num\u001b[0m\u001b[0;34m)\u001b[0m\u001b[0;34m\u001b[0m\u001b[0;34m\u001b[0m\u001b[0m\n\u001b[0;32m-> 1847\u001b[0;31m                     \u001b[0;32mraise\u001b[0m \u001b[0mchild_exception_type\u001b[0m\u001b[0;34m(\u001b[0m\u001b[0merrno_num\u001b[0m\u001b[0;34m,\u001b[0m \u001b[0merr_msg\u001b[0m\u001b[0;34m,\u001b[0m \u001b[0merr_filename\u001b[0m\u001b[0;34m)\u001b[0m\u001b[0;34m\u001b[0m\u001b[0;34m\u001b[0m\u001b[0m\n\u001b[0m\u001b[1;32m   1848\u001b[0m                 \u001b[0;32mraise\u001b[0m \u001b[0mchild_exception_type\u001b[0m\u001b[0;34m(\u001b[0m\u001b[0merr_msg\u001b[0m\u001b[0;34m)\u001b[0m\u001b[0;34m\u001b[0m\u001b[0;34m\u001b[0m\u001b[0m\n\u001b[1;32m   1849\u001b[0m \u001b[0;34m\u001b[0m\u001b[0m\n",
      "\u001b[0;31mFileNotFoundError\u001b[0m: [Errno 2] No such file or directory: 'echo \"no\" | /home/ezetap-eze10194/Android/Sdk/tools/bin/avdmanager --silent create avd --force --name myAVD01 --package \"system-images;android-31;google_apis;x86_64\" --abi google_apis/x86_64'"
     ]
    }
   ],
   "source": [
    "import subprocess\n",
    "process = subprocess.Popen([create_cmd])\n",
    "exitCode=process.wait()\n",
    "exitCode"
   ]
  },
  {
   "cell_type": "code",
   "execution_count": null,
   "metadata": {},
   "outputs": [],
   "source": []
  }
 ],
 "metadata": {
  "kernelspec": {
   "display_name": "Python 3.10.8 64-bit",
   "language": "python",
   "name": "python3"
  },
  "language_info": {
   "codemirror_mode": {
    "name": "ipython",
    "version": 3
   },
   "file_extension": ".py",
   "mimetype": "text/x-python",
   "name": "python",
   "nbconvert_exporter": "python",
   "pygments_lexer": "ipython3",
   "version": "3.10.8"
  },
  "orig_nbformat": 4,
  "vscode": {
   "interpreter": {
    "hash": "97cc609b13305c559618ec78a438abc56230b9381f827f22d070313b9a1f3777"
   }
  }
 },
 "nbformat": 4,
 "nbformat_minor": 2
}
